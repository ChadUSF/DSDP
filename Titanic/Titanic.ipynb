{
 "cells": [
  {
   "cell_type": "markdown",
   "id": "f4bd6403",
   "metadata": {},
   "source": [
    "# Titanic - ML from disaster\n",
    "\n",
    "Use machine learning to create a model that predicts which passengers survived the Titanic shipwreck."
   ]
  },
  {
   "cell_type": "code",
   "execution_count": 2,
   "id": "bee36d65",
   "metadata": {},
   "outputs": [],
   "source": [
    "import numpy as np\n",
    "import pandas as pd\n",
    "\n",
    "np.random.seed(13)"
   ]
  },
  {
   "cell_type": "raw",
   "id": "18510d03-0cbe-4a6f-89ea-eb2b9e6655b1",
   "metadata": {},
   "source": [
    "# Import training and test sets\n",
    "train_set = pd.read_csv(\"train.csv\")\n",
    "test_set = pd.read_csv(\"test.csv\")\n",
    "\n",
    "# Review dataset\n",
    "train_set.head()"
   ]
  },
  {
   "cell_type": "raw",
   "id": "a15d8951-8eab-4719-b8db-f11515c34d28",
   "metadata": {},
   "source": [
    "test_set.head()"
   ]
  },
  {
   "cell_type": "raw",
   "id": "d005e6ac-1c10-45cc-a9ae-8c6b63f380c2",
   "metadata": {},
   "source": [
    "# Drop columns deemed arbitrary\n",
    "train = train_set.drop(['Name', 'Ticket', 'Cabin','PassengerId'], axis=1)\n",
    "test = test_set.drop(['Name', 'Ticket', 'Cabin','PassengerId'], axis=1)"
   ]
  },
  {
   "cell_type": "code",
   "execution_count": 3,
   "id": "b56b651f-e7cb-44b1-ab77-ea90c95a7061",
   "metadata": {},
   "outputs": [],
   "source": [
    "titanic = pd.read_csv(\"titanic.csv\")\n",
    "df = titanic.drop(['Name', 'Ticket', 'Cabin','PassengerId'], axis=1)\n"
   ]
  },
  {
   "cell_type": "code",
   "execution_count": 4,
   "id": "722dfdbe-ec80-4a98-8194-fdc9caddbb63",
   "metadata": {},
   "outputs": [],
   "source": [
    "# Split data \n",
    "from sklearn.model_selection import train_test_split\n",
    "\n",
    "train, test = train_test_split(df, test_size=0.3, random_state=13)"
   ]
  },
  {
   "cell_type": "code",
   "execution_count": 5,
   "id": "290ba837",
   "metadata": {},
   "outputs": [
    {
     "data": {
      "text/plain": [
       "(916, 8)"
      ]
     },
     "execution_count": 5,
     "metadata": {},
     "output_type": "execute_result"
    }
   ],
   "source": [
    "# Review shape of training data\n",
    "train.shape"
   ]
  },
  {
   "cell_type": "code",
   "execution_count": 6,
   "id": "a2ef03af",
   "metadata": {},
   "outputs": [
    {
     "data": {
      "text/plain": [
       "(393, 8)"
      ]
     },
     "execution_count": 6,
     "metadata": {},
     "output_type": "execute_result"
    }
   ],
   "source": [
    "# Review shape of test data\n",
    "test.shape"
   ]
  },
  {
   "cell_type": "code",
   "execution_count": 7,
   "id": "9af5a578",
   "metadata": {},
   "outputs": [],
   "source": [
    "# Set target variable and remove target from input data.\n",
    "\n",
    "train_y = train[['Survived']]\n",
    "test_y = test[['Survived']]\n",
    "\n",
    "train_inputs = train.drop(['Survived'], axis=1)\n",
    "test_inputs = test.drop(['Survived'], axis=1)"
   ]
  },
  {
   "cell_type": "code",
   "execution_count": 8,
   "id": "d48e4937",
   "metadata": {},
   "outputs": [
    {
     "data": {
      "text/html": [
       "<div>\n",
       "<style scoped>\n",
       "    .dataframe tbody tr th:only-of-type {\n",
       "        vertical-align: middle;\n",
       "    }\n",
       "\n",
       "    .dataframe tbody tr th {\n",
       "        vertical-align: top;\n",
       "    }\n",
       "\n",
       "    .dataframe thead th {\n",
       "        text-align: right;\n",
       "    }\n",
       "</style>\n",
       "<table border=\"1\" class=\"dataframe\">\n",
       "  <thead>\n",
       "    <tr style=\"text-align: right;\">\n",
       "      <th></th>\n",
       "      <th>Pclass</th>\n",
       "      <th>Sex</th>\n",
       "      <th>Age</th>\n",
       "      <th>SibSp</th>\n",
       "      <th>Parch</th>\n",
       "      <th>Fare</th>\n",
       "      <th>Embarked</th>\n",
       "    </tr>\n",
       "  </thead>\n",
       "  <tbody>\n",
       "    <tr>\n",
       "      <th>308</th>\n",
       "      <td>2</td>\n",
       "      <td>male</td>\n",
       "      <td>30.0</td>\n",
       "      <td>1</td>\n",
       "      <td>0</td>\n",
       "      <td>24.00</td>\n",
       "      <td>C</td>\n",
       "    </tr>\n",
       "    <tr>\n",
       "      <th>714</th>\n",
       "      <td>2</td>\n",
       "      <td>male</td>\n",
       "      <td>52.0</td>\n",
       "      <td>0</td>\n",
       "      <td>0</td>\n",
       "      <td>13.00</td>\n",
       "      <td>S</td>\n",
       "    </tr>\n",
       "    <tr>\n",
       "      <th>1269</th>\n",
       "      <td>1</td>\n",
       "      <td>male</td>\n",
       "      <td>55.0</td>\n",
       "      <td>0</td>\n",
       "      <td>0</td>\n",
       "      <td>50.00</td>\n",
       "      <td>S</td>\n",
       "    </tr>\n",
       "    <tr>\n",
       "      <th>979</th>\n",
       "      <td>3</td>\n",
       "      <td>female</td>\n",
       "      <td>30.0</td>\n",
       "      <td>0</td>\n",
       "      <td>0</td>\n",
       "      <td>7.75</td>\n",
       "      <td>Q</td>\n",
       "    </tr>\n",
       "    <tr>\n",
       "      <th>1080</th>\n",
       "      <td>2</td>\n",
       "      <td>male</td>\n",
       "      <td>40.0</td>\n",
       "      <td>0</td>\n",
       "      <td>0</td>\n",
       "      <td>13.00</td>\n",
       "      <td>S</td>\n",
       "    </tr>\n",
       "  </tbody>\n",
       "</table>\n",
       "</div>"
      ],
      "text/plain": [
       "      Pclass     Sex   Age  SibSp  Parch   Fare Embarked\n",
       "308        2    male  30.0      1      0  24.00        C\n",
       "714        2    male  52.0      0      0  13.00        S\n",
       "1269       1    male  55.0      0      0  50.00        S\n",
       "979        3  female  30.0      0      0   7.75        Q\n",
       "1080       2    male  40.0      0      0  13.00        S"
      ]
     },
     "execution_count": 8,
     "metadata": {},
     "output_type": "execute_result"
    }
   ],
   "source": [
    "test_inputs.head()"
   ]
  },
  {
   "cell_type": "code",
   "execution_count": 9,
   "id": "18c03fbf",
   "metadata": {},
   "outputs": [],
   "source": [
    "from sklearn.compose import ColumnTransformer\n",
    "from sklearn.pipeline import Pipeline\n",
    "from sklearn.impute import SimpleImputer\n",
    "from sklearn.preprocessing import StandardScaler\n",
    "from sklearn.preprocessing import OneHotEncoder\n",
    "\n",
    "from sklearn.preprocessing import FunctionTransformer"
   ]
  },
  {
   "cell_type": "code",
   "execution_count": 10,
   "id": "5adb5aed",
   "metadata": {},
   "outputs": [
    {
     "data": {
      "text/html": [
       "<div>\n",
       "<style scoped>\n",
       "    .dataframe tbody tr th:only-of-type {\n",
       "        vertical-align: middle;\n",
       "    }\n",
       "\n",
       "    .dataframe tbody tr th {\n",
       "        vertical-align: top;\n",
       "    }\n",
       "\n",
       "    .dataframe thead th {\n",
       "        text-align: right;\n",
       "    }\n",
       "</style>\n",
       "<table border=\"1\" class=\"dataframe\">\n",
       "  <thead>\n",
       "    <tr style=\"text-align: right;\">\n",
       "      <th></th>\n",
       "      <th>Pclass</th>\n",
       "      <th>Sex</th>\n",
       "      <th>Age</th>\n",
       "      <th>SibSp</th>\n",
       "      <th>Parch</th>\n",
       "      <th>Fare</th>\n",
       "      <th>Embarked</th>\n",
       "    </tr>\n",
       "  </thead>\n",
       "  <tbody>\n",
       "    <tr>\n",
       "      <th>624</th>\n",
       "      <td>3</td>\n",
       "      <td>male</td>\n",
       "      <td>21.00</td>\n",
       "      <td>0</td>\n",
       "      <td>0</td>\n",
       "      <td>16.10</td>\n",
       "      <td>S</td>\n",
       "    </tr>\n",
       "    <tr>\n",
       "      <th>676</th>\n",
       "      <td>3</td>\n",
       "      <td>male</td>\n",
       "      <td>24.50</td>\n",
       "      <td>0</td>\n",
       "      <td>0</td>\n",
       "      <td>8.05</td>\n",
       "      <td>S</td>\n",
       "    </tr>\n",
       "    <tr>\n",
       "      <th>1141</th>\n",
       "      <td>2</td>\n",
       "      <td>female</td>\n",
       "      <td>0.92</td>\n",
       "      <td>1</td>\n",
       "      <td>2</td>\n",
       "      <td>27.75</td>\n",
       "      <td>S</td>\n",
       "    </tr>\n",
       "    <tr>\n",
       "      <th>795</th>\n",
       "      <td>2</td>\n",
       "      <td>male</td>\n",
       "      <td>39.00</td>\n",
       "      <td>0</td>\n",
       "      <td>0</td>\n",
       "      <td>13.00</td>\n",
       "      <td>S</td>\n",
       "    </tr>\n",
       "    <tr>\n",
       "      <th>1177</th>\n",
       "      <td>3</td>\n",
       "      <td>male</td>\n",
       "      <td>30.00</td>\n",
       "      <td>0</td>\n",
       "      <td>0</td>\n",
       "      <td>7.25</td>\n",
       "      <td>S</td>\n",
       "    </tr>\n",
       "  </tbody>\n",
       "</table>\n",
       "</div>"
      ],
      "text/plain": [
       "      Pclass     Sex    Age  SibSp  Parch   Fare Embarked\n",
       "624        3    male  21.00      0      0  16.10        S\n",
       "676        3    male  24.50      0      0   8.05        S\n",
       "1141       2  female   0.92      1      2  27.75        S\n",
       "795        2    male  39.00      0      0  13.00        S\n",
       "1177       3    male  30.00      0      0   7.25        S"
      ]
     },
     "execution_count": 10,
     "metadata": {},
     "output_type": "execute_result"
    }
   ],
   "source": [
    "# Reveiw training dataset\n",
    "train_inputs.head()"
   ]
  },
  {
   "cell_type": "code",
   "execution_count": 11,
   "id": "d9b7d480",
   "metadata": {},
   "outputs": [
    {
     "data": {
      "text/plain": [
       "Pclass        int64\n",
       "Sex          object\n",
       "Age         float64\n",
       "SibSp         int64\n",
       "Parch         int64\n",
       "Fare        float64\n",
       "Embarked     object\n",
       "dtype: object"
      ]
     },
     "execution_count": 11,
     "metadata": {},
     "output_type": "execute_result"
    }
   ],
   "source": [
    "# Review column types\n",
    "train_inputs.dtypes"
   ]
  },
  {
   "cell_type": "code",
   "execution_count": 12,
   "id": "9caae647",
   "metadata": {},
   "outputs": [],
   "source": [
    "train_inputs['Pclass']=train_inputs['Pclass'].astype('object')"
   ]
  },
  {
   "cell_type": "code",
   "execution_count": 13,
   "id": "0be9b034",
   "metadata": {},
   "outputs": [
    {
     "data": {
      "text/plain": [
       "Pclass       object\n",
       "Sex          object\n",
       "Age         float64\n",
       "SibSp         int64\n",
       "Parch         int64\n",
       "Fare        float64\n",
       "Embarked     object\n",
       "dtype: object"
      ]
     },
     "execution_count": 13,
     "metadata": {},
     "output_type": "execute_result"
    }
   ],
   "source": [
    "train_inputs.dtypes"
   ]
  },
  {
   "cell_type": "code",
   "execution_count": 14,
   "id": "e1b14a04",
   "metadata": {},
   "outputs": [],
   "source": [
    "# Identify the numerical columns\n",
    "numeric_columns = train_inputs.select_dtypes(include=[np.number]).columns.to_list()\n",
    "\n",
    "# Identify the categorical columns\n",
    "categorical_columns = train_inputs.select_dtypes('object').columns.to_list()"
   ]
  },
  {
   "cell_type": "code",
   "execution_count": 15,
   "id": "86888fec",
   "metadata": {},
   "outputs": [
    {
     "data": {
      "text/plain": [
       "['Age', 'SibSp', 'Parch', 'Fare']"
      ]
     },
     "execution_count": 15,
     "metadata": {},
     "output_type": "execute_result"
    }
   ],
   "source": [
    "# Confirm numeric cols\n",
    "numeric_columns"
   ]
  },
  {
   "cell_type": "code",
   "execution_count": 16,
   "id": "af05eca4",
   "metadata": {},
   "outputs": [
    {
     "data": {
      "text/plain": [
       "['Pclass', 'Sex', 'Embarked']"
      ]
     },
     "execution_count": 16,
     "metadata": {},
     "output_type": "execute_result"
    }
   ],
   "source": [
    "# Confirm cat cols\n",
    "categorical_columns"
   ]
  },
  {
   "cell_type": "code",
   "execution_count": 17,
   "id": "89f01702",
   "metadata": {},
   "outputs": [],
   "source": [
    "# Create numeric pipeline\n",
    "numeric_transformer = Pipeline(steps=[\n",
    "                ('imputer', SimpleImputer(strategy='mean')),\n",
    "                ('scaler', StandardScaler())])"
   ]
  },
  {
   "cell_type": "code",
   "execution_count": 18,
   "id": "7b0e9eb3",
   "metadata": {},
   "outputs": [],
   "source": [
    "# Create cat pipeline\n",
    "categorical_transformer = Pipeline(steps=[\n",
    "    ('imputer', SimpleImputer(strategy='constant', fill_value='unknown')),\n",
    "    ('onehot', OneHotEncoder(handle_unknown='ignore'))])"
   ]
  },
  {
   "cell_type": "code",
   "execution_count": 19,
   "id": "aa61635b",
   "metadata": {},
   "outputs": [],
   "source": [
    "# Create preprocessor\n",
    "preprocessor = ColumnTransformer([\n",
    "        ('num', numeric_transformer, numeric_columns),\n",
    "        ('cat', categorical_transformer, categorical_columns)],\n",
    "        remainder='drop')"
   ]
  },
  {
   "cell_type": "code",
   "execution_count": 20,
   "id": "9ab26d95",
   "metadata": {},
   "outputs": [
    {
     "data": {
      "text/plain": [
       "(916, 13)"
      ]
     },
     "execution_count": 20,
     "metadata": {},
     "output_type": "execute_result"
    }
   ],
   "source": [
    "# #Fit and transform the train data\n",
    "train_x = preprocessor.fit_transform(train_inputs)\n",
    "train_x.shape"
   ]
  },
  {
   "cell_type": "code",
   "execution_count": 21,
   "id": "06edf237",
   "metadata": {},
   "outputs": [
    {
     "data": {
      "text/plain": [
       "(393, 13)"
      ]
     },
     "execution_count": 21,
     "metadata": {},
     "output_type": "execute_result"
    }
   ],
   "source": [
    "#Fit and transform the test data\n",
    "test_x = preprocessor.transform(test_inputs)\n",
    "\n",
    "test_x.shape"
   ]
  },
  {
   "cell_type": "code",
   "execution_count": 22,
   "id": "0110b62f",
   "metadata": {},
   "outputs": [
    {
     "data": {
      "text/html": [
       "<div>\n",
       "<style scoped>\n",
       "    .dataframe tbody tr th:only-of-type {\n",
       "        vertical-align: middle;\n",
       "    }\n",
       "\n",
       "    .dataframe tbody tr th {\n",
       "        vertical-align: top;\n",
       "    }\n",
       "\n",
       "    .dataframe thead th {\n",
       "        text-align: right;\n",
       "    }\n",
       "</style>\n",
       "<table border=\"1\" class=\"dataframe\">\n",
       "  <thead>\n",
       "    <tr style=\"text-align: right;\">\n",
       "      <th></th>\n",
       "      <th>Survived</th>\n",
       "    </tr>\n",
       "  </thead>\n",
       "  <tbody>\n",
       "    <tr>\n",
       "      <th>624</th>\n",
       "      <td>0</td>\n",
       "    </tr>\n",
       "    <tr>\n",
       "      <th>676</th>\n",
       "      <td>0</td>\n",
       "    </tr>\n",
       "    <tr>\n",
       "      <th>1141</th>\n",
       "      <td>1</td>\n",
       "    </tr>\n",
       "    <tr>\n",
       "      <th>795</th>\n",
       "      <td>0</td>\n",
       "    </tr>\n",
       "    <tr>\n",
       "      <th>1177</th>\n",
       "      <td>0</td>\n",
       "    </tr>\n",
       "    <tr>\n",
       "      <th>...</th>\n",
       "      <td>...</td>\n",
       "    </tr>\n",
       "    <tr>\n",
       "      <th>866</th>\n",
       "      <td>1</td>\n",
       "    </tr>\n",
       "    <tr>\n",
       "      <th>742</th>\n",
       "      <td>1</td>\n",
       "    </tr>\n",
       "    <tr>\n",
       "      <th>74</th>\n",
       "      <td>1</td>\n",
       "    </tr>\n",
       "    <tr>\n",
       "      <th>176</th>\n",
       "      <td>0</td>\n",
       "    </tr>\n",
       "    <tr>\n",
       "      <th>338</th>\n",
       "      <td>1</td>\n",
       "    </tr>\n",
       "  </tbody>\n",
       "</table>\n",
       "<p>916 rows × 1 columns</p>\n",
       "</div>"
      ],
      "text/plain": [
       "      Survived\n",
       "624          0\n",
       "676          0\n",
       "1141         1\n",
       "795          0\n",
       "1177         0\n",
       "...        ...\n",
       "866          1\n",
       "742          1\n",
       "74           1\n",
       "176          0\n",
       "338          1\n",
       "\n",
       "[916 rows x 1 columns]"
      ]
     },
     "execution_count": 22,
     "metadata": {},
     "output_type": "execute_result"
    }
   ],
   "source": [
    "train_y"
   ]
  },
  {
   "cell_type": "code",
   "execution_count": 23,
   "id": "1939e2a2",
   "metadata": {},
   "outputs": [
    {
     "data": {
      "text/html": [
       "<style>#sk-container-id-1 {color: black;background-color: white;}#sk-container-id-1 pre{padding: 0;}#sk-container-id-1 div.sk-toggleable {background-color: white;}#sk-container-id-1 label.sk-toggleable__label {cursor: pointer;display: block;width: 100%;margin-bottom: 0;padding: 0.3em;box-sizing: border-box;text-align: center;}#sk-container-id-1 label.sk-toggleable__label-arrow:before {content: \"▸\";float: left;margin-right: 0.25em;color: #696969;}#sk-container-id-1 label.sk-toggleable__label-arrow:hover:before {color: black;}#sk-container-id-1 div.sk-estimator:hover label.sk-toggleable__label-arrow:before {color: black;}#sk-container-id-1 div.sk-toggleable__content {max-height: 0;max-width: 0;overflow: hidden;text-align: left;background-color: #f0f8ff;}#sk-container-id-1 div.sk-toggleable__content pre {margin: 0.2em;color: black;border-radius: 0.25em;background-color: #f0f8ff;}#sk-container-id-1 input.sk-toggleable__control:checked~div.sk-toggleable__content {max-height: 200px;max-width: 100%;overflow: auto;}#sk-container-id-1 input.sk-toggleable__control:checked~label.sk-toggleable__label-arrow:before {content: \"▾\";}#sk-container-id-1 div.sk-estimator input.sk-toggleable__control:checked~label.sk-toggleable__label {background-color: #d4ebff;}#sk-container-id-1 div.sk-label input.sk-toggleable__control:checked~label.sk-toggleable__label {background-color: #d4ebff;}#sk-container-id-1 input.sk-hidden--visually {border: 0;clip: rect(1px 1px 1px 1px);clip: rect(1px, 1px, 1px, 1px);height: 1px;margin: -1px;overflow: hidden;padding: 0;position: absolute;width: 1px;}#sk-container-id-1 div.sk-estimator {font-family: monospace;background-color: #f0f8ff;border: 1px dotted black;border-radius: 0.25em;box-sizing: border-box;margin-bottom: 0.5em;}#sk-container-id-1 div.sk-estimator:hover {background-color: #d4ebff;}#sk-container-id-1 div.sk-parallel-item::after {content: \"\";width: 100%;border-bottom: 1px solid gray;flex-grow: 1;}#sk-container-id-1 div.sk-label:hover label.sk-toggleable__label {background-color: #d4ebff;}#sk-container-id-1 div.sk-serial::before {content: \"\";position: absolute;border-left: 1px solid gray;box-sizing: border-box;top: 0;bottom: 0;left: 50%;z-index: 0;}#sk-container-id-1 div.sk-serial {display: flex;flex-direction: column;align-items: center;background-color: white;padding-right: 0.2em;padding-left: 0.2em;position: relative;}#sk-container-id-1 div.sk-item {position: relative;z-index: 1;}#sk-container-id-1 div.sk-parallel {display: flex;align-items: stretch;justify-content: center;background-color: white;position: relative;}#sk-container-id-1 div.sk-item::before, #sk-container-id-1 div.sk-parallel-item::before {content: \"\";position: absolute;border-left: 1px solid gray;box-sizing: border-box;top: 0;bottom: 0;left: 50%;z-index: -1;}#sk-container-id-1 div.sk-parallel-item {display: flex;flex-direction: column;z-index: 1;position: relative;background-color: white;}#sk-container-id-1 div.sk-parallel-item:first-child::after {align-self: flex-end;width: 50%;}#sk-container-id-1 div.sk-parallel-item:last-child::after {align-self: flex-start;width: 50%;}#sk-container-id-1 div.sk-parallel-item:only-child::after {width: 0;}#sk-container-id-1 div.sk-dashed-wrapped {border: 1px dashed gray;margin: 0 0.4em 0.5em 0.4em;box-sizing: border-box;padding-bottom: 0.4em;background-color: white;}#sk-container-id-1 div.sk-label label {font-family: monospace;font-weight: bold;display: inline-block;line-height: 1.2em;}#sk-container-id-1 div.sk-label-container {text-align: center;}#sk-container-id-1 div.sk-container {/* jupyter's `normalize.less` sets `[hidden] { display: none; }` but bootstrap.min.css set `[hidden] { display: none !important; }` so we also need the `!important` here to be able to override the default hidden behavior on the sphinx rendered scikit-learn.org. See: https://github.com/scikit-learn/scikit-learn/issues/21755 */display: inline-block !important;position: relative;}#sk-container-id-1 div.sk-text-repr-fallback {display: none;}</style><div id=\"sk-container-id-1\" class=\"sk-top-container\"><div class=\"sk-text-repr-fallback\"><pre>DummyClassifier(strategy=&#x27;most_frequent&#x27;)</pre><b>In a Jupyter environment, please rerun this cell to show the HTML representation or trust the notebook. <br />On GitHub, the HTML representation is unable to render, please try loading this page with nbviewer.org.</b></div><div class=\"sk-container\" hidden><div class=\"sk-item\"><div class=\"sk-estimator sk-toggleable\"><input class=\"sk-toggleable__control sk-hidden--visually\" id=\"sk-estimator-id-1\" type=\"checkbox\" checked><label for=\"sk-estimator-id-1\" class=\"sk-toggleable__label sk-toggleable__label-arrow\">DummyClassifier</label><div class=\"sk-toggleable__content\"><pre>DummyClassifier(strategy=&#x27;most_frequent&#x27;)</pre></div></div></div></div></div>"
      ],
      "text/plain": [
       "DummyClassifier(strategy='most_frequent')"
      ]
     },
     "execution_count": 23,
     "metadata": {},
     "output_type": "execute_result"
    }
   ],
   "source": [
    "# Determine a baseline accuracy using most frequent stra\n",
    "\n",
    "from sklearn.dummy import DummyClassifier\n",
    "from sklearn.metrics import accuracy_score\n",
    "\n",
    "dummy_clf = DummyClassifier(strategy=\"most_frequent\")\n",
    "\n",
    "dummy_clf.fit(train_x, train_y)"
   ]
  },
  {
   "cell_type": "code",
   "execution_count": 24,
   "id": "e1ad6807",
   "metadata": {},
   "outputs": [
    {
     "name": "stdout",
     "output_type": "stream",
     "text": [
      "Baseline Train Accuracy: 0.62882096069869\n"
     ]
    }
   ],
   "source": [
    "# Baseline Train Accuracy\n",
    "dummy_train_pred = dummy_clf.predict(train_x)\n",
    "\n",
    "baseline_train_acc = accuracy_score(train_y, dummy_train_pred)\n",
    "\n",
    "print('Baseline Train Accuracy: {}' .format(baseline_train_acc))"
   ]
  },
  {
   "cell_type": "code",
   "execution_count": 25,
   "id": "8930d12c",
   "metadata": {},
   "outputs": [
    {
     "name": "stdout",
     "output_type": "stream",
     "text": [
      "Baseline Test Accuracy: 0.6081424936386769\n"
     ]
    }
   ],
   "source": [
    "# Baseline Test Accuracy\n",
    "dummy_test_pred = dummy_clf.predict(test_x)\n",
    "\n",
    "baseline_test_acc = accuracy_score(test_y, dummy_test_pred)\n",
    "\n",
    "print('Baseline Test Accuracy: {}' .format(baseline_test_acc))"
   ]
  },
  {
   "cell_type": "markdown",
   "id": "ce931d06-9886-449f-925f-d504b5146cf6",
   "metadata": {},
   "source": [
    "## Create NN Model"
   ]
  },
  {
   "cell_type": "code",
   "execution_count": 26,
   "id": "21b2f74c",
   "metadata": {},
   "outputs": [],
   "source": [
    "# Create a single layer neural network model\n",
    "import tensorflow as tf\n",
    "from tensorflow import keras\n",
    "\n",
    "np.random.seed(13)\n",
    "tf.random.set_seed(13)\n",
    "\n",
    "NN = keras.models.Sequential()\n",
    "\n",
    "NN.add(keras.layers.Input(shape=(train_x.shape[1],)))\n",
    "NN.add(keras.layers.Dense(16, activation='relu'))\n",
    "NN.add(keras.layers.Dense(1, activation='sigmoid'))"
   ]
  },
  {
   "cell_type": "code",
   "execution_count": 27,
   "id": "a66354e0",
   "metadata": {},
   "outputs": [],
   "source": [
    "# Compile model\n",
    "\n",
    "#Optimizer:\n",
    "adam = keras.optimizers.Adam(learning_rate=0.01)\n",
    "\n",
    "NN.compile(loss='binary_crossentropy', optimizer=adam, metrics=['accuracy'])"
   ]
  },
  {
   "cell_type": "code",
   "execution_count": 28,
   "id": "eeb81589",
   "metadata": {},
   "outputs": [
    {
     "name": "stdout",
     "output_type": "stream",
     "text": [
      "Epoch 1/20\n",
      "\u001b[1m10/10\u001b[0m \u001b[32m━━━━━━━━━━━━━━━━━━━━\u001b[0m\u001b[37m\u001b[0m \u001b[1m2s\u001b[0m 36ms/step - accuracy: 0.6296 - loss: 0.6613 - val_accuracy: 0.7786 - val_loss: 0.5665\n",
      "Epoch 2/20\n",
      "\u001b[1m10/10\u001b[0m \u001b[32m━━━━━━━━━━━━━━━━━━━━\u001b[0m\u001b[37m\u001b[0m \u001b[1m0s\u001b[0m 5ms/step - accuracy: 0.8354 - loss: 0.5031 - val_accuracy: 0.8168 - val_loss: 0.4764\n",
      "Epoch 3/20\n",
      "\u001b[1m10/10\u001b[0m \u001b[32m━━━━━━━━━━━━━━━━━━━━\u001b[0m\u001b[37m\u001b[0m \u001b[1m0s\u001b[0m 5ms/step - accuracy: 0.8549 - loss: 0.4122 - val_accuracy: 0.8168 - val_loss: 0.4321\n",
      "Epoch 4/20\n",
      "\u001b[1m10/10\u001b[0m \u001b[32m━━━━━━━━━━━━━━━━━━━━\u001b[0m\u001b[37m\u001b[0m \u001b[1m0s\u001b[0m 6ms/step - accuracy: 0.8530 - loss: 0.3797 - val_accuracy: 0.8244 - val_loss: 0.4229\n",
      "Epoch 5/20\n",
      "\u001b[1m10/10\u001b[0m \u001b[32m━━━━━━━━━━━━━━━━━━━━\u001b[0m\u001b[37m\u001b[0m \u001b[1m0s\u001b[0m 6ms/step - accuracy: 0.8616 - loss: 0.3771 - val_accuracy: 0.8270 - val_loss: 0.4126\n",
      "Epoch 6/20\n",
      "\u001b[1m10/10\u001b[0m \u001b[32m━━━━━━━━━━━━━━━━━━━━\u001b[0m\u001b[37m\u001b[0m \u001b[1m0s\u001b[0m 6ms/step - accuracy: 0.8580 - loss: 0.3726 - val_accuracy: 0.8372 - val_loss: 0.4009\n",
      "Epoch 7/20\n",
      "\u001b[1m10/10\u001b[0m \u001b[32m━━━━━━━━━━━━━━━━━━━━\u001b[0m\u001b[37m\u001b[0m \u001b[1m0s\u001b[0m 8ms/step - accuracy: 0.8566 - loss: 0.3664 - val_accuracy: 0.8346 - val_loss: 0.3942\n",
      "Epoch 8/20\n",
      "\u001b[1m10/10\u001b[0m \u001b[32m━━━━━━━━━━━━━━━━━━━━\u001b[0m\u001b[37m\u001b[0m \u001b[1m0s\u001b[0m 7ms/step - accuracy: 0.8570 - loss: 0.3624 - val_accuracy: 0.8346 - val_loss: 0.3907\n",
      "Epoch 9/20\n",
      "\u001b[1m10/10\u001b[0m \u001b[32m━━━━━━━━━━━━━━━━━━━━\u001b[0m\u001b[37m\u001b[0m \u001b[1m0s\u001b[0m 7ms/step - accuracy: 0.8591 - loss: 0.3601 - val_accuracy: 0.8346 - val_loss: 0.3887\n",
      "Epoch 10/20\n",
      "\u001b[1m10/10\u001b[0m \u001b[32m━━━━━━━━━━━━━━━━━━━━\u001b[0m\u001b[37m\u001b[0m \u001b[1m0s\u001b[0m 7ms/step - accuracy: 0.8600 - loss: 0.3590 - val_accuracy: 0.8372 - val_loss: 0.3865\n",
      "Epoch 11/20\n",
      "\u001b[1m10/10\u001b[0m \u001b[32m━━━━━━━━━━━━━━━━━━━━\u001b[0m\u001b[37m\u001b[0m \u001b[1m0s\u001b[0m 5ms/step - accuracy: 0.8607 - loss: 0.3578 - val_accuracy: 0.8372 - val_loss: 0.3845\n",
      "Epoch 12/20\n",
      "\u001b[1m10/10\u001b[0m \u001b[32m━━━━━━━━━━━━━━━━━━━━\u001b[0m\u001b[37m\u001b[0m \u001b[1m0s\u001b[0m 5ms/step - accuracy: 0.8609 - loss: 0.3565 - val_accuracy: 0.8372 - val_loss: 0.3830\n",
      "Epoch 13/20\n",
      "\u001b[1m10/10\u001b[0m \u001b[32m━━━━━━━━━━━━━━━━━━━━\u001b[0m\u001b[37m\u001b[0m \u001b[1m0s\u001b[0m 5ms/step - accuracy: 0.8616 - loss: 0.3552 - val_accuracy: 0.8372 - val_loss: 0.3817\n",
      "Epoch 14/20\n",
      "\u001b[1m10/10\u001b[0m \u001b[32m━━━━━━━━━━━━━━━━━━━━\u001b[0m\u001b[37m\u001b[0m \u001b[1m0s\u001b[0m 5ms/step - accuracy: 0.8616 - loss: 0.3542 - val_accuracy: 0.8448 - val_loss: 0.3799\n",
      "Epoch 15/20\n",
      "\u001b[1m10/10\u001b[0m \u001b[32m━━━━━━━━━━━━━━━━━━━━\u001b[0m\u001b[37m\u001b[0m \u001b[1m0s\u001b[0m 5ms/step - accuracy: 0.8616 - loss: 0.3534 - val_accuracy: 0.8473 - val_loss: 0.3781\n",
      "Epoch 16/20\n",
      "\u001b[1m10/10\u001b[0m \u001b[32m━━━━━━━━━━━━━━━━━━━━\u001b[0m\u001b[37m\u001b[0m \u001b[1m0s\u001b[0m 5ms/step - accuracy: 0.8623 - loss: 0.3525 - val_accuracy: 0.8473 - val_loss: 0.3766\n",
      "Epoch 17/20\n",
      "\u001b[1m10/10\u001b[0m \u001b[32m━━━━━━━━━━━━━━━━━━━━\u001b[0m\u001b[37m\u001b[0m \u001b[1m0s\u001b[0m 4ms/step - accuracy: 0.8631 - loss: 0.3517 - val_accuracy: 0.8473 - val_loss: 0.3758\n",
      "Epoch 18/20\n",
      "\u001b[1m10/10\u001b[0m \u001b[32m━━━━━━━━━━━━━━━━━━━━\u001b[0m\u001b[37m\u001b[0m \u001b[1m0s\u001b[0m 5ms/step - accuracy: 0.8631 - loss: 0.3512 - val_accuracy: 0.8499 - val_loss: 0.3746\n",
      "Epoch 19/20\n",
      "\u001b[1m10/10\u001b[0m \u001b[32m━━━━━━━━━━━━━━━━━━━━\u001b[0m\u001b[37m\u001b[0m \u001b[1m0s\u001b[0m 4ms/step - accuracy: 0.8609 - loss: 0.3505 - val_accuracy: 0.8499 - val_loss: 0.3736\n",
      "Epoch 20/20\n",
      "\u001b[1m10/10\u001b[0m \u001b[32m━━━━━━━━━━━━━━━━━━━━\u001b[0m\u001b[37m\u001b[0m \u001b[1m0s\u001b[0m 7ms/step - accuracy: 0.8609 - loss: 0.3497 - val_accuracy: 0.8524 - val_loss: 0.3730\n"
     ]
    }
   ],
   "source": [
    "# Fit the model\n",
    "history = NN.fit(train_x, train_y, \n",
    "                    validation_data=(test_x, test_y), \n",
    "                    epochs=20, batch_size=100)"
   ]
  },
  {
   "cell_type": "code",
   "execution_count": 29,
   "id": "fe0606ad",
   "metadata": {},
   "outputs": [
    {
     "name": "stdout",
     "output_type": "stream",
     "text": [
      "Train loss: 0.33\n",
      "Train compile_metrics: 87.12%\n"
     ]
    }
   ],
   "source": [
    "train_scores = NN.evaluate(train_x, train_y, verbose=0)\n",
    "\n",
    "print(f\"Train {NN.metrics_names[0]}: {train_scores[0]:.2f}\")\n",
    "\n",
    "print(f\"Train {NN.metrics_names[1]}: {train_scores[1]*100:.2f}%\")"
   ]
  },
  {
   "cell_type": "code",
   "execution_count": 30,
   "id": "08280b08",
   "metadata": {},
   "outputs": [
    {
     "name": "stdout",
     "output_type": "stream",
     "text": [
      "Test loss: 0.37\n",
      "Test compile_metrics: 85.24%\n"
     ]
    }
   ],
   "source": [
    "test_scores = NN.evaluate(test_x, test_y, verbose=0)\n",
    "\n",
    "print(f\"Test {NN.metrics_names[0]}: {test_scores[0]:.2f}\")\n",
    "\n",
    "print(f\"Test {NN.metrics_names[1]}: {test_scores[1]*100:.2f}%\")"
   ]
  },
  {
   "cell_type": "code",
   "execution_count": 31,
   "id": "33846880",
   "metadata": {},
   "outputs": [],
   "source": [
    "# Create a multi-layer Deep Neural Network model\n",
    "\n",
    "np.random.seed(13)\n",
    "tf.random.set_seed(13)\n",
    "\n",
    "DNN = keras.models.Sequential()\n",
    "\n",
    "DNN.add(keras.layers.Input(shape=(train_x.shape[1],)))\n",
    "DNN.add(keras.layers.Dense(16, activation='relu'))\n",
    "DNN.add(keras.layers.Dense(12, activation='relu'))\n",
    "DNN.add(keras.layers.Dense(8, activation='relu'))\n",
    "DNN.add(keras.layers.Dense(1, activation='sigmoid'))"
   ]
  },
  {
   "cell_type": "code",
   "execution_count": 32,
   "id": "c0eb358f",
   "metadata": {},
   "outputs": [],
   "source": [
    "# Compile model\n",
    "adam = keras.optimizers.Adam(learning_rate=0.001)\n",
    "DNN.compile(loss='binary_crossentropy', optimizer=adam, metrics=['accuracy'])"
   ]
  },
  {
   "cell_type": "code",
   "execution_count": 33,
   "id": "10ecac73",
   "metadata": {},
   "outputs": [
    {
     "name": "stdout",
     "output_type": "stream",
     "text": [
      "Epoch 1/100\n",
      "\u001b[1m10/10\u001b[0m \u001b[32m━━━━━━━━━━━━━━━━━━━━\u001b[0m\u001b[37m\u001b[0m \u001b[1m2s\u001b[0m 41ms/step - accuracy: 0.5256 - loss: 0.7067 - val_accuracy: 0.5649 - val_loss: 0.6958\n",
      "Epoch 2/100\n",
      "\u001b[1m10/10\u001b[0m \u001b[32m━━━━━━━━━━━━━━━━━━━━\u001b[0m\u001b[37m\u001b[0m \u001b[1m0s\u001b[0m 5ms/step - accuracy: 0.5907 - loss: 0.6856 - val_accuracy: 0.6056 - val_loss: 0.6818\n",
      "Epoch 3/100\n",
      "\u001b[1m10/10\u001b[0m \u001b[32m━━━━━━━━━━━━━━━━━━━━\u001b[0m\u001b[37m\u001b[0m \u001b[1m0s\u001b[0m 6ms/step - accuracy: 0.6222 - loss: 0.6697 - val_accuracy: 0.6081 - val_loss: 0.6713\n",
      "Epoch 4/100\n",
      "\u001b[1m10/10\u001b[0m \u001b[32m━━━━━━━━━━━━━━━━━━━━\u001b[0m\u001b[37m\u001b[0m \u001b[1m0s\u001b[0m 8ms/step - accuracy: 0.6250 - loss: 0.6567 - val_accuracy: 0.6081 - val_loss: 0.6623\n",
      "Epoch 5/100\n",
      "\u001b[1m10/10\u001b[0m \u001b[32m━━━━━━━━━━━━━━━━━━━━\u001b[0m\u001b[37m\u001b[0m \u001b[1m0s\u001b[0m 6ms/step - accuracy: 0.6250 - loss: 0.6447 - val_accuracy: 0.6081 - val_loss: 0.6536\n",
      "Epoch 6/100\n",
      "\u001b[1m10/10\u001b[0m \u001b[32m━━━━━━━━━━━━━━━━━━━━\u001b[0m\u001b[37m\u001b[0m \u001b[1m0s\u001b[0m 7ms/step - accuracy: 0.6250 - loss: 0.6329 - val_accuracy: 0.6081 - val_loss: 0.6445\n",
      "Epoch 7/100\n",
      "\u001b[1m10/10\u001b[0m \u001b[32m━━━━━━━━━━━━━━━━━━━━\u001b[0m\u001b[37m\u001b[0m \u001b[1m0s\u001b[0m 6ms/step - accuracy: 0.6250 - loss: 0.6206 - val_accuracy: 0.6081 - val_loss: 0.6340\n",
      "Epoch 8/100\n",
      "\u001b[1m10/10\u001b[0m \u001b[32m━━━━━━━━━━━━━━━━━━━━\u001b[0m\u001b[37m\u001b[0m \u001b[1m0s\u001b[0m 9ms/step - accuracy: 0.6250 - loss: 0.6074 - val_accuracy: 0.6081 - val_loss: 0.6219\n",
      "Epoch 9/100\n",
      "\u001b[1m10/10\u001b[0m \u001b[32m━━━━━━━━━━━━━━━━━━━━\u001b[0m\u001b[37m\u001b[0m \u001b[1m0s\u001b[0m 6ms/step - accuracy: 0.6250 - loss: 0.5928 - val_accuracy: 0.6081 - val_loss: 0.6079\n",
      "Epoch 10/100\n",
      "\u001b[1m10/10\u001b[0m \u001b[32m━━━━━━━━━━━━━━━━━━━━\u001b[0m\u001b[37m\u001b[0m \u001b[1m0s\u001b[0m 5ms/step - accuracy: 0.6250 - loss: 0.5772 - val_accuracy: 0.6081 - val_loss: 0.5931\n",
      "Epoch 11/100\n",
      "\u001b[1m10/10\u001b[0m \u001b[32m━━━━━━━━━━━━━━━━━━━━\u001b[0m\u001b[37m\u001b[0m \u001b[1m0s\u001b[0m 9ms/step - accuracy: 0.6283 - loss: 0.5613 - val_accuracy: 0.6081 - val_loss: 0.5777\n",
      "Epoch 12/100\n",
      "\u001b[1m10/10\u001b[0m \u001b[32m━━━━━━━━━━━━━━━━━━━━\u001b[0m\u001b[37m\u001b[0m \u001b[1m0s\u001b[0m 5ms/step - accuracy: 0.6300 - loss: 0.5452 - val_accuracy: 0.6081 - val_loss: 0.5620\n",
      "Epoch 13/100\n",
      "\u001b[1m10/10\u001b[0m \u001b[32m━━━━━━━━━━━━━━━━━━━━\u001b[0m\u001b[37m\u001b[0m \u001b[1m0s\u001b[0m 6ms/step - accuracy: 0.6458 - loss: 0.5287 - val_accuracy: 0.6463 - val_loss: 0.5441\n",
      "Epoch 14/100\n",
      "\u001b[1m10/10\u001b[0m \u001b[32m━━━━━━━━━━━━━━━━━━━━\u001b[0m\u001b[37m\u001b[0m \u001b[1m0s\u001b[0m 6ms/step - accuracy: 0.7144 - loss: 0.5113 - val_accuracy: 0.7252 - val_loss: 0.5270\n",
      "Epoch 15/100\n",
      "\u001b[1m10/10\u001b[0m \u001b[32m━━━━━━━━━━━━━━━━━━━━\u001b[0m\u001b[37m\u001b[0m \u001b[1m0s\u001b[0m 8ms/step - accuracy: 0.7754 - loss: 0.4956 - val_accuracy: 0.7786 - val_loss: 0.5125\n",
      "Epoch 16/100\n",
      "\u001b[1m10/10\u001b[0m \u001b[32m━━━━━━━━━━━━━━━━━━━━\u001b[0m\u001b[37m\u001b[0m \u001b[1m0s\u001b[0m 9ms/step - accuracy: 0.8010 - loss: 0.4821 - val_accuracy: 0.8066 - val_loss: 0.5002\n",
      "Epoch 17/100\n",
      "\u001b[1m10/10\u001b[0m \u001b[32m━━━━━━━━━━━━━━━━━━━━\u001b[0m\u001b[37m\u001b[0m \u001b[1m0s\u001b[0m 9ms/step - accuracy: 0.8385 - loss: 0.4696 - val_accuracy: 0.8244 - val_loss: 0.4895\n",
      "Epoch 18/100\n",
      "\u001b[1m10/10\u001b[0m \u001b[32m━━━━━━━━━━━━━━━━━━━━\u001b[0m\u001b[37m\u001b[0m \u001b[1m0s\u001b[0m 8ms/step - accuracy: 0.8524 - loss: 0.4582 - val_accuracy: 0.8244 - val_loss: 0.4800\n",
      "Epoch 19/100\n",
      "\u001b[1m10/10\u001b[0m \u001b[32m━━━━━━━━━━━━━━━━━━━━\u001b[0m\u001b[37m\u001b[0m \u001b[1m0s\u001b[0m 7ms/step - accuracy: 0.8538 - loss: 0.4477 - val_accuracy: 0.8270 - val_loss: 0.4712\n",
      "Epoch 20/100\n",
      "\u001b[1m10/10\u001b[0m \u001b[32m━━━━━━━━━━━━━━━━━━━━\u001b[0m\u001b[37m\u001b[0m \u001b[1m0s\u001b[0m 6ms/step - accuracy: 0.8543 - loss: 0.4374 - val_accuracy: 0.8270 - val_loss: 0.4629\n",
      "Epoch 21/100\n",
      "\u001b[1m10/10\u001b[0m \u001b[32m━━━━━━━━━━━━━━━━━━━━\u001b[0m\u001b[37m\u001b[0m \u001b[1m0s\u001b[0m 8ms/step - accuracy: 0.8549 - loss: 0.4272 - val_accuracy: 0.8219 - val_loss: 0.4550\n",
      "Epoch 22/100\n",
      "\u001b[1m10/10\u001b[0m \u001b[32m━━━━━━━━━━━━━━━━━━━━\u001b[0m\u001b[37m\u001b[0m \u001b[1m0s\u001b[0m 7ms/step - accuracy: 0.8545 - loss: 0.4176 - val_accuracy: 0.8219 - val_loss: 0.4476\n",
      "Epoch 23/100\n",
      "\u001b[1m10/10\u001b[0m \u001b[32m━━━━━━━━━━━━━━━━━━━━\u001b[0m\u001b[37m\u001b[0m \u001b[1m0s\u001b[0m 7ms/step - accuracy: 0.8535 - loss: 0.4083 - val_accuracy: 0.8219 - val_loss: 0.4410\n",
      "Epoch 24/100\n",
      "\u001b[1m10/10\u001b[0m \u001b[32m━━━━━━━━━━━━━━━━━━━━\u001b[0m\u001b[37m\u001b[0m \u001b[1m0s\u001b[0m 7ms/step - accuracy: 0.8557 - loss: 0.3998 - val_accuracy: 0.8219 - val_loss: 0.4355\n",
      "Epoch 25/100\n",
      "\u001b[1m10/10\u001b[0m \u001b[32m━━━━━━━━━━━━━━━━━━━━\u001b[0m\u001b[37m\u001b[0m \u001b[1m0s\u001b[0m 7ms/step - accuracy: 0.8570 - loss: 0.3927 - val_accuracy: 0.8244 - val_loss: 0.4307\n",
      "Epoch 26/100\n",
      "\u001b[1m10/10\u001b[0m \u001b[32m━━━━━━━━━━━━━━━━━━━━\u001b[0m\u001b[37m\u001b[0m \u001b[1m0s\u001b[0m 7ms/step - accuracy: 0.8559 - loss: 0.3865 - val_accuracy: 0.8321 - val_loss: 0.4267\n",
      "Epoch 27/100\n",
      "\u001b[1m10/10\u001b[0m \u001b[32m━━━━━━━━━━━━━━━━━━━━\u001b[0m\u001b[37m\u001b[0m \u001b[1m0s\u001b[0m 8ms/step - accuracy: 0.8594 - loss: 0.3814 - val_accuracy: 0.8295 - val_loss: 0.4234\n",
      "Epoch 28/100\n",
      "\u001b[1m10/10\u001b[0m \u001b[32m━━━━━━━━━━━━━━━━━━━━\u001b[0m\u001b[37m\u001b[0m \u001b[1m0s\u001b[0m 7ms/step - accuracy: 0.8599 - loss: 0.3774 - val_accuracy: 0.8295 - val_loss: 0.4208\n",
      "Epoch 29/100\n",
      "\u001b[1m10/10\u001b[0m \u001b[32m━━━━━━━━━━━━━━━━━━━━\u001b[0m\u001b[37m\u001b[0m \u001b[1m0s\u001b[0m 6ms/step - accuracy: 0.8585 - loss: 0.3742 - val_accuracy: 0.8321 - val_loss: 0.4188\n",
      "Epoch 30/100\n",
      "\u001b[1m10/10\u001b[0m \u001b[32m━━━━━━━━━━━━━━━━━━━━\u001b[0m\u001b[37m\u001b[0m \u001b[1m0s\u001b[0m 5ms/step - accuracy: 0.8592 - loss: 0.3719 - val_accuracy: 0.8346 - val_loss: 0.4173\n",
      "Epoch 31/100\n",
      "\u001b[1m10/10\u001b[0m \u001b[32m━━━━━━━━━━━━━━━━━━━━\u001b[0m\u001b[37m\u001b[0m \u001b[1m0s\u001b[0m 5ms/step - accuracy: 0.8592 - loss: 0.3702 - val_accuracy: 0.8346 - val_loss: 0.4160\n",
      "Epoch 32/100\n",
      "\u001b[1m10/10\u001b[0m \u001b[32m━━━━━━━━━━━━━━━━━━━━\u001b[0m\u001b[37m\u001b[0m \u001b[1m0s\u001b[0m 6ms/step - accuracy: 0.8591 - loss: 0.3687 - val_accuracy: 0.8346 - val_loss: 0.4149\n",
      "Epoch 33/100\n",
      "\u001b[1m10/10\u001b[0m \u001b[32m━━━━━━━━━━━━━━━━━━━━\u001b[0m\u001b[37m\u001b[0m \u001b[1m0s\u001b[0m 6ms/step - accuracy: 0.8591 - loss: 0.3675 - val_accuracy: 0.8372 - val_loss: 0.4138\n",
      "Epoch 34/100\n",
      "\u001b[1m10/10\u001b[0m \u001b[32m━━━━━━━━━━━━━━━━━━━━\u001b[0m\u001b[37m\u001b[0m \u001b[1m0s\u001b[0m 7ms/step - accuracy: 0.8591 - loss: 0.3662 - val_accuracy: 0.8372 - val_loss: 0.4129\n",
      "Epoch 35/100\n",
      "\u001b[1m10/10\u001b[0m \u001b[32m━━━━━━━━━━━━━━━━━━━━\u001b[0m\u001b[37m\u001b[0m \u001b[1m0s\u001b[0m 7ms/step - accuracy: 0.8596 - loss: 0.3652 - val_accuracy: 0.8372 - val_loss: 0.4122\n",
      "Epoch 36/100\n",
      "\u001b[1m10/10\u001b[0m \u001b[32m━━━━━━━━━━━━━━━━━━━━\u001b[0m\u001b[37m\u001b[0m \u001b[1m0s\u001b[0m 6ms/step - accuracy: 0.8596 - loss: 0.3643 - val_accuracy: 0.8372 - val_loss: 0.4116\n",
      "Epoch 37/100\n",
      "\u001b[1m10/10\u001b[0m \u001b[32m━━━━━━━━━━━━━━━━━━━━\u001b[0m\u001b[37m\u001b[0m \u001b[1m0s\u001b[0m 7ms/step - accuracy: 0.8582 - loss: 0.3634 - val_accuracy: 0.8372 - val_loss: 0.4110\n",
      "Epoch 38/100\n",
      "\u001b[1m10/10\u001b[0m \u001b[32m━━━━━━━━━━━━━━━━━━━━\u001b[0m\u001b[37m\u001b[0m \u001b[1m0s\u001b[0m 6ms/step - accuracy: 0.8601 - loss: 0.3626 - val_accuracy: 0.8372 - val_loss: 0.4105\n",
      "Epoch 39/100\n",
      "\u001b[1m10/10\u001b[0m \u001b[32m━━━━━━━━━━━━━━━━━━━━\u001b[0m\u001b[37m\u001b[0m \u001b[1m0s\u001b[0m 8ms/step - accuracy: 0.8601 - loss: 0.3617 - val_accuracy: 0.8372 - val_loss: 0.4101\n",
      "Epoch 40/100\n",
      "\u001b[1m10/10\u001b[0m \u001b[32m━━━━━━━━━━━━━━━━━━━━\u001b[0m\u001b[37m\u001b[0m \u001b[1m0s\u001b[0m 7ms/step - accuracy: 0.8601 - loss: 0.3609 - val_accuracy: 0.8372 - val_loss: 0.4096\n",
      "Epoch 41/100\n",
      "\u001b[1m10/10\u001b[0m \u001b[32m━━━━━━━━━━━━━━━━━━━━\u001b[0m\u001b[37m\u001b[0m \u001b[1m0s\u001b[0m 7ms/step - accuracy: 0.8601 - loss: 0.3601 - val_accuracy: 0.8372 - val_loss: 0.4091\n",
      "Epoch 42/100\n",
      "\u001b[1m10/10\u001b[0m \u001b[32m━━━━━━━━━━━━━━━━━━━━\u001b[0m\u001b[37m\u001b[0m \u001b[1m0s\u001b[0m 10ms/step - accuracy: 0.8601 - loss: 0.3593 - val_accuracy: 0.8372 - val_loss: 0.4086\n",
      "Epoch 43/100\n",
      "\u001b[1m10/10\u001b[0m \u001b[32m━━━━━━━━━━━━━━━━━━━━\u001b[0m\u001b[37m\u001b[0m \u001b[1m0s\u001b[0m 8ms/step - accuracy: 0.8601 - loss: 0.3585 - val_accuracy: 0.8372 - val_loss: 0.4082\n",
      "Epoch 44/100\n",
      "\u001b[1m10/10\u001b[0m \u001b[32m━━━━━━━━━━━━━━━━━━━━\u001b[0m\u001b[37m\u001b[0m \u001b[1m0s\u001b[0m 7ms/step - accuracy: 0.8601 - loss: 0.3578 - val_accuracy: 0.8372 - val_loss: 0.4077\n",
      "Epoch 45/100\n",
      "\u001b[1m10/10\u001b[0m \u001b[32m━━━━━━━━━━━━━━━━━━━━\u001b[0m\u001b[37m\u001b[0m \u001b[1m0s\u001b[0m 8ms/step - accuracy: 0.8601 - loss: 0.3571 - val_accuracy: 0.8372 - val_loss: 0.4072\n",
      "Epoch 46/100\n",
      "\u001b[1m10/10\u001b[0m \u001b[32m━━━━━━━━━━━━━━━━━━━━\u001b[0m\u001b[37m\u001b[0m \u001b[1m0s\u001b[0m 5ms/step - accuracy: 0.8601 - loss: 0.3564 - val_accuracy: 0.8372 - val_loss: 0.4068\n",
      "Epoch 47/100\n",
      "\u001b[1m10/10\u001b[0m \u001b[32m━━━━━━━━━━━━━━━━━━━━\u001b[0m\u001b[37m\u001b[0m \u001b[1m0s\u001b[0m 7ms/step - accuracy: 0.8601 - loss: 0.3558 - val_accuracy: 0.8372 - val_loss: 0.4062\n",
      "Epoch 48/100\n",
      "\u001b[1m10/10\u001b[0m \u001b[32m━━━━━━━━━━━━━━━━━━━━\u001b[0m\u001b[37m\u001b[0m \u001b[1m0s\u001b[0m 5ms/step - accuracy: 0.8601 - loss: 0.3552 - val_accuracy: 0.8372 - val_loss: 0.4056\n",
      "Epoch 49/100\n",
      "\u001b[1m10/10\u001b[0m \u001b[32m━━━━━━━━━━━━━━━━━━━━\u001b[0m\u001b[37m\u001b[0m \u001b[1m0s\u001b[0m 6ms/step - accuracy: 0.8622 - loss: 0.3546 - val_accuracy: 0.8372 - val_loss: 0.4052\n",
      "Epoch 50/100\n",
      "\u001b[1m10/10\u001b[0m \u001b[32m━━━━━━━━━━━━━━━━━━━━\u001b[0m\u001b[37m\u001b[0m \u001b[1m0s\u001b[0m 5ms/step - accuracy: 0.8622 - loss: 0.3539 - val_accuracy: 0.8346 - val_loss: 0.4048\n",
      "Epoch 51/100\n",
      "\u001b[1m10/10\u001b[0m \u001b[32m━━━━━━━━━━━━━━━━━━━━\u001b[0m\u001b[37m\u001b[0m \u001b[1m0s\u001b[0m 5ms/step - accuracy: 0.8636 - loss: 0.3533 - val_accuracy: 0.8346 - val_loss: 0.4044\n",
      "Epoch 52/100\n",
      "\u001b[1m10/10\u001b[0m \u001b[32m━━━━━━━━━━━━━━━━━━━━\u001b[0m\u001b[37m\u001b[0m \u001b[1m0s\u001b[0m 5ms/step - accuracy: 0.8636 - loss: 0.3527 - val_accuracy: 0.8346 - val_loss: 0.4040\n",
      "Epoch 53/100\n",
      "\u001b[1m10/10\u001b[0m \u001b[32m━━━━━━━━━━━━━━━━━━━━\u001b[0m\u001b[37m\u001b[0m \u001b[1m0s\u001b[0m 5ms/step - accuracy: 0.8636 - loss: 0.3521 - val_accuracy: 0.8346 - val_loss: 0.4036\n",
      "Epoch 54/100\n",
      "\u001b[1m10/10\u001b[0m \u001b[32m━━━━━━━━━━━━━━━━━━━━\u001b[0m\u001b[37m\u001b[0m \u001b[1m0s\u001b[0m 6ms/step - accuracy: 0.8636 - loss: 0.3516 - val_accuracy: 0.8321 - val_loss: 0.4032\n",
      "Epoch 55/100\n",
      "\u001b[1m10/10\u001b[0m \u001b[32m━━━━━━━━━━━━━━━━━━━━\u001b[0m\u001b[37m\u001b[0m \u001b[1m0s\u001b[0m 5ms/step - accuracy: 0.8636 - loss: 0.3510 - val_accuracy: 0.8346 - val_loss: 0.4030\n",
      "Epoch 56/100\n",
      "\u001b[1m10/10\u001b[0m \u001b[32m━━━━━━━━━━━━━━━━━━━━\u001b[0m\u001b[37m\u001b[0m \u001b[1m0s\u001b[0m 5ms/step - accuracy: 0.8636 - loss: 0.3504 - val_accuracy: 0.8346 - val_loss: 0.4028\n",
      "Epoch 57/100\n",
      "\u001b[1m10/10\u001b[0m \u001b[32m━━━━━━━━━━━━━━━━━━━━\u001b[0m\u001b[37m\u001b[0m \u001b[1m0s\u001b[0m 5ms/step - accuracy: 0.8651 - loss: 0.3499 - val_accuracy: 0.8346 - val_loss: 0.4025\n",
      "Epoch 58/100\n",
      "\u001b[1m10/10\u001b[0m \u001b[32m━━━━━━━━━━━━━━━━━━━━\u001b[0m\u001b[37m\u001b[0m \u001b[1m0s\u001b[0m 5ms/step - accuracy: 0.8651 - loss: 0.3494 - val_accuracy: 0.8372 - val_loss: 0.4024\n",
      "Epoch 59/100\n",
      "\u001b[1m10/10\u001b[0m \u001b[32m━━━━━━━━━━━━━━━━━━━━\u001b[0m\u001b[37m\u001b[0m \u001b[1m0s\u001b[0m 5ms/step - accuracy: 0.8651 - loss: 0.3488 - val_accuracy: 0.8372 - val_loss: 0.4022\n",
      "Epoch 60/100\n",
      "\u001b[1m10/10\u001b[0m \u001b[32m━━━━━━━━━━━━━━━━━━━━\u001b[0m\u001b[37m\u001b[0m \u001b[1m0s\u001b[0m 5ms/step - accuracy: 0.8651 - loss: 0.3483 - val_accuracy: 0.8372 - val_loss: 0.4020\n",
      "Epoch 61/100\n",
      "\u001b[1m10/10\u001b[0m \u001b[32m━━━━━━━━━━━━━━━━━━━━\u001b[0m\u001b[37m\u001b[0m \u001b[1m0s\u001b[0m 5ms/step - accuracy: 0.8651 - loss: 0.3477 - val_accuracy: 0.8397 - val_loss: 0.4018\n",
      "Epoch 62/100\n",
      "\u001b[1m10/10\u001b[0m \u001b[32m━━━━━━━━━━━━━━━━━━━━\u001b[0m\u001b[37m\u001b[0m \u001b[1m0s\u001b[0m 5ms/step - accuracy: 0.8665 - loss: 0.3472 - val_accuracy: 0.8397 - val_loss: 0.4014\n",
      "Epoch 63/100\n",
      "\u001b[1m10/10\u001b[0m \u001b[32m━━━━━━━━━━━━━━━━━━━━\u001b[0m\u001b[37m\u001b[0m \u001b[1m0s\u001b[0m 6ms/step - accuracy: 0.8682 - loss: 0.3468 - val_accuracy: 0.8397 - val_loss: 0.4011\n",
      "Epoch 64/100\n",
      "\u001b[1m10/10\u001b[0m \u001b[32m━━━━━━━━━━━━━━━━━━━━\u001b[0m\u001b[37m\u001b[0m \u001b[1m0s\u001b[0m 6ms/step - accuracy: 0.8700 - loss: 0.3462 - val_accuracy: 0.8397 - val_loss: 0.4009\n",
      "Epoch 65/100\n",
      "\u001b[1m10/10\u001b[0m \u001b[32m━━━━━━━━━━━━━━━━━━━━\u001b[0m\u001b[37m\u001b[0m \u001b[1m0s\u001b[0m 5ms/step - accuracy: 0.8682 - loss: 0.3457 - val_accuracy: 0.8397 - val_loss: 0.4006\n",
      "Epoch 66/100\n",
      "\u001b[1m10/10\u001b[0m \u001b[32m━━━━━━━━━━━━━━━━━━━━\u001b[0m\u001b[37m\u001b[0m \u001b[1m0s\u001b[0m 5ms/step - accuracy: 0.8696 - loss: 0.3453 - val_accuracy: 0.8397 - val_loss: 0.4002\n",
      "Epoch 67/100\n",
      "\u001b[1m10/10\u001b[0m \u001b[32m━━━━━━━━━━━━━━━━━━━━\u001b[0m\u001b[37m\u001b[0m \u001b[1m0s\u001b[0m 5ms/step - accuracy: 0.8696 - loss: 0.3447 - val_accuracy: 0.8397 - val_loss: 0.4000\n",
      "Epoch 68/100\n",
      "\u001b[1m10/10\u001b[0m \u001b[32m━━━━━━━━━━━━━━━━━━━━\u001b[0m\u001b[37m\u001b[0m \u001b[1m0s\u001b[0m 5ms/step - accuracy: 0.8696 - loss: 0.3444 - val_accuracy: 0.8397 - val_loss: 0.3998\n",
      "Epoch 69/100\n",
      "\u001b[1m10/10\u001b[0m \u001b[32m━━━━━━━━━━━━━━━━━━━━\u001b[0m\u001b[37m\u001b[0m \u001b[1m0s\u001b[0m 4ms/step - accuracy: 0.8696 - loss: 0.3439 - val_accuracy: 0.8397 - val_loss: 0.3997\n",
      "Epoch 70/100\n",
      "\u001b[1m10/10\u001b[0m \u001b[32m━━━━━━━━━━━━━━━━━━━━\u001b[0m\u001b[37m\u001b[0m \u001b[1m0s\u001b[0m 5ms/step - accuracy: 0.8700 - loss: 0.3434 - val_accuracy: 0.8397 - val_loss: 0.3996\n",
      "Epoch 71/100\n",
      "\u001b[1m10/10\u001b[0m \u001b[32m━━━━━━━━━━━━━━━━━━━━\u001b[0m\u001b[37m\u001b[0m \u001b[1m0s\u001b[0m 4ms/step - accuracy: 0.8700 - loss: 0.3430 - val_accuracy: 0.8372 - val_loss: 0.3993\n",
      "Epoch 72/100\n",
      "\u001b[1m10/10\u001b[0m \u001b[32m━━━━━━━━━━━━━━━━━━━━\u001b[0m\u001b[37m\u001b[0m \u001b[1m0s\u001b[0m 6ms/step - accuracy: 0.8700 - loss: 0.3426 - val_accuracy: 0.8372 - val_loss: 0.3989\n",
      "Epoch 73/100\n",
      "\u001b[1m10/10\u001b[0m \u001b[32m━━━━━━━━━━━━━━━━━━━━\u001b[0m\u001b[37m\u001b[0m \u001b[1m0s\u001b[0m 6ms/step - accuracy: 0.8700 - loss: 0.3422 - val_accuracy: 0.8372 - val_loss: 0.3989\n",
      "Epoch 74/100\n",
      "\u001b[1m10/10\u001b[0m \u001b[32m━━━━━━━━━━━━━━━━━━━━\u001b[0m\u001b[37m\u001b[0m \u001b[1m0s\u001b[0m 5ms/step - accuracy: 0.8700 - loss: 0.3418 - val_accuracy: 0.8372 - val_loss: 0.3985\n",
      "Epoch 75/100\n",
      "\u001b[1m10/10\u001b[0m \u001b[32m━━━━━━━━━━━━━━━━━━━━\u001b[0m\u001b[37m\u001b[0m \u001b[1m0s\u001b[0m 4ms/step - accuracy: 0.8700 - loss: 0.3412 - val_accuracy: 0.8372 - val_loss: 0.3984\n",
      "Epoch 76/100\n",
      "\u001b[1m10/10\u001b[0m \u001b[32m━━━━━━━━━━━━━━━━━━━━\u001b[0m\u001b[37m\u001b[0m \u001b[1m0s\u001b[0m 5ms/step - accuracy: 0.8700 - loss: 0.3408 - val_accuracy: 0.8372 - val_loss: 0.3981\n",
      "Epoch 77/100\n",
      "\u001b[1m10/10\u001b[0m \u001b[32m━━━━━━━━━━━━━━━━━━━━\u001b[0m\u001b[37m\u001b[0m \u001b[1m0s\u001b[0m 5ms/step - accuracy: 0.8714 - loss: 0.3403 - val_accuracy: 0.8372 - val_loss: 0.3980\n",
      "Epoch 78/100\n",
      "\u001b[1m10/10\u001b[0m \u001b[32m━━━━━━━━━━━━━━━━━━━━\u001b[0m\u001b[37m\u001b[0m \u001b[1m0s\u001b[0m 5ms/step - accuracy: 0.8714 - loss: 0.3399 - val_accuracy: 0.8372 - val_loss: 0.3976\n",
      "Epoch 79/100\n",
      "\u001b[1m10/10\u001b[0m \u001b[32m━━━━━━━━━━━━━━━━━━━━\u001b[0m\u001b[37m\u001b[0m \u001b[1m0s\u001b[0m 4ms/step - accuracy: 0.8714 - loss: 0.3395 - val_accuracy: 0.8321 - val_loss: 0.3973\n",
      "Epoch 80/100\n",
      "\u001b[1m10/10\u001b[0m \u001b[32m━━━━━━━━━━━━━━━━━━━━\u001b[0m\u001b[37m\u001b[0m \u001b[1m0s\u001b[0m 6ms/step - accuracy: 0.8714 - loss: 0.3391 - val_accuracy: 0.8321 - val_loss: 0.3970\n",
      "Epoch 81/100\n",
      "\u001b[1m10/10\u001b[0m \u001b[32m━━━━━━━━━━━━━━━━━━━━\u001b[0m\u001b[37m\u001b[0m \u001b[1m0s\u001b[0m 5ms/step - accuracy: 0.8714 - loss: 0.3388 - val_accuracy: 0.8321 - val_loss: 0.3967\n",
      "Epoch 82/100\n",
      "\u001b[1m10/10\u001b[0m \u001b[32m━━━━━━━━━━━━━━━━━━━━\u001b[0m\u001b[37m\u001b[0m \u001b[1m0s\u001b[0m 4ms/step - accuracy: 0.8714 - loss: 0.3384 - val_accuracy: 0.8346 - val_loss: 0.3964\n",
      "Epoch 83/100\n",
      "\u001b[1m10/10\u001b[0m \u001b[32m━━━━━━━━━━━━━━━━━━━━\u001b[0m\u001b[37m\u001b[0m \u001b[1m0s\u001b[0m 5ms/step - accuracy: 0.8719 - loss: 0.3381 - val_accuracy: 0.8372 - val_loss: 0.3961\n",
      "Epoch 84/100\n",
      "\u001b[1m10/10\u001b[0m \u001b[32m━━━━━━━━━━━━━━━━━━━━\u001b[0m\u001b[37m\u001b[0m \u001b[1m0s\u001b[0m 5ms/step - accuracy: 0.8719 - loss: 0.3377 - val_accuracy: 0.8346 - val_loss: 0.3960\n",
      "Epoch 85/100\n",
      "\u001b[1m10/10\u001b[0m \u001b[32m━━━━━━━━━━━━━━━━━━━━\u001b[0m\u001b[37m\u001b[0m \u001b[1m0s\u001b[0m 5ms/step - accuracy: 0.8714 - loss: 0.3374 - val_accuracy: 0.8346 - val_loss: 0.3958\n",
      "Epoch 86/100\n",
      "\u001b[1m10/10\u001b[0m \u001b[32m━━━━━━━━━━━━━━━━━━━━\u001b[0m\u001b[37m\u001b[0m \u001b[1m0s\u001b[0m 5ms/step - accuracy: 0.8719 - loss: 0.3370 - val_accuracy: 0.8372 - val_loss: 0.3953\n",
      "Epoch 87/100\n",
      "\u001b[1m10/10\u001b[0m \u001b[32m━━━━━━━━━━━━━━━━━━━━\u001b[0m\u001b[37m\u001b[0m \u001b[1m0s\u001b[0m 5ms/step - accuracy: 0.8719 - loss: 0.3367 - val_accuracy: 0.8372 - val_loss: 0.3952\n",
      "Epoch 88/100\n",
      "\u001b[1m10/10\u001b[0m \u001b[32m━━━━━━━━━━━━━━━━━━━━\u001b[0m\u001b[37m\u001b[0m \u001b[1m0s\u001b[0m 4ms/step - accuracy: 0.8719 - loss: 0.3365 - val_accuracy: 0.8397 - val_loss: 0.3950\n",
      "Epoch 89/100\n",
      "\u001b[1m10/10\u001b[0m \u001b[32m━━━━━━━━━━━━━━━━━━━━\u001b[0m\u001b[37m\u001b[0m \u001b[1m0s\u001b[0m 5ms/step - accuracy: 0.8726 - loss: 0.3361 - val_accuracy: 0.8372 - val_loss: 0.3948\n",
      "Epoch 90/100\n",
      "\u001b[1m10/10\u001b[0m \u001b[32m━━━━━━━━━━━━━━━━━━━━\u001b[0m\u001b[37m\u001b[0m \u001b[1m0s\u001b[0m 7ms/step - accuracy: 0.8726 - loss: 0.3357 - val_accuracy: 0.8321 - val_loss: 0.3946\n",
      "Epoch 91/100\n",
      "\u001b[1m10/10\u001b[0m \u001b[32m━━━━━━━━━━━━━━━━━━━━\u001b[0m\u001b[37m\u001b[0m \u001b[1m0s\u001b[0m 6ms/step - accuracy: 0.8726 - loss: 0.3354 - val_accuracy: 0.8346 - val_loss: 0.3943\n",
      "Epoch 92/100\n",
      "\u001b[1m10/10\u001b[0m \u001b[32m━━━━━━━━━━━━━━━━━━━━\u001b[0m\u001b[37m\u001b[0m \u001b[1m0s\u001b[0m 6ms/step - accuracy: 0.8754 - loss: 0.3350 - val_accuracy: 0.8346 - val_loss: 0.3940\n",
      "Epoch 93/100\n",
      "\u001b[1m10/10\u001b[0m \u001b[32m━━━━━━━━━━━━━━━━━━━━\u001b[0m\u001b[37m\u001b[0m \u001b[1m0s\u001b[0m 6ms/step - accuracy: 0.8754 - loss: 0.3346 - val_accuracy: 0.8346 - val_loss: 0.3938\n",
      "Epoch 94/100\n",
      "\u001b[1m10/10\u001b[0m \u001b[32m━━━━━━━━━━━━━━━━━━━━\u001b[0m\u001b[37m\u001b[0m \u001b[1m0s\u001b[0m 5ms/step - accuracy: 0.8754 - loss: 0.3342 - val_accuracy: 0.8372 - val_loss: 0.3935\n",
      "Epoch 95/100\n",
      "\u001b[1m10/10\u001b[0m \u001b[32m━━━━━━━━━━━━━━━━━━━━\u001b[0m\u001b[37m\u001b[0m \u001b[1m0s\u001b[0m 5ms/step - accuracy: 0.8754 - loss: 0.3339 - val_accuracy: 0.8397 - val_loss: 0.3932\n",
      "Epoch 96/100\n",
      "\u001b[1m10/10\u001b[0m \u001b[32m━━━━━━━━━━━━━━━━━━━━\u001b[0m\u001b[37m\u001b[0m \u001b[1m0s\u001b[0m 5ms/step - accuracy: 0.8763 - loss: 0.3337 - val_accuracy: 0.8372 - val_loss: 0.3930\n",
      "Epoch 97/100\n",
      "\u001b[1m10/10\u001b[0m \u001b[32m━━━━━━━━━━━━━━━━━━━━\u001b[0m\u001b[37m\u001b[0m \u001b[1m0s\u001b[0m 7ms/step - accuracy: 0.8763 - loss: 0.3333 - val_accuracy: 0.8397 - val_loss: 0.3927\n",
      "Epoch 98/100\n",
      "\u001b[1m10/10\u001b[0m \u001b[32m━━━━━━━━━━━━━━━━━━━━\u001b[0m\u001b[37m\u001b[0m \u001b[1m0s\u001b[0m 6ms/step - accuracy: 0.8763 - loss: 0.3329 - val_accuracy: 0.8397 - val_loss: 0.3924\n",
      "Epoch 99/100\n",
      "\u001b[1m10/10\u001b[0m \u001b[32m━━━━━━━━━━━━━━━━━━━━\u001b[0m\u001b[37m\u001b[0m \u001b[1m0s\u001b[0m 5ms/step - accuracy: 0.8763 - loss: 0.3326 - val_accuracy: 0.8397 - val_loss: 0.3923\n",
      "Epoch 100/100\n",
      "\u001b[1m10/10\u001b[0m \u001b[32m━━━━━━━━━━━━━━━━━━━━\u001b[0m\u001b[37m\u001b[0m \u001b[1m0s\u001b[0m 5ms/step - accuracy: 0.8763 - loss: 0.3322 - val_accuracy: 0.8372 - val_loss: 0.3923\n"
     ]
    },
    {
     "data": {
      "text/plain": [
       "<keras.src.callbacks.history.History at 0x2f194ded390>"
      ]
     },
     "execution_count": 33,
     "metadata": {},
     "output_type": "execute_result"
    }
   ],
   "source": [
    "# Apply early stopping to prevent overfitting\n",
    "\n",
    "from tensorflow.keras.callbacks import EarlyStopping\n",
    "\n",
    "earlystop = EarlyStopping(patience=3, verbose=1)\n",
    "\n",
    "callback = [earlystop]\n",
    "\n",
    "DNN.fit(train_x, train_y, validation_data=(test_x, test_y), \n",
    "            epochs=100, batch_size=100, callbacks=callback)"
   ]
  },
  {
   "cell_type": "code",
   "execution_count": 34,
   "id": "8302cbc9",
   "metadata": {},
   "outputs": [
    {
     "name": "stdout",
     "output_type": "stream",
     "text": [
      "Train loss: 0.31\n",
      "Train compile_metrics: 88.43%\n"
     ]
    }
   ],
   "source": [
    "train_scores = DNN.evaluate(train_x, train_y, verbose=0)\n",
    "\n",
    "print(f\"Train {DNN.metrics_names[0]}: {train_scores[0]:.2f}\")\n",
    "\n",
    "print(f\"Train {DNN.metrics_names[1]}: {train_scores[1]*100:.2f}%\")"
   ]
  },
  {
   "cell_type": "code",
   "execution_count": 35,
   "id": "f2f18479",
   "metadata": {},
   "outputs": [
    {
     "name": "stdout",
     "output_type": "stream",
     "text": [
      "Test loss: 0.39\n",
      "Test compile_metrics: 83.72%\n"
     ]
    }
   ],
   "source": [
    "test_scores = DNN.evaluate(test_x, test_y, verbose=0)\n",
    "\n",
    "print(f\"Test {DNN.metrics_names[0]}: {test_scores[0]:.2f}\")\n",
    "\n",
    "print(f\"Test {DNN.metrics_names[1]}: {test_scores[1]*100:.2f}%\")"
   ]
  },
  {
   "cell_type": "markdown",
   "id": "b139ebdf-865c-4199-907a-eb9ea52be73a",
   "metadata": {},
   "source": [
    "## Random Forest Model with Feature Importance Chart"
   ]
  },
  {
   "cell_type": "code",
   "execution_count": 36,
   "id": "f139914f",
   "metadata": {},
   "outputs": [],
   "source": [
    "train_x2 = pd.DataFrame(train_x, columns=preprocessor.get_feature_names_out())"
   ]
  },
  {
   "cell_type": "code",
   "execution_count": 37,
   "id": "002674af",
   "metadata": {},
   "outputs": [
    {
     "name": "stderr",
     "output_type": "stream",
     "text": [
      "C:\\Users\\chadu\\AppData\\Local\\Temp\\ipykernel_17712\\314160381.py:8: DataConversionWarning: A column-vector y was passed when a 1d array was expected. Please change the shape of y to (n_samples,), for example using ravel().\n",
      "  rnd_clf.fit(train_x2, train_y)\n"
     ]
    },
    {
     "name": "stdout",
     "output_type": "stream",
     "text": [
      " 1) cat__Sex_female                0.389885\n",
      " 2) cat__Sex_male                  0.210946\n",
      " 3) num__Fare                      0.127341\n",
      " 4) num__Age                       0.108170\n",
      " 5) num__SibSp                     0.040774\n",
      " 6) num__Parch                     0.036708\n",
      " 7) cat__Pclass_3                  0.026082\n",
      " 8) cat__Pclass_1                  0.022504\n",
      " 9) cat__Embarked_S                0.012575\n",
      "10) cat__Embarked_C                0.011268\n",
      "11) cat__Pclass_2                  0.009092\n",
      "12) cat__Embarked_Q                0.004655\n",
      "13) cat__Embarked_unknown          0.000000\n"
     ]
    },
    {
     "data": {
      "image/png": "[encoded data removed]",
      "text/plain": [
       "<Figure size 640x480 with 1 Axes>"
      ]
     },
     "metadata": {},
     "output_type": "display_data"
    }
   ],
   "source": [
    "from sklearn.ensemble import RandomForestClassifier \n",
    "import matplotlib.pyplot as plt\n",
    "\n",
    "feat_labels = train_x2.columns\n",
    "\n",
    "rnd_clf = RandomForestClassifier(n_estimators=50, max_depth=8, min_samples_split=2, n_jobs=-1) \n",
    "\n",
    "rnd_clf.fit(train_x2, train_y)\n",
    "\n",
    "importances = rnd_clf.feature_importances_\n",
    "\n",
    "indices = np.argsort(importances)[::-1]\n",
    "\n",
    "for f in range(train_x2.shape[1]):\n",
    "    print(\"%2d) %-*s %f\" % (f + 1, 30, \n",
    "                            feat_labels[indices[f]], \n",
    "                            importances[indices[f]]))\n",
    "\n",
    "plt.title('Feature importance')\n",
    "plt.bar(range(train_x2.shape[1]), \n",
    "        importances[indices],\n",
    "        align='center')\n",
    "\n",
    "plt.xticks(range(train_x2.shape[1]), \n",
    "           feat_labels[indices], rotation=90)\n",
    "plt.xlim([-1, train_x2.shape[1]])\n",
    "plt.tight_layout()\n",
    "# plt.savefig('figures/04_10.png', dpi=300)\n",
    "plt.show()"
   ]
  },
  {
   "cell_type": "code",
   "execution_count": 38,
   "id": "9a1c5d46",
   "metadata": {},
   "outputs": [
    {
     "name": "stdout",
     "output_type": "stream",
     "text": [
      "Train acc: 0.9203056768558951\n",
      "Test acc: 0.8422391857506362\n"
     ]
    },
    {
     "name": "stderr",
     "output_type": "stream",
     "text": [
      "D:\\anaconda3\\Lib\\site-packages\\sklearn\\base.py:439: UserWarning: X does not have valid feature names, but RandomForestClassifier was fitted with feature names\n",
      "  warnings.warn(\n",
      "D:\\anaconda3\\Lib\\site-packages\\sklearn\\base.py:439: UserWarning: X does not have valid feature names, but RandomForestClassifier was fitted with feature names\n",
      "  warnings.warn(\n"
     ]
    }
   ],
   "source": [
    "train_y_pred = rnd_clf.predict(train_x)\n",
    "train_acc = accuracy_score(train_y, train_y_pred)\n",
    "print('Train acc: {}' .format(train_acc))\n",
    "\n",
    "test_y_pred = rnd_clf.predict(test_x)\n",
    "test_acc = accuracy_score(test_y, test_y_pred)\n",
    "print('Test acc: {}' .format(test_acc))"
   ]
  },
  {
   "cell_type": "markdown",
   "id": "ca084277-743a-42b8-ad85-f45ee5e0d4e8",
   "metadata": {},
   "source": [
    "## Try ExtraTrees Classifier model"
   ]
  },
  {
   "cell_type": "code",
   "execution_count": 39,
   "id": "a8c24745",
   "metadata": {},
   "outputs": [
    {
     "name": "stderr",
     "output_type": "stream",
     "text": [
      "C:\\Users\\chadu\\AppData\\Local\\Temp\\ipykernel_17712\\2120486801.py:5: DataConversionWarning: A column-vector y was passed when a 1d array was expected. Please change the shape of y to (n_samples,), for example using ravel().\n",
      "  ETC.fit(train_x, train_y)\n"
     ]
    },
    {
     "data": {
      "text/html": [
       "<style>#sk-container-id-2 {color: black;background-color: white;}#sk-container-id-2 pre{padding: 0;}#sk-container-id-2 div.sk-toggleable {background-color: white;}#sk-container-id-2 label.sk-toggleable__label {cursor: pointer;display: block;width: 100%;margin-bottom: 0;padding: 0.3em;box-sizing: border-box;text-align: center;}#sk-container-id-2 label.sk-toggleable__label-arrow:before {content: \"▸\";float: left;margin-right: 0.25em;color: #696969;}#sk-container-id-2 label.sk-toggleable__label-arrow:hover:before {color: black;}#sk-container-id-2 div.sk-estimator:hover label.sk-toggleable__label-arrow:before {color: black;}#sk-container-id-2 div.sk-toggleable__content {max-height: 0;max-width: 0;overflow: hidden;text-align: left;background-color: #f0f8ff;}#sk-container-id-2 div.sk-toggleable__content pre {margin: 0.2em;color: black;border-radius: 0.25em;background-color: #f0f8ff;}#sk-container-id-2 input.sk-toggleable__control:checked~div.sk-toggleable__content {max-height: 200px;max-width: 100%;overflow: auto;}#sk-container-id-2 input.sk-toggleable__control:checked~label.sk-toggleable__label-arrow:before {content: \"▾\";}#sk-container-id-2 div.sk-estimator input.sk-toggleable__control:checked~label.sk-toggleable__label {background-color: #d4ebff;}#sk-container-id-2 div.sk-label input.sk-toggleable__control:checked~label.sk-toggleable__label {background-color: #d4ebff;}#sk-container-id-2 input.sk-hidden--visually {border: 0;clip: rect(1px 1px 1px 1px);clip: rect(1px, 1px, 1px, 1px);height: 1px;margin: -1px;overflow: hidden;padding: 0;position: absolute;width: 1px;}#sk-container-id-2 div.sk-estimator {font-family: monospace;background-color: #f0f8ff;border: 1px dotted black;border-radius: 0.25em;box-sizing: border-box;margin-bottom: 0.5em;}#sk-container-id-2 div.sk-estimator:hover {background-color: #d4ebff;}#sk-container-id-2 div.sk-parallel-item::after {content: \"\";width: 100%;border-bottom: 1px solid gray;flex-grow: 1;}#sk-container-id-2 div.sk-label:hover label.sk-toggleable__label {background-color: #d4ebff;}#sk-container-id-2 div.sk-serial::before {content: \"\";position: absolute;border-left: 1px solid gray;box-sizing: border-box;top: 0;bottom: 0;left: 50%;z-index: 0;}#sk-container-id-2 div.sk-serial {display: flex;flex-direction: column;align-items: center;background-color: white;padding-right: 0.2em;padding-left: 0.2em;position: relative;}#sk-container-id-2 div.sk-item {position: relative;z-index: 1;}#sk-container-id-2 div.sk-parallel {display: flex;align-items: stretch;justify-content: center;background-color: white;position: relative;}#sk-container-id-2 div.sk-item::before, #sk-container-id-2 div.sk-parallel-item::before {content: \"\";position: absolute;border-left: 1px solid gray;box-sizing: border-box;top: 0;bottom: 0;left: 50%;z-index: -1;}#sk-container-id-2 div.sk-parallel-item {display: flex;flex-direction: column;z-index: 1;position: relative;background-color: white;}#sk-container-id-2 div.sk-parallel-item:first-child::after {align-self: flex-end;width: 50%;}#sk-container-id-2 div.sk-parallel-item:last-child::after {align-self: flex-start;width: 50%;}#sk-container-id-2 div.sk-parallel-item:only-child::after {width: 0;}#sk-container-id-2 div.sk-dashed-wrapped {border: 1px dashed gray;margin: 0 0.4em 0.5em 0.4em;box-sizing: border-box;padding-bottom: 0.4em;background-color: white;}#sk-container-id-2 div.sk-label label {font-family: monospace;font-weight: bold;display: inline-block;line-height: 1.2em;}#sk-container-id-2 div.sk-label-container {text-align: center;}#sk-container-id-2 div.sk-container {/* jupyter's `normalize.less` sets `[hidden] { display: none; }` but bootstrap.min.css set `[hidden] { display: none !important; }` so we also need the `!important` here to be able to override the default hidden behavior on the sphinx rendered scikit-learn.org. See: https://github.com/scikit-learn/scikit-learn/issues/21755 */display: inline-block !important;position: relative;}#sk-container-id-2 div.sk-text-repr-fallback {display: none;}</style><div id=\"sk-container-id-2\" class=\"sk-top-container\"><div class=\"sk-text-repr-fallback\"><pre>ExtraTreesClassifier(max_depth=8, min_samples_split=3, n_estimators=50,\n",
       "                     n_jobs=-1)</pre><b>In a Jupyter environment, please rerun this cell to show the HTML representation or trust the notebook. <br />On GitHub, the HTML representation is unable to render, please try loading this page with nbviewer.org.</b></div><div class=\"sk-container\" hidden><div class=\"sk-item\"><div class=\"sk-estimator sk-toggleable\"><input class=\"sk-toggleable__control sk-hidden--visually\" id=\"sk-estimator-id-2\" type=\"checkbox\" checked><label for=\"sk-estimator-id-2\" class=\"sk-toggleable__label sk-toggleable__label-arrow\">ExtraTreesClassifier</label><div class=\"sk-toggleable__content\"><pre>ExtraTreesClassifier(max_depth=8, min_samples_split=3, n_estimators=50,\n",
       "                     n_jobs=-1)</pre></div></div></div></div></div>"
      ],
      "text/plain": [
       "ExtraTreesClassifier(max_depth=8, min_samples_split=3, n_estimators=50,\n",
       "                     n_jobs=-1)"
      ]
     },
     "execution_count": 39,
     "metadata": {},
     "output_type": "execute_result"
    }
   ],
   "source": [
    "from sklearn.ensemble import ExtraTreesClassifier\n",
    "\n",
    "ETC = ExtraTreesClassifier(n_estimators=50, max_depth=8, min_samples_split=3, n_jobs=-1)\n",
    "\n",
    "ETC.fit(train_x, train_y)"
   ]
  },
  {
   "cell_type": "code",
   "execution_count": 40,
   "id": "112d932d",
   "metadata": {},
   "outputs": [
    {
     "name": "stdout",
     "output_type": "stream",
     "text": [
      "Train acc: 0.8995633187772926\n",
      "Test acc: 0.8498727735368957\n"
     ]
    }
   ],
   "source": [
    "train_y_pred = ETC.predict(train_x)\n",
    "train_acc = accuracy_score(train_y, train_y_pred)\n",
    "print('Train acc: {}' .format(train_acc))\n",
    "\n",
    "test_y_pred = ETC.predict(test_x)\n",
    "test_acc = accuracy_score(test_y, test_y_pred)\n",
    "print('Test acc: {}' .format(test_acc))"
   ]
  },
  {
   "cell_type": "markdown",
   "id": "5ee04540-4cb9-4e3c-932a-da22e420afda",
   "metadata": {},
   "source": [
    "## Let's plot feature importance"
   ]
  },
  {
   "cell_type": "code",
   "execution_count": 41,
   "id": "ca757cac",
   "metadata": {},
   "outputs": [
    {
     "name": "stderr",
     "output_type": "stream",
     "text": [
      "C:\\Users\\chadu\\AppData\\Local\\Temp\\ipykernel_17712\\1669653006.py:7: DataConversionWarning: A column-vector y was passed when a 1d array was expected. Please change the shape of y to (n_samples,), for example using ravel().\n",
      "  ETC.fit(train_x2, train_y)\n"
     ]
    },
    {
     "name": "stdout",
     "output_type": "stream",
     "text": [
      " 1) cat__Sex_female                0.383161\n",
      " 2) cat__Sex_male                  0.361135\n",
      " 3) num__Fare                      0.044806\n",
      " 4) num__Age                       0.039031\n",
      " 5) cat__Pclass_1                  0.035486\n",
      " 6) cat__Pclass_3                  0.033918\n",
      " 7) num__Parch                     0.032687\n",
      " 8) num__SibSp                     0.031846\n",
      " 9) cat__Embarked_S                0.013162\n",
      "10) cat__Pclass_2                  0.009596\n",
      "11) cat__Embarked_C                0.008771\n",
      "12) cat__Embarked_Q                0.006296\n",
      "13) cat__Embarked_unknown          0.000106\n"
     ]
    },
    {
     "data": {
      "image/png": "[encoded data removed]",
      "text/plain": [
       "<Figure size 640x480 with 1 Axes>"
      ]
     },
     "metadata": {},
     "output_type": "display_data"
    }
   ],
   "source": [
    "import matplotlib.pyplot as plt\n",
    "\n",
    "feat_labels = train_x2.columns\n",
    "\n",
    "ETC = ExtraTreesClassifier(n_estimators=50, max_depth=8, min_samples_split=3, n_jobs=-1)\n",
    "\n",
    "ETC.fit(train_x2, train_y)\n",
    "\n",
    "importances = ETC.feature_importances_\n",
    "\n",
    "indices = np.argsort(importances)[::-1]\n",
    "\n",
    "for f in range(train_x2.shape[1]):\n",
    "    print(\"%2d) %-*s %f\" % (f + 1, 30, \n",
    "                            feat_labels[indices[f]], \n",
    "                            importances[indices[f]]))\n",
    "\n",
    "plt.title('Feature importance')\n",
    "plt.bar(range(train_x2.shape[1]), \n",
    "        importances[indices],\n",
    "        align='center')\n",
    "\n",
    "plt.xticks(range(train_x2.shape[1]), \n",
    "           feat_labels[indices], rotation=90)\n",
    "plt.xlim([-1, train_x2.shape[1]])\n",
    "plt.tight_layout()\n",
    "# plt.savefig('figures/04_10.png', dpi=300)\n",
    "plt.show()"
   ]
  },
  {
   "cell_type": "markdown",
   "id": "99e00070-42d8-4667-aa42-c23747f81d83",
   "metadata": {},
   "source": [
    "# KNN Model with Features/Model Accuracy Chart"
   ]
  },
  {
   "cell_type": "markdown",
   "id": "4802d31b-4e07-41e2-9658-3719f66cdaf2",
   "metadata": {},
   "source": [
    "### First, create Sequential feature selection algorithms"
   ]
  },
  {
   "cell_type": "code",
   "execution_count": 42,
   "id": "eca2a890-a8c8-4a31-97b7-681dca71c1b6",
   "metadata": {},
   "outputs": [],
   "source": [
    "from sklearn.base import clone\n",
    "from itertools import combinations\n",
    "from sklearn.model_selection import train_test_split\n",
    "\n",
    "class SBS:\n",
    "    def __init__(self, estimator, k_features, scoring=accuracy_score,\n",
    "                 test_size=0.25, random_state=1):\n",
    "        self.scoring = scoring\n",
    "        self.estimator = clone(estimator)\n",
    "        self.k_features = k_features\n",
    "        self.test_size = test_size\n",
    "        self.random_state = random_state\n",
    "\n",
    "    def fit(self, X, y):\n",
    "        \n",
    "        train_x, test_x, train_y, test_y = \\\n",
    "            train_test_split(X, y, test_size=self.test_size,\n",
    "                             random_state=self.random_state)\n",
    "\n",
    "        dim = train_x.shape[1]\n",
    "        self.indices_ = tuple(range(dim))\n",
    "        self.subsets_ = [self.indices_]\n",
    "        score = self._calc_score(train_x, train_y, \n",
    "                                 test_x, test_y, self.indices_)\n",
    "        self.scores_ = [score]\n",
    "\n",
    "        while dim > self.k_features:\n",
    "            scores = []\n",
    "            subsets = []\n",
    "\n",
    "            for p in combinations(self.indices_, r=dim - 1):\n",
    "                score = self._calc_score(train_x, train_y, \n",
    "                                         test_x, test_y, p)\n",
    "                scores.append(score)\n",
    "                subsets.append(p)\n",
    "\n",
    "            best = np.argmax(scores)\n",
    "            self.indices_ = subsets[best]\n",
    "            self.subsets_.append(self.indices_)\n",
    "            dim -= 1\n",
    "\n",
    "            self.scores_.append(scores[best])\n",
    "        self.k_score_ = self.scores_[-1]\n",
    "\n",
    "        return self\n",
    "\n",
    "    def transform(self, X):\n",
    "        return X[:, self.indices_]\n",
    "\n",
    "    def _calc_score(self, train_x, train_y, test_x, test_y, indices):\n",
    "        self.estimator.fit(train_x[:, indices], train_y)\n",
    "        y_pred = self.estimator.predict(test_x[:, indices])\n",
    "        score = self.scoring(test_y, y_pred)\n",
    "        return score"
   ]
  },
  {
   "cell_type": "code",
   "execution_count": 43,
   "id": "7a63f1f5-b683-43e4-92cb-5537c25c3f90",
   "metadata": {},
   "outputs": [
    {
     "name": "stderr",
     "output_type": "stream",
     "text": [
      "D:\\anaconda3\\Lib\\site-packages\\sklearn\\neighbors\\_classification.py:215: DataConversionWarning: A column-vector y was passed when a 1d array was expected. Please change the shape of y to (n_samples,), for example using ravel().\n",
      "  return self._fit(X, y)\n",
      "D:\\anaconda3\\Lib\\site-packages\\sklearn\\neighbors\\_classification.py:215: DataConversionWarning: A column-vector y was passed when a 1d array was expected. Please change the shape of y to (n_samples,), for example using ravel().\n",
      "  return self._fit(X, y)\n",
      "D:\\anaconda3\\Lib\\site-packages\\sklearn\\neighbors\\_classification.py:215: DataConversionWarning: A column-vector y was passed when a 1d array was expected. Please change the shape of y to (n_samples,), for example using ravel().\n",
      "  return self._fit(X, y)\n",
      "D:\\anaconda3\\Lib\\site-packages\\sklearn\\neighbors\\_classification.py:215: DataConversionWarning: A column-vector y was passed when a 1d array was expected. Please change the shape of y to (n_samples,), for example using ravel().\n",
      "  return self._fit(X, y)\n",
      "D:\\anaconda3\\Lib\\site-packages\\sklearn\\neighbors\\_classification.py:215: DataConversionWarning: A column-vector y was passed when a 1d array was expected. Please change the shape of y to (n_samples,), for example using ravel().\n",
      "  return self._fit(X, y)\n",
      "D:\\anaconda3\\Lib\\site-packages\\sklearn\\neighbors\\_classification.py:215: DataConversionWarning: A column-vector y was passed when a 1d array was expected. Please change the shape of y to (n_samples,), for example using ravel().\n",
      "  return self._fit(X, y)\n",
      "D:\\anaconda3\\Lib\\site-packages\\sklearn\\neighbors\\_classification.py:215: DataConversionWarning: A column-vector y was passed when a 1d array was expected. Please change the shape of y to (n_samples,), for example using ravel().\n",
      "  return self._fit(X, y)\n",
      "D:\\anaconda3\\Lib\\site-packages\\sklearn\\neighbors\\_classification.py:215: DataConversionWarning: A column-vector y was passed when a 1d array was expected. Please change the shape of y to (n_samples,), for example using ravel().\n",
      "  return self._fit(X, y)\n",
      "D:\\anaconda3\\Lib\\site-packages\\sklearn\\neighbors\\_classification.py:215: DataConversionWarning: A column-vector y was passed when a 1d array was expected. Please change the shape of y to (n_samples,), for example using ravel().\n",
      "  return self._fit(X, y)\n",
      "D:\\anaconda3\\Lib\\site-packages\\sklearn\\neighbors\\_classification.py:215: DataConversionWarning: A column-vector y was passed when a 1d array was expected. Please change the shape of y to (n_samples,), for example using ravel().\n",
      "  return self._fit(X, y)\n",
      "D:\\anaconda3\\Lib\\site-packages\\sklearn\\neighbors\\_classification.py:215: DataConversionWarning: A column-vector y was passed when a 1d array was expected. Please change the shape of y to (n_samples,), for example using ravel().\n",
      "  return self._fit(X, y)\n",
      "D:\\anaconda3\\Lib\\site-packages\\sklearn\\neighbors\\_classification.py:215: DataConversionWarning: A column-vector y was passed when a 1d array was expected. Please change the shape of y to (n_samples,), for example using ravel().\n",
      "  return self._fit(X, y)\n",
      "D:\\anaconda3\\Lib\\site-packages\\sklearn\\neighbors\\_classification.py:215: DataConversionWarning: A column-vector y was passed when a 1d array was expected. Please change the shape of y to (n_samples,), for example using ravel().\n",
      "  return self._fit(X, y)\n",
      "D:\\anaconda3\\Lib\\site-packages\\sklearn\\neighbors\\_classification.py:215: DataConversionWarning: A column-vector y was passed when a 1d array was expected. Please change the shape of y to (n_samples,), for example using ravel().\n",
      "  return self._fit(X, y)\n",
      "D:\\anaconda3\\Lib\\site-packages\\sklearn\\neighbors\\_classification.py:215: DataConversionWarning: A column-vector y was passed when a 1d array was expected. Please change the shape of y to (n_samples,), for example using ravel().\n",
      "  return self._fit(X, y)\n",
      "D:\\anaconda3\\Lib\\site-packages\\sklearn\\neighbors\\_classification.py:215: DataConversionWarning: A column-vector y was passed when a 1d array was expected. Please change the shape of y to (n_samples,), for example using ravel().\n",
      "  return self._fit(X, y)\n",
      "D:\\anaconda3\\Lib\\site-packages\\sklearn\\neighbors\\_classification.py:215: DataConversionWarning: A column-vector y was passed when a 1d array was expected. Please change the shape of y to (n_samples,), for example using ravel().\n",
      "  return self._fit(X, y)\n",
      "D:\\anaconda3\\Lib\\site-packages\\sklearn\\neighbors\\_classification.py:215: DataConversionWarning: A column-vector y was passed when a 1d array was expected. Please change the shape of y to (n_samples,), for example using ravel().\n",
      "  return self._fit(X, y)\n",
      "D:\\anaconda3\\Lib\\site-packages\\sklearn\\neighbors\\_classification.py:215: DataConversionWarning: A column-vector y was passed when a 1d array was expected. Please change the shape of y to (n_samples,), for example using ravel().\n",
      "  return self._fit(X, y)\n",
      "D:\\anaconda3\\Lib\\site-packages\\sklearn\\neighbors\\_classification.py:215: DataConversionWarning: A column-vector y was passed when a 1d array was expected. Please change the shape of y to (n_samples,), for example using ravel().\n",
      "  return self._fit(X, y)\n",
      "D:\\anaconda3\\Lib\\site-packages\\sklearn\\neighbors\\_classification.py:215: DataConversionWarning: A column-vector y was passed when a 1d array was expected. Please change the shape of y to (n_samples,), for example using ravel().\n",
      "  return self._fit(X, y)\n",
      "D:\\anaconda3\\Lib\\site-packages\\sklearn\\neighbors\\_classification.py:215: DataConversionWarning: A column-vector y was passed when a 1d array was expected. Please change the shape of y to (n_samples,), for example using ravel().\n",
      "  return self._fit(X, y)\n",
      "D:\\anaconda3\\Lib\\site-packages\\sklearn\\neighbors\\_classification.py:215: DataConversionWarning: A column-vector y was passed when a 1d array was expected. Please change the shape of y to (n_samples,), for example using ravel().\n",
      "  return self._fit(X, y)\n",
      "D:\\anaconda3\\Lib\\site-packages\\sklearn\\neighbors\\_classification.py:215: DataConversionWarning: A column-vector y was passed when a 1d array was expected. Please change the shape of y to (n_samples,), for example using ravel().\n",
      "  return self._fit(X, y)\n",
      "D:\\anaconda3\\Lib\\site-packages\\sklearn\\neighbors\\_classification.py:215: DataConversionWarning: A column-vector y was passed when a 1d array was expected. Please change the shape of y to (n_samples,), for example using ravel().\n",
      "  return self._fit(X, y)\n",
      "D:\\anaconda3\\Lib\\site-packages\\sklearn\\neighbors\\_classification.py:215: DataConversionWarning: A column-vector y was passed when a 1d array was expected. Please change the shape of y to (n_samples,), for example using ravel().\n",
      "  return self._fit(X, y)\n",
      "D:\\anaconda3\\Lib\\site-packages\\sklearn\\neighbors\\_classification.py:215: DataConversionWarning: A column-vector y was passed when a 1d array was expected. Please change the shape of y to (n_samples,), for example using ravel().\n",
      "  return self._fit(X, y)\n",
      "D:\\anaconda3\\Lib\\site-packages\\sklearn\\neighbors\\_classification.py:215: DataConversionWarning: A column-vector y was passed when a 1d array was expected. Please change the shape of y to (n_samples,), for example using ravel().\n",
      "  return self._fit(X, y)\n",
      "D:\\anaconda3\\Lib\\site-packages\\sklearn\\neighbors\\_classification.py:215: DataConversionWarning: A column-vector y was passed when a 1d array was expected. Please change the shape of y to (n_samples,), for example using ravel().\n",
      "  return self._fit(X, y)\n",
      "D:\\anaconda3\\Lib\\site-packages\\sklearn\\neighbors\\_classification.py:215: DataConversionWarning: A column-vector y was passed when a 1d array was expected. Please change the shape of y to (n_samples,), for example using ravel().\n",
      "  return self._fit(X, y)\n",
      "D:\\anaconda3\\Lib\\site-packages\\sklearn\\neighbors\\_classification.py:215: DataConversionWarning: A column-vector y was passed when a 1d array was expected. Please change the shape of y to (n_samples,), for example using ravel().\n",
      "  return self._fit(X, y)\n",
      "D:\\anaconda3\\Lib\\site-packages\\sklearn\\neighbors\\_classification.py:215: DataConversionWarning: A column-vector y was passed when a 1d array was expected. Please change the shape of y to (n_samples,), for example using ravel().\n",
      "  return self._fit(X, y)\n",
      "D:\\anaconda3\\Lib\\site-packages\\sklearn\\neighbors\\_classification.py:215: DataConversionWarning: A column-vector y was passed when a 1d array was expected. Please change the shape of y to (n_samples,), for example using ravel().\n",
      "  return self._fit(X, y)\n",
      "D:\\anaconda3\\Lib\\site-packages\\sklearn\\neighbors\\_classification.py:215: DataConversionWarning: A column-vector y was passed when a 1d array was expected. Please change the shape of y to (n_samples,), for example using ravel().\n",
      "  return self._fit(X, y)\n",
      "D:\\anaconda3\\Lib\\site-packages\\sklearn\\neighbors\\_classification.py:215: DataConversionWarning: A column-vector y was passed when a 1d array was expected. Please change the shape of y to (n_samples,), for example using ravel().\n",
      "  return self._fit(X, y)\n",
      "D:\\anaconda3\\Lib\\site-packages\\sklearn\\neighbors\\_classification.py:215: DataConversionWarning: A column-vector y was passed when a 1d array was expected. Please change the shape of y to (n_samples,), for example using ravel().\n",
      "  return self._fit(X, y)\n",
      "D:\\anaconda3\\Lib\\site-packages\\sklearn\\neighbors\\_classification.py:215: DataConversionWarning: A column-vector y was passed when a 1d array was expected. Please change the shape of y to (n_samples,), for example using ravel().\n",
      "  return self._fit(X, y)\n",
      "D:\\anaconda3\\Lib\\site-packages\\sklearn\\neighbors\\_classification.py:215: DataConversionWarning: A column-vector y was passed when a 1d array was expected. Please change the shape of y to (n_samples,), for example using ravel().\n",
      "  return self._fit(X, y)\n",
      "D:\\anaconda3\\Lib\\site-packages\\sklearn\\neighbors\\_classification.py:215: DataConversionWarning: A column-vector y was passed when a 1d array was expected. Please change the shape of y to (n_samples,), for example using ravel().\n",
      "  return self._fit(X, y)\n",
      "D:\\anaconda3\\Lib\\site-packages\\sklearn\\neighbors\\_classification.py:215: DataConversionWarning: A column-vector y was passed when a 1d array was expected. Please change the shape of y to (n_samples,), for example using ravel().\n",
      "  return self._fit(X, y)\n",
      "D:\\anaconda3\\Lib\\site-packages\\sklearn\\neighbors\\_classification.py:215: DataConversionWarning: A column-vector y was passed when a 1d array was expected. Please change the shape of y to (n_samples,), for example using ravel().\n",
      "  return self._fit(X, y)\n",
      "D:\\anaconda3\\Lib\\site-packages\\sklearn\\neighbors\\_classification.py:215: DataConversionWarning: A column-vector y was passed when a 1d array was expected. Please change the shape of y to (n_samples,), for example using ravel().\n",
      "  return self._fit(X, y)\n",
      "D:\\anaconda3\\Lib\\site-packages\\sklearn\\neighbors\\_classification.py:215: DataConversionWarning: A column-vector y was passed when a 1d array was expected. Please change the shape of y to (n_samples,), for example using ravel().\n",
      "  return self._fit(X, y)\n",
      "D:\\anaconda3\\Lib\\site-packages\\sklearn\\neighbors\\_classification.py:215: DataConversionWarning: A column-vector y was passed when a 1d array was expected. Please change the shape of y to (n_samples,), for example using ravel().\n",
      "  return self._fit(X, y)\n",
      "D:\\anaconda3\\Lib\\site-packages\\sklearn\\neighbors\\_classification.py:215: DataConversionWarning: A column-vector y was passed when a 1d array was expected. Please change the shape of y to (n_samples,), for example using ravel().\n",
      "  return self._fit(X, y)\n",
      "D:\\anaconda3\\Lib\\site-packages\\sklearn\\neighbors\\_classification.py:215: DataConversionWarning: A column-vector y was passed when a 1d array was expected. Please change the shape of y to (n_samples,), for example using ravel().\n",
      "  return self._fit(X, y)\n",
      "D:\\anaconda3\\Lib\\site-packages\\sklearn\\neighbors\\_classification.py:215: DataConversionWarning: A column-vector y was passed when a 1d array was expected. Please change the shape of y to (n_samples,), for example using ravel().\n",
      "  return self._fit(X, y)\n",
      "D:\\anaconda3\\Lib\\site-packages\\sklearn\\neighbors\\_classification.py:215: DataConversionWarning: A column-vector y was passed when a 1d array was expected. Please change the shape of y to (n_samples,), for example using ravel().\n",
      "  return self._fit(X, y)\n",
      "D:\\anaconda3\\Lib\\site-packages\\sklearn\\neighbors\\_classification.py:215: DataConversionWarning: A column-vector y was passed when a 1d array was expected. Please change the shape of y to (n_samples,), for example using ravel().\n",
      "  return self._fit(X, y)\n",
      "D:\\anaconda3\\Lib\\site-packages\\sklearn\\neighbors\\_classification.py:215: DataConversionWarning: A column-vector y was passed when a 1d array was expected. Please change the shape of y to (n_samples,), for example using ravel().\n",
      "  return self._fit(X, y)\n",
      "D:\\anaconda3\\Lib\\site-packages\\sklearn\\neighbors\\_classification.py:215: DataConversionWarning: A column-vector y was passed when a 1d array was expected. Please change the shape of y to (n_samples,), for example using ravel().\n",
      "  return self._fit(X, y)\n",
      "D:\\anaconda3\\Lib\\site-packages\\sklearn\\neighbors\\_classification.py:215: DataConversionWarning: A column-vector y was passed when a 1d array was expected. Please change the shape of y to (n_samples,), for example using ravel().\n",
      "  return self._fit(X, y)\n",
      "D:\\anaconda3\\Lib\\site-packages\\sklearn\\neighbors\\_classification.py:215: DataConversionWarning: A column-vector y was passed when a 1d array was expected. Please change the shape of y to (n_samples,), for example using ravel().\n",
      "  return self._fit(X, y)\n",
      "D:\\anaconda3\\Lib\\site-packages\\sklearn\\neighbors\\_classification.py:215: DataConversionWarning: A column-vector y was passed when a 1d array was expected. Please change the shape of y to (n_samples,), for example using ravel().\n",
      "  return self._fit(X, y)\n",
      "D:\\anaconda3\\Lib\\site-packages\\sklearn\\neighbors\\_classification.py:215: DataConversionWarning: A column-vector y was passed when a 1d array was expected. Please change the shape of y to (n_samples,), for example using ravel().\n",
      "  return self._fit(X, y)\n",
      "D:\\anaconda3\\Lib\\site-packages\\sklearn\\neighbors\\_classification.py:215: DataConversionWarning: A column-vector y was passed when a 1d array was expected. Please change the shape of y to (n_samples,), for example using ravel().\n",
      "  return self._fit(X, y)\n",
      "D:\\anaconda3\\Lib\\site-packages\\sklearn\\neighbors\\_classification.py:215: DataConversionWarning: A column-vector y was passed when a 1d array was expected. Please change the shape of y to (n_samples,), for example using ravel().\n",
      "  return self._fit(X, y)\n",
      "D:\\anaconda3\\Lib\\site-packages\\sklearn\\neighbors\\_classification.py:215: DataConversionWarning: A column-vector y was passed when a 1d array was expected. Please change the shape of y to (n_samples,), for example using ravel().\n",
      "  return self._fit(X, y)\n",
      "D:\\anaconda3\\Lib\\site-packages\\sklearn\\neighbors\\_classification.py:215: DataConversionWarning: A column-vector y was passed when a 1d array was expected. Please change the shape of y to (n_samples,), for example using ravel().\n",
      "  return self._fit(X, y)\n",
      "D:\\anaconda3\\Lib\\site-packages\\sklearn\\neighbors\\_classification.py:215: DataConversionWarning: A column-vector y was passed when a 1d array was expected. Please change the shape of y to (n_samples,), for example using ravel().\n",
      "  return self._fit(X, y)\n",
      "D:\\anaconda3\\Lib\\site-packages\\sklearn\\neighbors\\_classification.py:215: DataConversionWarning: A column-vector y was passed when a 1d array was expected. Please change the shape of y to (n_samples,), for example using ravel().\n",
      "  return self._fit(X, y)\n",
      "D:\\anaconda3\\Lib\\site-packages\\sklearn\\neighbors\\_classification.py:215: DataConversionWarning: A column-vector y was passed when a 1d array was expected. Please change the shape of y to (n_samples,), for example using ravel().\n",
      "  return self._fit(X, y)\n",
      "D:\\anaconda3\\Lib\\site-packages\\sklearn\\neighbors\\_classification.py:215: DataConversionWarning: A column-vector y was passed when a 1d array was expected. Please change the shape of y to (n_samples,), for example using ravel().\n",
      "  return self._fit(X, y)\n",
      "D:\\anaconda3\\Lib\\site-packages\\sklearn\\neighbors\\_classification.py:215: DataConversionWarning: A column-vector y was passed when a 1d array was expected. Please change the shape of y to (n_samples,), for example using ravel().\n",
      "  return self._fit(X, y)\n",
      "D:\\anaconda3\\Lib\\site-packages\\sklearn\\neighbors\\_classification.py:215: DataConversionWarning: A column-vector y was passed when a 1d array was expected. Please change the shape of y to (n_samples,), for example using ravel().\n",
      "  return self._fit(X, y)\n",
      "D:\\anaconda3\\Lib\\site-packages\\sklearn\\neighbors\\_classification.py:215: DataConversionWarning: A column-vector y was passed when a 1d array was expected. Please change the shape of y to (n_samples,), for example using ravel().\n",
      "  return self._fit(X, y)\n",
      "D:\\anaconda3\\Lib\\site-packages\\sklearn\\neighbors\\_classification.py:215: DataConversionWarning: A column-vector y was passed when a 1d array was expected. Please change the shape of y to (n_samples,), for example using ravel().\n",
      "  return self._fit(X, y)\n",
      "D:\\anaconda3\\Lib\\site-packages\\sklearn\\neighbors\\_classification.py:215: DataConversionWarning: A column-vector y was passed when a 1d array was expected. Please change the shape of y to (n_samples,), for example using ravel().\n",
      "  return self._fit(X, y)\n",
      "D:\\anaconda3\\Lib\\site-packages\\sklearn\\neighbors\\_classification.py:215: DataConversionWarning: A column-vector y was passed when a 1d array was expected. Please change the shape of y to (n_samples,), for example using ravel().\n",
      "  return self._fit(X, y)\n",
      "D:\\anaconda3\\Lib\\site-packages\\sklearn\\neighbors\\_classification.py:215: DataConversionWarning: A column-vector y was passed when a 1d array was expected. Please change the shape of y to (n_samples,), for example using ravel().\n",
      "  return self._fit(X, y)\n",
      "D:\\anaconda3\\Lib\\site-packages\\sklearn\\neighbors\\_classification.py:215: DataConversionWarning: A column-vector y was passed when a 1d array was expected. Please change the shape of y to (n_samples,), for example using ravel().\n",
      "  return self._fit(X, y)\n",
      "D:\\anaconda3\\Lib\\site-packages\\sklearn\\neighbors\\_classification.py:215: DataConversionWarning: A column-vector y was passed when a 1d array was expected. Please change the shape of y to (n_samples,), for example using ravel().\n",
      "  return self._fit(X, y)\n",
      "D:\\anaconda3\\Lib\\site-packages\\sklearn\\neighbors\\_classification.py:215: DataConversionWarning: A column-vector y was passed when a 1d array was expected. Please change the shape of y to (n_samples,), for example using ravel().\n",
      "  return self._fit(X, y)\n",
      "D:\\anaconda3\\Lib\\site-packages\\sklearn\\neighbors\\_classification.py:215: DataConversionWarning: A column-vector y was passed when a 1d array was expected. Please change the shape of y to (n_samples,), for example using ravel().\n",
      "  return self._fit(X, y)\n",
      "D:\\anaconda3\\Lib\\site-packages\\sklearn\\neighbors\\_classification.py:215: DataConversionWarning: A column-vector y was passed when a 1d array was expected. Please change the shape of y to (n_samples,), for example using ravel().\n",
      "  return self._fit(X, y)\n",
      "D:\\anaconda3\\Lib\\site-packages\\sklearn\\neighbors\\_classification.py:215: DataConversionWarning: A column-vector y was passed when a 1d array was expected. Please change the shape of y to (n_samples,), for example using ravel().\n",
      "  return self._fit(X, y)\n",
      "D:\\anaconda3\\Lib\\site-packages\\sklearn\\neighbors\\_classification.py:215: DataConversionWarning: A column-vector y was passed when a 1d array was expected. Please change the shape of y to (n_samples,), for example using ravel().\n",
      "  return self._fit(X, y)\n",
      "D:\\anaconda3\\Lib\\site-packages\\sklearn\\neighbors\\_classification.py:215: DataConversionWarning: A column-vector y was passed when a 1d array was expected. Please change the shape of y to (n_samples,), for example using ravel().\n",
      "  return self._fit(X, y)\n",
      "D:\\anaconda3\\Lib\\site-packages\\sklearn\\neighbors\\_classification.py:215: DataConversionWarning: A column-vector y was passed when a 1d array was expected. Please change the shape of y to (n_samples,), for example using ravel().\n",
      "  return self._fit(X, y)\n",
      "D:\\anaconda3\\Lib\\site-packages\\sklearn\\neighbors\\_classification.py:215: DataConversionWarning: A column-vector y was passed when a 1d array was expected. Please change the shape of y to (n_samples,), for example using ravel().\n",
      "  return self._fit(X, y)\n",
      "D:\\anaconda3\\Lib\\site-packages\\sklearn\\neighbors\\_classification.py:215: DataConversionWarning: A column-vector y was passed when a 1d array was expected. Please change the shape of y to (n_samples,), for example using ravel().\n",
      "  return self._fit(X, y)\n",
      "D:\\anaconda3\\Lib\\site-packages\\sklearn\\neighbors\\_classification.py:215: DataConversionWarning: A column-vector y was passed when a 1d array was expected. Please change the shape of y to (n_samples,), for example using ravel().\n",
      "  return self._fit(X, y)\n",
      "D:\\anaconda3\\Lib\\site-packages\\sklearn\\neighbors\\_classification.py:215: DataConversionWarning: A column-vector y was passed when a 1d array was expected. Please change the shape of y to (n_samples,), for example using ravel().\n",
      "  return self._fit(X, y)\n",
      "D:\\anaconda3\\Lib\\site-packages\\sklearn\\neighbors\\_classification.py:215: DataConversionWarning: A column-vector y was passed when a 1d array was expected. Please change the shape of y to (n_samples,), for example using ravel().\n",
      "  return self._fit(X, y)\n",
      "D:\\anaconda3\\Lib\\site-packages\\sklearn\\neighbors\\_classification.py:215: DataConversionWarning: A column-vector y was passed when a 1d array was expected. Please change the shape of y to (n_samples,), for example using ravel().\n",
      "  return self._fit(X, y)\n",
      "D:\\anaconda3\\Lib\\site-packages\\sklearn\\neighbors\\_classification.py:215: DataConversionWarning: A column-vector y was passed when a 1d array was expected. Please change the shape of y to (n_samples,), for example using ravel().\n",
      "  return self._fit(X, y)\n",
      "D:\\anaconda3\\Lib\\site-packages\\sklearn\\neighbors\\_classification.py:215: DataConversionWarning: A column-vector y was passed when a 1d array was expected. Please change the shape of y to (n_samples,), for example using ravel().\n",
      "  return self._fit(X, y)\n",
      "D:\\anaconda3\\Lib\\site-packages\\sklearn\\neighbors\\_classification.py:215: DataConversionWarning: A column-vector y was passed when a 1d array was expected. Please change the shape of y to (n_samples,), for example using ravel().\n",
      "  return self._fit(X, y)\n",
      "D:\\anaconda3\\Lib\\site-packages\\sklearn\\neighbors\\_classification.py:215: DataConversionWarning: A column-vector y was passed when a 1d array was expected. Please change the shape of y to (n_samples,), for example using ravel().\n",
      "  return self._fit(X, y)\n",
      "D:\\anaconda3\\Lib\\site-packages\\sklearn\\neighbors\\_classification.py:215: DataConversionWarning: A column-vector y was passed when a 1d array was expected. Please change the shape of y to (n_samples,), for example using ravel().\n",
      "  return self._fit(X, y)\n",
      "D:\\anaconda3\\Lib\\site-packages\\sklearn\\neighbors\\_classification.py:215: DataConversionWarning: A column-vector y was passed when a 1d array was expected. Please change the shape of y to (n_samples,), for example using ravel().\n",
      "  return self._fit(X, y)\n"
     ]
    },
    {
     "data": {
      "image/png": "[encoded data removed]",
      "text/plain": [
       "<Figure size 640x480 with 1 Axes>"
      ]
     },
     "metadata": {},
     "output_type": "display_data"
    }
   ],
   "source": [
    "from sklearn.neighbors import KNeighborsClassifier\n",
    "\n",
    "knn = KNeighborsClassifier(n_neighbors=5)\n",
    "\n",
    "# selecting features\n",
    "sbs = SBS(knn, k_features=1)\n",
    "sbs.fit(train_x, train_y)\n",
    "\n",
    "# plotting performance of feature subsets\n",
    "k_feat = [len(k) for k in sbs.subsets_]\n",
    "\n",
    "plt.plot(k_feat, sbs.scores_, marker='o')\n",
    "plt.ylim([0.7, 1.02])\n",
    "plt.ylabel('Accuracy')\n",
    "plt.xlabel('Number of features')\n",
    "plt.grid()\n",
    "plt.tight_layout()\n",
    "# plt.savefig('figures/04_09.png', dpi=300)\n",
    "plt.show()"
   ]
  },
  {
   "cell_type": "markdown",
   "id": "ad2ad11a-588c-40b3-aaf3-659ce2b06361",
   "metadata": {},
   "source": [
    "# Alternate Scalers in the pipeline"
   ]
  },
  {
   "cell_type": "code",
   "execution_count": 44,
   "id": "3cb83850-4f00-4885-834c-6765a611ebcb",
   "metadata": {},
   "outputs": [],
   "source": [
    "from sklearn.preprocessing import RobustScaler\n",
    "from sklearn.preprocessing import MaxAbsScaler\n",
    "\n",
    "# Create numeric pipeline with MaxAbsScaler\n",
    "numeric_transformerABS = Pipeline(steps=[\n",
    "                ('imputer', SimpleImputer(strategy='mean')),\n",
    "                ('scaler', MaxAbsScaler())])\n",
    "\n",
    "# Create numeric pipeline RobustScaler\n",
    "numeric_transformerRBST = Pipeline(steps=[\n",
    "                ('imputer', SimpleImputer(strategy='mean')),\n",
    "                ('scaler', RobustScaler())])\n",
    "\n",
    "# Create ABS preprocessor\n",
    "preprocessorABS = ColumnTransformer([\n",
    "        ('num', numeric_transformerABS, numeric_columns),\n",
    "        ('cat', categorical_transformer, categorical_columns)],\n",
    "        remainder='drop')\n",
    "\n",
    "# Create RBST preprocessor\n",
    "preprocessorRBST = ColumnTransformer([\n",
    "        ('num', numeric_transformerRBST, numeric_columns),\n",
    "        ('cat', categorical_transformer, categorical_columns)],\n",
    "        remainder='drop')"
   ]
  },
  {
   "cell_type": "code",
   "execution_count": 45,
   "id": "8005e315-8575-4adf-9301-8a053f5d8b10",
   "metadata": {},
   "outputs": [],
   "source": [
    "# Fit and transform the train and test data with Standard Scaler\n",
    "train_x = preprocessor.fit_transform(train_inputs)\n",
    "test_x = preprocessor.transform(test_inputs)\n",
    "\n",
    "# Fit and transform the train data Robust Scaler\n",
    "train_xRBST = preprocessorRBST.fit_transform(train_inputs)\n",
    "test_xRBST = preprocessorRBST.transform(test_inputs)\n",
    "\n",
    "# Fit and transform the train data with Max Absolute Scaler\n",
    "train_xABS = preprocessorABS.fit_transform(train_inputs)\n",
    "test_xABS = preprocessorABS.transform(test_inputs)"
   ]
  },
  {
   "cell_type": "markdown",
   "id": "588f476c",
   "metadata": {},
   "source": [
    "# SVC Model "
   ]
  },
  {
   "cell_type": "code",
   "execution_count": 46,
   "id": "2576d66e",
   "metadata": {},
   "outputs": [
    {
     "name": "stderr",
     "output_type": "stream",
     "text": [
      "D:\\anaconda3\\Lib\\site-packages\\sklearn\\utils\\validation.py:1143: DataConversionWarning: A column-vector y was passed when a 1d array was expected. Please change the shape of y to (n_samples, ), for example using ravel().\n",
      "  y = column_or_1d(y, warn=True)\n",
      "D:\\anaconda3\\Lib\\site-packages\\sklearn\\utils\\validation.py:1143: DataConversionWarning: A column-vector y was passed when a 1d array was expected. Please change the shape of y to (n_samples, ), for example using ravel().\n",
      "  y = column_or_1d(y, warn=True)\n",
      "D:\\anaconda3\\Lib\\site-packages\\sklearn\\utils\\validation.py:1143: DataConversionWarning: A column-vector y was passed when a 1d array was expected. Please change the shape of y to (n_samples, ), for example using ravel().\n",
      "  y = column_or_1d(y, warn=True)\n"
     ]
    },
    {
     "data": {
      "text/html": [
       "<style>#sk-container-id-3 {color: black;background-color: white;}#sk-container-id-3 pre{padding: 0;}#sk-container-id-3 div.sk-toggleable {background-color: white;}#sk-container-id-3 label.sk-toggleable__label {cursor: pointer;display: block;width: 100%;margin-bottom: 0;padding: 0.3em;box-sizing: border-box;text-align: center;}#sk-container-id-3 label.sk-toggleable__label-arrow:before {content: \"▸\";float: left;margin-right: 0.25em;color: #696969;}#sk-container-id-3 label.sk-toggleable__label-arrow:hover:before {color: black;}#sk-container-id-3 div.sk-estimator:hover label.sk-toggleable__label-arrow:before {color: black;}#sk-container-id-3 div.sk-toggleable__content {max-height: 0;max-width: 0;overflow: hidden;text-align: left;background-color: #f0f8ff;}#sk-container-id-3 div.sk-toggleable__content pre {margin: 0.2em;color: black;border-radius: 0.25em;background-color: #f0f8ff;}#sk-container-id-3 input.sk-toggleable__control:checked~div.sk-toggleable__content {max-height: 200px;max-width: 100%;overflow: auto;}#sk-container-id-3 input.sk-toggleable__control:checked~label.sk-toggleable__label-arrow:before {content: \"▾\";}#sk-container-id-3 div.sk-estimator input.sk-toggleable__control:checked~label.sk-toggleable__label {background-color: #d4ebff;}#sk-container-id-3 div.sk-label input.sk-toggleable__control:checked~label.sk-toggleable__label {background-color: #d4ebff;}#sk-container-id-3 input.sk-hidden--visually {border: 0;clip: rect(1px 1px 1px 1px);clip: rect(1px, 1px, 1px, 1px);height: 1px;margin: -1px;overflow: hidden;padding: 0;position: absolute;width: 1px;}#sk-container-id-3 div.sk-estimator {font-family: monospace;background-color: #f0f8ff;border: 1px dotted black;border-radius: 0.25em;box-sizing: border-box;margin-bottom: 0.5em;}#sk-container-id-3 div.sk-estimator:hover {background-color: #d4ebff;}#sk-container-id-3 div.sk-parallel-item::after {content: \"\";width: 100%;border-bottom: 1px solid gray;flex-grow: 1;}#sk-container-id-3 div.sk-label:hover label.sk-toggleable__label {background-color: #d4ebff;}#sk-container-id-3 div.sk-serial::before {content: \"\";position: absolute;border-left: 1px solid gray;box-sizing: border-box;top: 0;bottom: 0;left: 50%;z-index: 0;}#sk-container-id-3 div.sk-serial {display: flex;flex-direction: column;align-items: center;background-color: white;padding-right: 0.2em;padding-left: 0.2em;position: relative;}#sk-container-id-3 div.sk-item {position: relative;z-index: 1;}#sk-container-id-3 div.sk-parallel {display: flex;align-items: stretch;justify-content: center;background-color: white;position: relative;}#sk-container-id-3 div.sk-item::before, #sk-container-id-3 div.sk-parallel-item::before {content: \"\";position: absolute;border-left: 1px solid gray;box-sizing: border-box;top: 0;bottom: 0;left: 50%;z-index: -1;}#sk-container-id-3 div.sk-parallel-item {display: flex;flex-direction: column;z-index: 1;position: relative;background-color: white;}#sk-container-id-3 div.sk-parallel-item:first-child::after {align-self: flex-end;width: 50%;}#sk-container-id-3 div.sk-parallel-item:last-child::after {align-self: flex-start;width: 50%;}#sk-container-id-3 div.sk-parallel-item:only-child::after {width: 0;}#sk-container-id-3 div.sk-dashed-wrapped {border: 1px dashed gray;margin: 0 0.4em 0.5em 0.4em;box-sizing: border-box;padding-bottom: 0.4em;background-color: white;}#sk-container-id-3 div.sk-label label {font-family: monospace;font-weight: bold;display: inline-block;line-height: 1.2em;}#sk-container-id-3 div.sk-label-container {text-align: center;}#sk-container-id-3 div.sk-container {/* jupyter's `normalize.less` sets `[hidden] { display: none; }` but bootstrap.min.css set `[hidden] { display: none !important; }` so we also need the `!important` here to be able to override the default hidden behavior on the sphinx rendered scikit-learn.org. See: https://github.com/scikit-learn/scikit-learn/issues/21755 */display: inline-block !important;position: relative;}#sk-container-id-3 div.sk-text-repr-fallback {display: none;}</style><div id=\"sk-container-id-3\" class=\"sk-top-container\"><div class=\"sk-text-repr-fallback\"><pre>SVC(kernel=&#x27;linear&#x27;)</pre><b>In a Jupyter environment, please rerun this cell to show the HTML representation or trust the notebook. <br />On GitHub, the HTML representation is unable to render, please try loading this page with nbviewer.org.</b></div><div class=\"sk-container\" hidden><div class=\"sk-item\"><div class=\"sk-estimator sk-toggleable\"><input class=\"sk-toggleable__control sk-hidden--visually\" id=\"sk-estimator-id-3\" type=\"checkbox\" checked><label for=\"sk-estimator-id-3\" class=\"sk-toggleable__label sk-toggleable__label-arrow\">SVC</label><div class=\"sk-toggleable__content\"><pre>SVC(kernel=&#x27;linear&#x27;)</pre></div></div></div></div></div>"
      ],
      "text/plain": [
       "SVC(kernel='linear')"
      ]
     },
     "execution_count": 46,
     "metadata": {},
     "output_type": "execute_result"
    }
   ],
   "source": [
    "from sklearn.svm import SVC\n",
    "\n",
    "LSVC = SVC(kernel=\"linear\")\n",
    "LSVC2 = SVC(kernel=\"linear\")\n",
    "LSVC3 = SVC(kernel=\"linear\")\n",
    "\n",
    "LSVC.fit (train_x, train_y)\n",
    "LSVC2.fit (train_xABS, train_y)\n",
    "LSVC3.fit (train_xRBST, train_y)"
   ]
  },
  {
   "cell_type": "code",
   "execution_count": 47,
   "id": "b8cd0a1f-c47d-4443-9056-2b1e20389f38",
   "metadata": {},
   "outputs": [
    {
     "data": {
      "text/plain": [
       "array([[-7.03674414e-01, -4.78505738e-01, -4.56112058e-01, ...,\n",
       "         0.00000000e+00,  1.00000000e+00,  0.00000000e+00],\n",
       "       [-4.30117491e-01, -4.78505738e-01, -4.56112058e-01, ...,\n",
       "         0.00000000e+00,  1.00000000e+00,  0.00000000e+00],\n",
       "       [-2.27310956e+00,  4.64099114e-01,  1.76032638e+00, ...,\n",
       "         0.00000000e+00,  1.00000000e+00,  0.00000000e+00],\n",
       "       ...,\n",
       "       [ 1.56075914e-01, -4.78505738e-01, -4.56112058e-01, ...,\n",
       "         0.00000000e+00,  1.00000000e+00,  0.00000000e+00],\n",
       "       [-2.42327405e-04,  2.34930882e+00,  6.52107159e-01, ...,\n",
       "         0.00000000e+00,  1.00000000e+00,  0.00000000e+00],\n",
       "       [ 1.17214448e+00, -4.78505738e-01, -4.56112058e-01, ...,\n",
       "         0.00000000e+00,  1.00000000e+00,  0.00000000e+00]])"
      ]
     },
     "execution_count": 47,
     "metadata": {},
     "output_type": "execute_result"
    }
   ],
   "source": [
    "train_x"
   ]
  },
  {
   "cell_type": "code",
   "execution_count": 48,
   "id": "ceb3c7a3-6f5d-49e9-86b3-82f370230242",
   "metadata": {},
   "outputs": [
    {
     "data": {
      "text/plain": [
       "array([[0.27631579, 0.        , 0.        , ..., 0.        , 1.        ,\n",
       "        0.        ],\n",
       "       [0.32236842, 0.        , 0.        , ..., 0.        , 1.        ,\n",
       "        0.        ],\n",
       "       [0.01210526, 0.125     , 0.22222222, ..., 0.        , 1.        ,\n",
       "        0.        ],\n",
       "       ...,\n",
       "       [0.42105263, 0.        , 0.        , ..., 0.        , 1.        ,\n",
       "        0.        ],\n",
       "       [0.39473684, 0.375     , 0.11111111, ..., 0.        , 1.        ,\n",
       "        0.        ],\n",
       "       [0.59210526, 0.        , 0.        , ..., 0.        , 1.        ,\n",
       "        0.        ]])"
      ]
     },
     "execution_count": 48,
     "metadata": {},
     "output_type": "execute_result"
    }
   ],
   "source": [
    "train_xABS"
   ]
  },
  {
   "cell_type": "code",
   "execution_count": 49,
   "id": "435f48e4-0e31-4658-9f91-1f18078a1197",
   "metadata": {},
   "outputs": [
    {
     "data": {
      "text/plain": [
       "array([[-0.69230769,  0.        ,  0.        , ...,  0.        ,\n",
       "         1.        ,  0.        ],\n",
       "       [-0.42307692,  0.        ,  0.        , ...,  0.        ,\n",
       "         1.        ,  0.        ],\n",
       "       [-2.23692308,  1.        ,  8.        , ...,  0.        ,\n",
       "         1.        ,  0.        ],\n",
       "       ...,\n",
       "       [ 0.15384615,  0.        ,  0.        , ...,  0.        ,\n",
       "         1.        ,  0.        ],\n",
       "       [ 0.        ,  3.        ,  4.        , ...,  0.        ,\n",
       "         1.        ,  0.        ],\n",
       "       [ 1.15384615,  0.        ,  0.        , ...,  0.        ,\n",
       "         1.        ,  0.        ]])"
      ]
     },
     "execution_count": 49,
     "metadata": {},
     "output_type": "execute_result"
    }
   ],
   "source": [
    "train_xRBST"
   ]
  },
  {
   "cell_type": "code",
   "execution_count": 50,
   "id": "737188c8-05db-4a95-a60e-4081b0a6135b",
   "metadata": {},
   "outputs": [
    {
     "name": "stdout",
     "output_type": "stream",
     "text": [
      "Train acc Std Scaler: 0.8602620087336245\n",
      "Train acc MaxAbsScaler: 0.8602620087336245\n",
      "Train acc RobustScaler: 0.8602620087336245\n"
     ]
    }
   ],
   "source": [
    "train_y_pred = LSVC.predict(train_x)\n",
    "train_acc = accuracy_score(train_y, train_y_pred)\n",
    "train_y_pred2 = LSVC2.predict(train_xABS)\n",
    "train_acc2 = accuracy_score(train_y, train_y_pred2)\n",
    "train_y_pred3 = LSVC3.predict(train_xRBST)\n",
    "train_acc3 = accuracy_score(train_y, train_y_pred3)\n",
    "\n",
    "print('Train acc Std Scaler: {}' .format(train_acc))\n",
    "print('Train acc MaxAbsScaler: {}' .format(train_acc2))\n",
    "print('Train acc RobustScaler: {}' .format(train_acc3))"
   ]
  },
  {
   "cell_type": "code",
   "execution_count": 51,
   "id": "c1f89fc6",
   "metadata": {},
   "outputs": [
    {
     "name": "stdout",
     "output_type": "stream",
     "text": [
      "Test acc Std Scaler: 0.8422391857506362\n",
      "Test acc MaxAbsScaler: 0.8422391857506362\n",
      "Test acc RobustScaler: 0.8422391857506362\n"
     ]
    }
   ],
   "source": [
    "test_y_pred = LSVC.predict(test_x)\n",
    "test_acc = accuracy_score(test_y, test_y_pred)\n",
    "test_y_pred2 = LSVC.predict(test_xABS)\n",
    "test_acc2 = accuracy_score(test_y, test_y_pred2)\n",
    "test_y_pred3 = LSVC.predict(test_xRBST)\n",
    "test_acc3 = accuracy_score(test_y, test_y_pred3)\n",
    "\n",
    "print('Test acc Std Scaler: {}' .format(test_acc))\n",
    "print('Test acc MaxAbsScaler: {}' .format(test_acc2))\n",
    "print('Test acc RobustScaler: {}' .format(test_acc3))"
   ]
  },
  {
   "cell_type": "code",
   "execution_count": 52,
   "id": "77898ff1",
   "metadata": {},
   "outputs": [],
   "source": [
    "import pickle"
   ]
  },
  {
   "cell_type": "code",
   "execution_count": 53,
   "id": "e1252cf4",
   "metadata": {},
   "outputs": [],
   "source": [
    "filename = 'SVC.sav'\n",
    "pickle.dump(LSVC, open(filename, 'wb'))"
   ]
  },
  {
   "cell_type": "markdown",
   "id": "def87c6e",
   "metadata": {},
   "source": [
    "## SVC Poly"
   ]
  },
  {
   "cell_type": "code",
   "execution_count": 54,
   "id": "9fb80101",
   "metadata": {},
   "outputs": [
    {
     "name": "stderr",
     "output_type": "stream",
     "text": [
      "D:\\anaconda3\\Lib\\site-packages\\sklearn\\utils\\validation.py:1143: DataConversionWarning: A column-vector y was passed when a 1d array was expected. Please change the shape of y to (n_samples, ), for example using ravel().\n",
      "  y = column_or_1d(y, warn=True)\n"
     ]
    },
    {
     "data": {
      "text/html": [
       "<style>#sk-container-id-4 {color: black;background-color: white;}#sk-container-id-4 pre{padding: 0;}#sk-container-id-4 div.sk-toggleable {background-color: white;}#sk-container-id-4 label.sk-toggleable__label {cursor: pointer;display: block;width: 100%;margin-bottom: 0;padding: 0.3em;box-sizing: border-box;text-align: center;}#sk-container-id-4 label.sk-toggleable__label-arrow:before {content: \"▸\";float: left;margin-right: 0.25em;color: #696969;}#sk-container-id-4 label.sk-toggleable__label-arrow:hover:before {color: black;}#sk-container-id-4 div.sk-estimator:hover label.sk-toggleable__label-arrow:before {color: black;}#sk-container-id-4 div.sk-toggleable__content {max-height: 0;max-width: 0;overflow: hidden;text-align: left;background-color: #f0f8ff;}#sk-container-id-4 div.sk-toggleable__content pre {margin: 0.2em;color: black;border-radius: 0.25em;background-color: #f0f8ff;}#sk-container-id-4 input.sk-toggleable__control:checked~div.sk-toggleable__content {max-height: 200px;max-width: 100%;overflow: auto;}#sk-container-id-4 input.sk-toggleable__control:checked~label.sk-toggleable__label-arrow:before {content: \"▾\";}#sk-container-id-4 div.sk-estimator input.sk-toggleable__control:checked~label.sk-toggleable__label {background-color: #d4ebff;}#sk-container-id-4 div.sk-label input.sk-toggleable__control:checked~label.sk-toggleable__label {background-color: #d4ebff;}#sk-container-id-4 input.sk-hidden--visually {border: 0;clip: rect(1px 1px 1px 1px);clip: rect(1px, 1px, 1px, 1px);height: 1px;margin: -1px;overflow: hidden;padding: 0;position: absolute;width: 1px;}#sk-container-id-4 div.sk-estimator {font-family: monospace;background-color: #f0f8ff;border: 1px dotted black;border-radius: 0.25em;box-sizing: border-box;margin-bottom: 0.5em;}#sk-container-id-4 div.sk-estimator:hover {background-color: #d4ebff;}#sk-container-id-4 div.sk-parallel-item::after {content: \"\";width: 100%;border-bottom: 1px solid gray;flex-grow: 1;}#sk-container-id-4 div.sk-label:hover label.sk-toggleable__label {background-color: #d4ebff;}#sk-container-id-4 div.sk-serial::before {content: \"\";position: absolute;border-left: 1px solid gray;box-sizing: border-box;top: 0;bottom: 0;left: 50%;z-index: 0;}#sk-container-id-4 div.sk-serial {display: flex;flex-direction: column;align-items: center;background-color: white;padding-right: 0.2em;padding-left: 0.2em;position: relative;}#sk-container-id-4 div.sk-item {position: relative;z-index: 1;}#sk-container-id-4 div.sk-parallel {display: flex;align-items: stretch;justify-content: center;background-color: white;position: relative;}#sk-container-id-4 div.sk-item::before, #sk-container-id-4 div.sk-parallel-item::before {content: \"\";position: absolute;border-left: 1px solid gray;box-sizing: border-box;top: 0;bottom: 0;left: 50%;z-index: -1;}#sk-container-id-4 div.sk-parallel-item {display: flex;flex-direction: column;z-index: 1;position: relative;background-color: white;}#sk-container-id-4 div.sk-parallel-item:first-child::after {align-self: flex-end;width: 50%;}#sk-container-id-4 div.sk-parallel-item:last-child::after {align-self: flex-start;width: 50%;}#sk-container-id-4 div.sk-parallel-item:only-child::after {width: 0;}#sk-container-id-4 div.sk-dashed-wrapped {border: 1px dashed gray;margin: 0 0.4em 0.5em 0.4em;box-sizing: border-box;padding-bottom: 0.4em;background-color: white;}#sk-container-id-4 div.sk-label label {font-family: monospace;font-weight: bold;display: inline-block;line-height: 1.2em;}#sk-container-id-4 div.sk-label-container {text-align: center;}#sk-container-id-4 div.sk-container {/* jupyter's `normalize.less` sets `[hidden] { display: none; }` but bootstrap.min.css set `[hidden] { display: none !important; }` so we also need the `!important` here to be able to override the default hidden behavior on the sphinx rendered scikit-learn.org. See: https://github.com/scikit-learn/scikit-learn/issues/21755 */display: inline-block !important;position: relative;}#sk-container-id-4 div.sk-text-repr-fallback {display: none;}</style><div id=\"sk-container-id-4\" class=\"sk-top-container\"><div class=\"sk-text-repr-fallback\"><pre>SVC(C=0.1, coef0=1, kernel=&#x27;poly&#x27;)</pre><b>In a Jupyter environment, please rerun this cell to show the HTML representation or trust the notebook. <br />On GitHub, the HTML representation is unable to render, please try loading this page with nbviewer.org.</b></div><div class=\"sk-container\" hidden><div class=\"sk-item\"><div class=\"sk-estimator sk-toggleable\"><input class=\"sk-toggleable__control sk-hidden--visually\" id=\"sk-estimator-id-4\" type=\"checkbox\" checked><label for=\"sk-estimator-id-4\" class=\"sk-toggleable__label sk-toggleable__label-arrow\">SVC</label><div class=\"sk-toggleable__content\"><pre>SVC(C=0.1, coef0=1, kernel=&#x27;poly&#x27;)</pre></div></div></div></div></div>"
      ],
      "text/plain": [
       "SVC(C=0.1, coef0=1, kernel='poly')"
      ]
     },
     "execution_count": 54,
     "metadata": {},
     "output_type": "execute_result"
    }
   ],
   "source": [
    "from sklearn.svm import SVC\n",
    "PSVC = SVC(kernel=\"poly\", degree=3, coef0=1, C=.1)\n",
    "PSVC.fit (train_x, train_y)"
   ]
  },
  {
   "cell_type": "code",
   "execution_count": 55,
   "id": "fe40657c",
   "metadata": {},
   "outputs": [
    {
     "name": "stdout",
     "output_type": "stream",
     "text": [
      "Train acc: 0.8744541484716157\n"
     ]
    }
   ],
   "source": [
    "train_y_pred = PSVC.predict(train_x)\n",
    "\n",
    "train_acc = accuracy_score(train_y, train_y_pred)\n",
    "\n",
    "print('Train acc: {}' .format(train_acc))"
   ]
  },
  {
   "cell_type": "code",
   "execution_count": 56,
   "id": "ab4b5475",
   "metadata": {},
   "outputs": [
    {
     "name": "stdout",
     "output_type": "stream",
     "text": [
      "Test acc: 0.8447837150127226\n"
     ]
    }
   ],
   "source": [
    "test_y_pred = PSVC.predict(test_x)\n",
    "\n",
    "test_acc = accuracy_score(test_y, test_y_pred)\n",
    "\n",
    "print('Test acc: {}' .format(test_acc))"
   ]
  },
  {
   "cell_type": "markdown",
   "id": "864474f7",
   "metadata": {},
   "source": [
    "## SVC RBF"
   ]
  },
  {
   "cell_type": "code",
   "execution_count": 57,
   "id": "0be85069",
   "metadata": {},
   "outputs": [
    {
     "name": "stderr",
     "output_type": "stream",
     "text": [
      "D:\\anaconda3\\Lib\\site-packages\\sklearn\\utils\\validation.py:1143: DataConversionWarning: A column-vector y was passed when a 1d array was expected. Please change the shape of y to (n_samples, ), for example using ravel().\n",
      "  y = column_or_1d(y, warn=True)\n"
     ]
    },
    {
     "data": {
      "text/html": [
       "<style>#sk-container-id-5 {color: black;background-color: white;}#sk-container-id-5 pre{padding: 0;}#sk-container-id-5 div.sk-toggleable {background-color: white;}#sk-container-id-5 label.sk-toggleable__label {cursor: pointer;display: block;width: 100%;margin-bottom: 0;padding: 0.3em;box-sizing: border-box;text-align: center;}#sk-container-id-5 label.sk-toggleable__label-arrow:before {content: \"▸\";float: left;margin-right: 0.25em;color: #696969;}#sk-container-id-5 label.sk-toggleable__label-arrow:hover:before {color: black;}#sk-container-id-5 div.sk-estimator:hover label.sk-toggleable__label-arrow:before {color: black;}#sk-container-id-5 div.sk-toggleable__content {max-height: 0;max-width: 0;overflow: hidden;text-align: left;background-color: #f0f8ff;}#sk-container-id-5 div.sk-toggleable__content pre {margin: 0.2em;color: black;border-radius: 0.25em;background-color: #f0f8ff;}#sk-container-id-5 input.sk-toggleable__control:checked~div.sk-toggleable__content {max-height: 200px;max-width: 100%;overflow: auto;}#sk-container-id-5 input.sk-toggleable__control:checked~label.sk-toggleable__label-arrow:before {content: \"▾\";}#sk-container-id-5 div.sk-estimator input.sk-toggleable__control:checked~label.sk-toggleable__label {background-color: #d4ebff;}#sk-container-id-5 div.sk-label input.sk-toggleable__control:checked~label.sk-toggleable__label {background-color: #d4ebff;}#sk-container-id-5 input.sk-hidden--visually {border: 0;clip: rect(1px 1px 1px 1px);clip: rect(1px, 1px, 1px, 1px);height: 1px;margin: -1px;overflow: hidden;padding: 0;position: absolute;width: 1px;}#sk-container-id-5 div.sk-estimator {font-family: monospace;background-color: #f0f8ff;border: 1px dotted black;border-radius: 0.25em;box-sizing: border-box;margin-bottom: 0.5em;}#sk-container-id-5 div.sk-estimator:hover {background-color: #d4ebff;}#sk-container-id-5 div.sk-parallel-item::after {content: \"\";width: 100%;border-bottom: 1px solid gray;flex-grow: 1;}#sk-container-id-5 div.sk-label:hover label.sk-toggleable__label {background-color: #d4ebff;}#sk-container-id-5 div.sk-serial::before {content: \"\";position: absolute;border-left: 1px solid gray;box-sizing: border-box;top: 0;bottom: 0;left: 50%;z-index: 0;}#sk-container-id-5 div.sk-serial {display: flex;flex-direction: column;align-items: center;background-color: white;padding-right: 0.2em;padding-left: 0.2em;position: relative;}#sk-container-id-5 div.sk-item {position: relative;z-index: 1;}#sk-container-id-5 div.sk-parallel {display: flex;align-items: stretch;justify-content: center;background-color: white;position: relative;}#sk-container-id-5 div.sk-item::before, #sk-container-id-5 div.sk-parallel-item::before {content: \"\";position: absolute;border-left: 1px solid gray;box-sizing: border-box;top: 0;bottom: 0;left: 50%;z-index: -1;}#sk-container-id-5 div.sk-parallel-item {display: flex;flex-direction: column;z-index: 1;position: relative;background-color: white;}#sk-container-id-5 div.sk-parallel-item:first-child::after {align-self: flex-end;width: 50%;}#sk-container-id-5 div.sk-parallel-item:last-child::after {align-self: flex-start;width: 50%;}#sk-container-id-5 div.sk-parallel-item:only-child::after {width: 0;}#sk-container-id-5 div.sk-dashed-wrapped {border: 1px dashed gray;margin: 0 0.4em 0.5em 0.4em;box-sizing: border-box;padding-bottom: 0.4em;background-color: white;}#sk-container-id-5 div.sk-label label {font-family: monospace;font-weight: bold;display: inline-block;line-height: 1.2em;}#sk-container-id-5 div.sk-label-container {text-align: center;}#sk-container-id-5 div.sk-container {/* jupyter's `normalize.less` sets `[hidden] { display: none; }` but bootstrap.min.css set `[hidden] { display: none !important; }` so we also need the `!important` here to be able to override the default hidden behavior on the sphinx rendered scikit-learn.org. See: https://github.com/scikit-learn/scikit-learn/issues/21755 */display: inline-block !important;position: relative;}#sk-container-id-5 div.sk-text-repr-fallback {display: none;}</style><div id=\"sk-container-id-5\" class=\"sk-top-container\"><div class=\"sk-text-repr-fallback\"><pre>SVC(C=2)</pre><b>In a Jupyter environment, please rerun this cell to show the HTML representation or trust the notebook. <br />On GitHub, the HTML representation is unable to render, please try loading this page with nbviewer.org.</b></div><div class=\"sk-container\" hidden><div class=\"sk-item\"><div class=\"sk-estimator sk-toggleable\"><input class=\"sk-toggleable__control sk-hidden--visually\" id=\"sk-estimator-id-5\" type=\"checkbox\" checked><label for=\"sk-estimator-id-5\" class=\"sk-toggleable__label sk-toggleable__label-arrow\">SVC</label><div class=\"sk-toggleable__content\"><pre>SVC(C=2)</pre></div></div></div></div></div>"
      ],
      "text/plain": [
       "SVC(C=2)"
      ]
     },
     "execution_count": 57,
     "metadata": {},
     "output_type": "execute_result"
    }
   ],
   "source": [
    "rbf_svm = SVC(kernel=\"rbf\", C=2, gamma='scale')\n",
    "\n",
    "rbf_svm.fit(train_x, train_y)"
   ]
  },
  {
   "cell_type": "code",
   "execution_count": 58,
   "id": "ff4a72ad",
   "metadata": {},
   "outputs": [
    {
     "name": "stdout",
     "output_type": "stream",
     "text": [
      "Train acc: 0.8853711790393013\n"
     ]
    }
   ],
   "source": [
    "train_y_pred = rbf_svm.predict(train_x)\n",
    "train_acc = accuracy_score(train_y, train_y_pred)\n",
    "print('Train acc: {}' .format(train_acc))"
   ]
  },
  {
   "cell_type": "code",
   "execution_count": 59,
   "id": "0452637f",
   "metadata": {},
   "outputs": [
    {
     "name": "stdout",
     "output_type": "stream",
     "text": [
      "Test acc: 0.8524173027989822\n"
     ]
    }
   ],
   "source": [
    "test_y_pred = rbf_svm.predict(test_x)\n",
    "test_acc = accuracy_score(test_y, test_y_pred)\n",
    "print('Test acc: {}' .format(test_acc))"
   ]
  },
  {
   "cell_type": "markdown",
   "id": "ba76ebc2-a95f-40fc-a382-d72c6b1fc8bf",
   "metadata": {},
   "source": [
    "## Add Cross Validation"
   ]
  },
  {
   "cell_type": "code",
   "execution_count": 66,
   "id": "d3b2edcb-58a6-4f22-a36f-da23eb1453bf",
   "metadata": {},
   "outputs": [
    {
     "name": "stdout",
     "output_type": "stream",
     "text": [
      "CV Accuracy scores: [0.81521739 0.83695652 0.88043478 0.89130435 0.82608696 0.86956522\n",
      " 0.89010989 0.89010989 0.96703297 0.86813187]\n",
      "CV Accuracy: 0.873 +/- 0.041\n"
     ]
    }
   ],
   "source": [
    "from sklearn.model_selection import cross_val_score\n",
    "\n",
    "scores = cross_val_score(estimator=rbf_svm,\n",
    "                             X=train_x,\n",
    "                             y=train_y,\n",
    "                             cv=10,\n",
    "                             scoring='accuracy', \n",
    "                             n_jobs=-1)  # Utilizing all available CPU cores\n",
    "\n",
    "print(f'CV Accuracy scores: {scores}')\n",
    "print(f'CV Accuracy: {np.mean(scores):.3f} +/- {np.std(scores):.3f}')"
   ]
  },
  {
   "cell_type": "markdown",
   "id": "20996b27-dcf1-4853-b32c-33a9e11501c7",
   "metadata": {},
   "source": [
    "## Add a learning curve"
   ]
  },
  {
   "cell_type": "code",
   "execution_count": 61,
   "id": "caada809-10ff-4ec0-9711-534448361fd0",
   "metadata": {},
   "outputs": [
    {
     "data": {
      "image/png": "[encoded data removed]",
      "text/plain": [
       "<Figure size 640x480 with 1 Axes>"
      ]
     },
     "metadata": {},
     "output_type": "display_data"
    }
   ],
   "source": [
    "import matplotlib.pyplot as plt\n",
    "from sklearn.model_selection import learning_curve\n",
    "\n",
    "train_sizes, train_scores, test_scores =\\\n",
    "                learning_curve(estimator=rbf_svm,\n",
    "                               X=train_x,\n",
    "                               y=train_y,\n",
    "                               train_sizes=np.linspace(0.1, 1.0, 10),\n",
    "                               cv=10,\n",
    "                               n_jobs=-1)\n",
    "\n",
    "train_mean = np.mean(train_scores, axis=1)\n",
    "train_std = np.std(train_scores, axis=1)\n",
    "test_mean = np.mean(test_scores, axis=1)\n",
    "test_std = np.std(test_scores, axis=1)\n",
    "\n",
    "plt.plot(train_sizes, train_mean,\n",
    "         color='blue', marker='o',\n",
    "         markersize=5, label='Training accuracy')\n",
    "\n",
    "plt.fill_between(train_sizes,\n",
    "                 train_mean + train_std,\n",
    "                 train_mean - train_std,\n",
    "                 alpha=0.15, color='blue')\n",
    "\n",
    "plt.plot(train_sizes, test_mean,\n",
    "         color='green', linestyle='--',\n",
    "         marker='s', markersize=5,\n",
    "         label='Validation accuracy')\n",
    "\n",
    "plt.fill_between(train_sizes,\n",
    "                 test_mean + test_std,\n",
    "                 test_mean - test_std,\n",
    "                 alpha=0.15, color='green')\n",
    "\n",
    "plt.grid()\n",
    "plt.xlabel('Number of training examples')\n",
    "plt.ylabel('Accuracy')\n",
    "plt.legend(loc='lower right')\n",
    "plt.ylim([0.5, 1.03])\n",
    "plt.tight_layout()\n",
    "# plt.savefig('figures/06_05.png', dpi=300)\n",
    "plt.show()"
   ]
  },
  {
   "cell_type": "markdown",
   "id": "9135a901-88f3-4db6-b93d-b3b166ecfbf8",
   "metadata": {},
   "source": [
    "## Tuning hyperparameters via RandomGrid search"
   ]
  },
  {
   "cell_type": "code",
   "execution_count": 63,
   "id": "29534348-168b-4be8-b11f-4d33c2535591",
   "metadata": {},
   "outputs": [],
   "source": [
    "from sklearn.model_selection import RandomizedSearchCV\n",
    "from sklearn.pipeline import make_pipeline\n",
    "\n",
    "pipe_svc = make_pipeline(StandardScaler(),\n",
    "                         SVC(random_state=1))\n",
    "\n",
    "param_range = [0.0001, 0.001, 0.01, 0.1, 1.0, 10.0, 100.0, 1000.0]\n",
    "\n",
    "param_grid = [{'svc__C': param_range,\n",
    "               'svc__kernel': ['linear']},\n",
    "              {'svc__C': param_range,\n",
    "               'svc__gamma': param_range,\n",
    "               'svc__kernel': ['rbf']}]\n",
    "\n",
    "rs = RandomizedSearchCV(estimator=pipe_svc,\n",
    "                        param_distributions=param_grid,\n",
    "                        scoring='accuracy',\n",
    "                        refit=True,\n",
    "                        n_iter=20,\n",
    "                        cv=10,\n",
    "                        random_state=1,\n",
    "                        n_jobs=-1)"
   ]
  },
  {
   "cell_type": "code",
   "execution_count": 65,
   "id": "d8819e14-3209-4bb9-8c2a-abbf6135f7f4",
   "metadata": {},
   "outputs": [
    {
     "name": "stdout",
     "output_type": "stream",
     "text": [
      "0.8625895843287148\n",
      "{'svc__kernel': 'rbf', 'svc__gamma': 0.1, 'svc__C': 0.1}\n"
     ]
    },
    {
     "name": "stderr",
     "output_type": "stream",
     "text": [
      "D:\\anaconda3\\Lib\\site-packages\\sklearn\\utils\\validation.py:1143: DataConversionWarning: A column-vector y was passed when a 1d array was expected. Please change the shape of y to (n_samples, ), for example using ravel().\n",
      "  y = column_or_1d(y, warn=True)\n"
     ]
    }
   ],
   "source": [
    "rs = rs.fit(train_x, train_y)\n",
    "print(rs.best_score_)\n",
    "print(rs.best_params_)"
   ]
  },
  {
   "cell_type": "markdown",
   "id": "fd383f06-6ca7-42a8-a4a8-ae996004e18a",
   "metadata": {},
   "source": [
    "### Alternate RandomGrid method"
   ]
  },
  {
   "cell_type": "code",
   "execution_count": 101,
   "id": "8e271f0e-55f0-4111-b282-20e9b3b905b3",
   "metadata": {},
   "outputs": [
    {
     "name": "stdout",
     "output_type": "stream",
     "text": [
      "0.8679555713946305 {'C': 3.1208096422952805, 'gamma': 0.05750824400698246}\n",
      "0.8657816583511524 {'C': 3.307114130645474, 'gamma': 0.20314983960859997}\n",
      "0.8734141126158234 {'C': 3.900404455619573, 'gamma': 0.10068984948346243}\n",
      "0.8745010691375624 {'C': 2.4461698510451115, 'gamma': 0.16510530292096937}\n",
      "0.8755939653124258 {'C': 2.5764533790362765, 'gamma': 0.15440364590338945}\n",
      "0.8646828225231646 {'C': 0.15014609640574927, 'gamma': 0.06968989417783587}\n",
      "0.8668686148728912 {'C': 0.244049967528299, 'gamma': 0.1814121885174398}\n",
      "0.8712342599192209 {'C': 1.50141611149923, 'gamma': 0.1459695903156194}\n",
      "0.8679555713946305 {'C': 1.0351197973065205, 'gamma': 0.0795162430304984}\n",
      "0.8614041339985745 {'C': 0.04765108032387765, 'gamma': 0.08166675654099395}\n",
      "0.8690484675694939 {'C': 3.806376726712841, 'gamma': 0.053579801826337786}\n",
      "0.8712342599192207 {'C': 1.2875654655214583, 'gamma': 0.1935544772001175}\n",
      "0.8614100736516989 {'C': 0.13761466575957892, 'gamma': 0.0230169074085029}\n",
      "0.873408172962699 {'C': 2.5293159964312917, 'gamma': 0.18476268865590775}\n",
      "0.8570444286053693 {'C': 0.04486292921513945, 'gamma': 0.15931544739878753}\n",
      "0.8635899263483011 {'C': 3.2613646840104935, 'gamma': 0.025143489234453344}\n",
      "0.8712342599192209 {'C': 2.635821338387831, 'gamma': 0.11185244001670364}\n",
      "0.873408172962699 {'C': 1.9295335659855326, 'gamma': 0.20111482898621327}\n",
      "0.6288191969588977 {'C': 0.01004813427794037, 'gamma': 0.05939574019838327}\n",
      "0.8690484675694939 {'C': 2.858930711646334, 'gamma': 0.07491640995734263}\n",
      "0.8690484675694939 {'C': 1.117985425535238, 'gamma': 0.14908909051069494}\n",
      "0.8690484675694939 {'C': 3.684206992583795, 'gamma': 0.058895140439598065}\n",
      "0.8668686148728915 {'C': 1.8423432691070547, 'gamma': 0.060598536564301295}\n",
      "0.8712342599192209 {'C': 1.5273331659322646, 'gamma': 0.13090776572634222}\n",
      "0.8635899263483011 {'C': 3.099515038722232, 'gamma': 0.023583499358882903}\n",
      "0.8723271560940841 {'C': 2.7543403167492535, 'gamma': 0.11965201947916505}\n",
      "0.8635958660014256 {'C': 0.561944211033029, 'gamma': 0.029750643840983686}\n",
      "0.8646768828700404 {'C': 0.9922364212986226, 'gamma': 0.04035733251689452}\n",
      "0.8745010691375624 {'C': 3.713977917960871, 'gamma': 0.14602100312092844}\n",
      "0.8668686148728915 {'C': 0.9606356875187332, 'gamma': 0.12377705051131209}\n",
      "0.8635899263483011 {'C': 2.2365282057376104, 'gamma': 0.024547442176869563}\n",
      "0.8701413637443574 {'C': 3.3688340416642832, 'gamma': 0.09106389853962628}\n",
      "0.8668626752197671 {'C': 0.5894839561853005, 'gamma': 0.04818401173331874}\n",
      "0.8745070087906865 {'C': 1.9725605482606434, 'gamma': 0.15240487484995066}\n",
      "0.8679674507008791 {'C': 3.949753830804032, 'gamma': 0.1849573003470089}\n",
      "0.8635899263483011 {'C': 2.0061667356035757, 'gamma': 0.03135599879874177}\n",
      "0.8712342599192209 {'C': 3.662851227958572, 'gamma': 0.082983192177257}\n",
      "0.8679615110477548 {'C': 0.9163515075977136, 'gamma': 0.18448637246908572}\n",
      "0.8668626752197671 {'C': 0.5554334070369518, 'gamma': 0.057276032030564056}\n",
      "0.8712342599192209 {'C': 2.3915969814095166, 'gamma': 0.12278452181574301}\n",
      "0.8723271560940841 {'C': 3.8457389279331884, 'gamma': 0.10064786664471997}\n",
      "0.8679615110477548 {'C': 0.5258322983141619, 'gamma': 0.16211353535347803}\n",
      "0.8657697790449038 {'C': 0.816536300456461, 'gamma': 0.045145972642636326}\n",
      "0.8679555713946305 {'C': 1.7584720506032443, 'gamma': 0.07805216056956252}\n",
      "0.8646828225231648 {'C': 3.879012434242277, 'gamma': 0.038605215417514306}\n",
      "0.8755939653124258 {'C': 3.388234131224472, 'gamma': 0.1438812279961326}\n",
      "0.8635958660014256 {'C': 0.4472196323181825, 'gamma': 0.0276507080058548}\n",
      "0.8679615110477549 {'C': 3.875848165109561, 'gamma': 0.048859497042601306}\n",
      "0.8668626752197671 {'C': 0.33760024007338063, 'gamma': 0.06387693905597273}\n",
      "0.8723271560940841 {'C': 2.6105220720525333, 'gamma': 0.11935544906893211}\n",
      "0.8679615110477549 {'C': 2.7968993754130036, 'gamma': 0.20261961554058575}\n",
      "0.8635899263483013 {'C': 1.1208861189256825, 'gamma': 0.05672529236959338}\n",
      "0.8690484675694939 {'C': 3.3926882179165787, 'gamma': 0.054842494124956224}\n",
      "0.8635899263483013 {'C': 2.765625198234757, 'gamma': 0.04069892739567455}\n",
      "0.8635958660014256 {'C': 0.8243925446223208, 'gamma': 0.023519778720715395}\n",
      "0.8635899263483013 {'C': 3.0079427817398985, 'gamma': 0.04601587908360309}\n",
      "0.8668626752197671 {'C': 0.5070428409996948, 'gamma': 0.05496145478175928}\n",
      "0.861416013304823 {'C': 1.1278382145944967, 'gamma': 0.016764346208757833}\n",
      "0.8679555713946305 {'C': 1.0275967401655037, 'gamma': 0.1437709412842553}\n",
      "0.8668686148728915 {'C': 3.0496763224829655, 'gamma': 0.05520288285332337}\n",
      "0.8712283202660964 {'C': 2.4573983573021643, 'gamma': 0.19245121686372382}\n",
      "0.8679615110477549 {'C': 2.176442513120054, 'gamma': 0.0847890179152392}\n",
      "0.8581313851271085 {'C': 0.06280250225959814, 'gamma': 0.17586353890426432}\n",
      "0.8635899263483011 {'C': 3.276246110854312, 'gamma': 0.025944023551243957}\n",
      "0.8679615110477548 {'C': 0.6967011907086593, 'gamma': 0.1776298064442}\n",
      "0.8679615110477549 {'C': 2.266641115447244, 'gamma': 0.07995644272020629}\n",
      "0.862502969826562 {'C': 0.5900118514218671, 'gamma': 0.02970381518340534}\n",
      "0.8755939653124258 {'C': 2.2507256732643226, 'gamma': 0.15201317801261277}\n",
      "0.871240199572345 {'C': 3.8134841305045812, 'gamma': 0.1596102664252375}\n",
      "0.8701413637443574 {'C': 1.4989840496964721, 'gamma': 0.16169546111964075}\n",
      "0.8668626752197672 {'C': 0.2942940498496325, 'gamma': 0.1343690737901957}\n",
      "0.8614041339985745 {'C': 2.892856122492579, 'gamma': 0.018361723824245915}\n",
      "0.8646768828700404 {'C': 1.59096727305453, 'gamma': 0.04226776469103834}\n",
      "0.8635899263483013 {'C': 1.1143323399106342, 'gamma': 0.05530066466262892}\n",
      "0.8635899263483011 {'C': 1.228735721220328, 'gamma': 0.037246676224390256}\n",
      "0.8624970301734379 {'C': 2.787000230394208, 'gamma': 0.020573240396704953}\n",
      "0.8635899263483013 {'C': 2.335753203253497, 'gamma': 0.04594562572644955}\n",
      "0.8679555713946305 {'C': 2.036765402236474, 'gamma': 0.06630376737368536}\n",
      "0.8712342599192209 {'C': 1.490307510597171, 'gamma': 0.11090578259497409}\n",
      "0.8635899263483011 {'C': 0.4993248451647092, 'gamma': 0.036132839807886126}\n",
      "0.8712342599192209 {'C': 3.3876570259508783, 'gamma': 0.08843970934961386}\n",
      "0.8690484675694939 {'C': 0.6882499146355323, 'gamma': 0.17023581368410018}\n",
      "0.8668745545260157 {'C': 3.6505145202461957, 'gamma': 0.1759154954173071}\n",
      "0.8624970301734379 {'C': 2.866203704134226, 'gamma': 0.029873530797674665}\n",
      "0.8755939653124258 {'C': 3.66320497610751, 'gamma': 0.1255958692331533}\n",
      "0.8755939653124258 {'C': 3.611101807002233, 'gamma': 0.1227140343738116}\n",
      "0.854864575908767 {'C': 0.049381763198754085, 'gamma': 0.20884787255931847}\n",
      "0.8668686148728915 {'C': 0.539591345528285, 'gamma': 0.1485272515482635}\n",
      "0.8646828225231646 {'C': 1.347153009522491, 'gamma': 0.046040751521848604}\n",
      "0.8668686148728915 {'C': 0.5723906606870182, 'gamma': 0.14384948212788948}\n",
      "0.8690484675694939 {'C': 1.2254170913241522, 'gamma': 0.13273090677964033}\n",
      "0.8679615110477549 {'C': 3.7523975411276678, 'gamma': 0.05058097857765866}\n",
      "0.8657697790449038 {'C': 0.48844058462311435, 'gamma': 0.08843813258258434}\n",
      "0.8679615110477549 {'C': 2.788156906569397, 'gamma': 0.1989934066268039}\n",
      "0.8679555713946305 {'C': 0.6635299776185841, 'gamma': 0.10174266114518891}\n",
      "0.8646828225231646 {'C': 1.1254542052256433, 'gamma': 0.050920014799155706}\n",
      "0.8690544072226182 {'C': 1.243344120002128, 'gamma': 0.1691219140822842}\n",
      "0.8668686148728915 {'C': 0.3813841276265306, 'gamma': 0.18380383562841338}\n",
      "0.8755939653124258 {'C': 3.344861524346869, 'gamma': 0.14635871064180692}\n",
      "0.8646768828700404 {'C': 1.1932570299749237, 'gamma': 0.043223959331458076}\n",
      "0.8635899263483011 {'C': 3.6857651624192656, 'gamma': 0.024285026743725895}\n",
      "0.8668686148728915 {'C': 1.9078722843580376, 'gamma': 0.08204588395382141}\n",
      "0.8679615110477548 {'C': 0.6489243300231051, 'gamma': 0.20358315185926992}\n",
      "0.8679555713946305 {'C': 0.8858059141077714, 'gamma': 0.15235608127654995}\n",
      "0.8755939653124258 {'C': 3.5263019747865725, 'gamma': 0.14378075861935719}\n",
      "0.8679615110477548 {'C': 0.5840821934741205, 'gamma': 0.16857759618603285}\n",
      "0.8690544072226182 {'C': 0.8720507886070161, 'gamma': 0.20119000613758453}\n",
      "0.865775718698028 {'C': 0.34143204048254394, 'gamma': 0.13820601693002385}\n",
      "0.8701413637443574 {'C': 2.4637849816240713, 'gamma': 0.10601436320787326}\n",
      "0.8657697790449038 {'C': 0.6707723865990942, 'gamma': 0.060397031041915135}\n",
      "0.8679615110477549 {'C': 2.931669330239511, 'gamma': 0.20174013628052603}\n",
      "0.8734141126158234 {'C': 3.713208370694185, 'gamma': 0.15747997976721376}\n",
      "0.8690484675694939 {'C': 0.9447274392852931, 'gamma': 0.1629005554393333}\n",
      "0.8646828225231648 {'C': 1.199248878254729, 'gamma': 0.06627158844988833}\n",
      "0.8755939653124258 {'C': 3.0796060204746927, 'gamma': 0.14715751980197253}\n",
      "0.8657697790449038 {'C': 1.1023758404713198, 'gamma': 0.042706615766426106}\n",
      "0.8668626752197672 {'C': 0.4216654646876796, 'gamma': 0.10787631212340704}\n",
      "0.8701413637443574 {'C': 3.3423386610964627, 'gamma': 0.0746513352969407}\n",
      "0.8646828225231648 {'C': 2.3937602632227106, 'gamma': 0.046328276030178056}\n",
      "0.8701413637443574 {'C': 1.2969576473495883, 'gamma': 0.1490627439237596}\n",
      "0.873408172962699 {'C': 2.0162510851863735, 'gamma': 0.1841282333724361}\n",
      "0.8690484675694939 {'C': 3.322642387666634, 'gamma': 0.0695507480584731}\n",
      "0.8657697790449038 {'C': 0.12637638583929145, 'gamma': 0.13863605778971563}\n",
      "0.8668745545260157 {'C': 3.486755692791033, 'gamma': 0.18010749124816025}\n",
      "0.8613981943454503 {'C': 0.06914694123816843, 'gamma': 0.04029618280516964}\n",
      "0.8635899263483013 {'C': 0.7394077736008817, 'gamma': 0.06638434444664858}\n",
      "0.8635899263483011 {'C': 1.279740853657619, 'gamma': 0.026331587274184914}\n",
      "0.8734141126158231 {'C': 1.4746741314361744, 'gamma': 0.19079474385831774}\n",
      "0.8679615110477548 {'C': 0.5008863049612968, 'gamma': 0.16647535586388504}\n",
      "0.8625089094796865 {'C': 0.2374114223945878, 'gamma': 0.022650276149741858}\n",
      "0.873408172962699 {'C': 1.72580311886283, 'gamma': 0.20331189031984187}\n",
      "0.8690544072226182 {'C': 0.8770037106971957, 'gamma': 0.1996145903254587}\n",
      "0.8657816583511522 {'C': 0.18230651237838358, 'gamma': 0.18763419799936365}\n",
      "0.873408172962699 {'C': 2.2712847595563748, 'gamma': 0.17444836198022742}\n",
      "0.8668686148728915 {'C': 1.937259544966827, 'gamma': 0.06028241606521063}\n",
      "0.8712342599192209 {'C': 3.386416679523286, 'gamma': 0.07819121154600651}\n",
      "0.8679615110477549 {'C': 2.93142860662713, 'gamma': 0.20102474832527267}\n",
      "0.8755939653124258 {'C': 3.6697490593764934, 'gamma': 0.11192084322910813}\n",
      "0.8690484675694939 {'C': 0.9716358252987158, 'gamma': 0.16826235234260167}\n",
      "0.8657816583511522 {'C': 0.19213058261841964, 'gamma': 0.1899937522717626}\n",
      "0.861416013304823 {'C': 2.272846628067747, 'gamma': 0.013231807226617622}\n",
      "0.8701413637443574 {'C': 2.089637588333923, 'gamma': 0.10875084230731744}\n",
      "0.8668686148728915 {'C': 0.861607881888834, 'gamma': 0.13362341759329865}\n",
      "0.6288191969588977 {'C': 0.016292634403992638, 'gamma': 0.05678808423999936}\n",
      "0.8646828225231648 {'C': 2.117845720108535, 'gamma': 0.04982858385371251}\n",
      "0.8679555713946305 {'C': 0.9848101119719204, 'gamma': 0.09728064753789384}\n",
      "0.8668626752197671 {'C': 0.23256883457083544, 'gamma': 0.051639676107665504}\n",
      "0.865775718698028 {'C': 0.3045645100384362, 'gamma': 0.16968515052562952}\n",
      "0.8668686148728915 {'C': 2.0199674004553154, 'gamma': 0.06230862805679884}\n",
      "0.8646828225231648 {'C': 3.197115023773272, 'gamma': 0.041015757793906794}\n",
      "0.8712342599192209 {'C': 3.473910879325971, 'gamma': 0.10220464551804377}\n",
      "0.8679555713946305 {'C': 2.2569809651142902, 'gamma': 0.07244925316491163}\n",
      "0.8635899263483013 {'C': 0.9823190722509392, 'gamma': 0.06533690545851316}\n",
      "0.8701413637443574 {'C': 1.449693800700903, 'gamma': 0.12399446763982637}\n",
      "0.863583986695177 {'C': 0.13298703354568597, 'gamma': 0.08715092290979458}\n",
      "0.8712342599192209 {'C': 1.3748286160937389, 'gamma': 0.1359679406065637}\n",
      "0.8723271560940841 {'C': 3.4843950951090217, 'gamma': 0.1645278879687145}\n",
      "0.8712342599192209 {'C': 3.975483924092455, 'gamma': 0.09318649211120565}\n",
      "0.8679615110477548 {'C': 0.8685829823112023, 'gamma': 0.19437731758640214}\n",
      "0.8668745545260157 {'C': 3.2679503225521165, 'gamma': 0.1927795975840121}\n",
      "0.8679555713946305 {'C': 0.8528013034756199, 'gamma': 0.10384031570012801}\n",
      "0.8668686148728915 {'C': 1.3040674999273156, 'gamma': 0.10025513135820364}\n",
      "0.8755939653124258 {'C': 2.919700203171473, 'gamma': 0.15497648820840368}\n",
      "0.8690484675694939 {'C': 2.5590791015669896, 'gamma': 0.07784030427000176}\n",
      "0.8679555713946305 {'C': 0.9066521027258394, 'gamma': 0.10354215261240389}\n",
      "0.865775718698028 {'C': 3.0048870557635534, 'gamma': 0.046684848419916464}\n",
      "0.8581313851271085 {'C': 0.10663582846065432, 'gamma': 0.031005898343354578}\n",
      "0.8679555713946305 {'C': 0.5258207500451004, 'gamma': 0.10290115188633014}\n",
      "0.8734141126158231 {'C': 1.4352213322065148, 'gamma': 0.1938919245816623}\n",
      "0.8679555713946305 {'C': 0.8425521214506027, 'gamma': 0.08615064958405692}\n",
      "0.8635958660014256 {'C': 0.09559069365257654, 'gamma': 0.02196884207383546}\n",
      "0.8745010691375624 {'C': 3.3610972899827605, 'gamma': 0.15043387638396258}\n",
      "0.8668686148728915 {'C': 0.3830746926613664, 'gamma': 0.16826853512976278}\n",
      "0.8624970301734379 {'C': 1.5955381837798714, 'gamma': 0.03905895527523812}\n",
      "0.8624970301734379 {'C': 3.9497090880114887, 'gamma': 0.03379969824224073}\n",
      "0.8690484675694939 {'C': 0.5740170327995366, 'gamma': 0.18078388508775903}\n",
      "0.8635899263483011 {'C': 2.920161776029004, 'gamma': 0.02382586501278991}\n",
      "0.8712342599192209 {'C': 2.4957201166802863, 'gamma': 0.09659798506772882}\n",
      "0.8755939653124258 {'C': 3.5595237803430897, 'gamma': 0.13360198246264404}\n",
      "0.8701413637443574 {'C': 2.6532419260153763, 'gamma': 0.10488999812844321}\n",
      "0.7423616060822047 {'C': 0.03048635839421076, 'gamma': 0.08686765083680156}\n",
      "0.8701413637443574 {'C': 1.1953820252050813, 'gamma': 0.11990851974116713}\n",
      "0.873408172962699 {'C': 1.9318968307140885, 'gamma': 0.18788103603364936}\n",
      "0.8625089094796863 {'C': 0.6001760368782458, 'gamma': 0.0240042490866076}\n",
      "0.8624970301734379 {'C': 1.9266418629170519, 'gamma': 0.034953426626160605}\n",
      "0.8668686148728915 {'C': 2.894337582323885, 'gamma': 0.05311418536592267}\n",
      "0.8679615110477548 {'C': 0.9818214618924703, 'gamma': 0.1324517482830369}\n",
      "0.8755939653124258 {'C': 3.1650274781323686, 'gamma': 0.14636031468679347}\n",
      "0.8712342599192209 {'C': 2.1375802425532964, 'gamma': 0.09779442408322826}\n",
      "0.8755939653124258 {'C': 3.9667211110125375, 'gamma': 0.1345664402076392}\n",
      "0.8635899263483013 {'C': 3.684766604438388, 'gamma': 0.039874434863931246}\n",
      "0.8745010691375624 {'C': 3.190277623518058, 'gamma': 0.15742101132008168}\n",
      "0.8679615110477548 {'C': 0.626098834440606, 'gamma': 0.19488073165981898}\n",
      "0.8690484675694939 {'C': 3.9865269000908152, 'gamma': 0.05335218457322779}\n",
      "0.861416013304823 {'C': 0.7901697107101187, 'gamma': 0.01959604512036598}\n",
      "0.8745010691375624 {'C': 1.969009825364182, 'gamma': 0.17004582729441786}\n",
      "0.8624970301734379 {'C': 2.6401585988205105, 'gamma': 0.03639853802288019}\n",
      "0.8712342599192209 {'C': 3.788175115901539, 'gamma': 0.0781020243378958}\n",
      "0.8679615110477549 {'C': 1.9229708508954102, 'gamma': 0.08564876470821826}\n",
      "0.8712342599192209 {'C': 2.061511779064999, 'gamma': 0.12781406382168983}\n",
      "0.873408172962699 {'C': 2.496380675487368, 'gamma': 0.18167768011823474}\n",
      "0.86688049417914 {'C': 3.810690711213203, 'gamma': 0.17110571458786616}\n",
      "0.8712342599192209 {'C': 3.5101997750171416, 'gamma': 0.07895755139833102}\n",
      "0.8701413637443574 {'C': 1.2856923838938619, 'gamma': 0.18633084704161818}\n",
      "0.8701413637443574 {'C': 3.71313585841606, 'gamma': 0.08586987558046541}\n",
      "0.8635899263483013 {'C': 0.9744328422422706, 'gamma': 0.06098039510924784}\n",
      "0.8755939653124258 {'C': 2.723785877449765, 'gamma': 0.14641031582612088}\n",
      "0.8712342599192209 {'C': 3.0745720599079913, 'gamma': 0.10341523018935374}\n",
      "0.873408172962699 {'C': 2.6976418878350654, 'gamma': 0.1819840445100124}\n",
      "0.8625089094796865 {'C': 0.7721670205499229, 'gamma': 0.014655217975177095}\n",
      "0.8679615110477549 {'C': 3.358371530423766, 'gamma': 0.06554256659424879}\n",
      "0.8690662865288667 {'C': 3.90771158765082, 'gamma': 0.1616434466951261}\n",
      "0.8625029698265623 {'C': 1.7642559331993477, 'gamma': 0.017809842955680902}\n",
      "0.8712342599192209 {'C': 3.1305878790541444, 'gamma': 0.08138982902461712}\n",
      "0.8690484675694939 {'C': 2.2887355456534935, 'gamma': 0.20851615705065474}\n",
      "0.8712342599192209 {'C': 2.375026161222978, 'gamma': 0.11497989643563815}\n",
      "0.8712342599192209 {'C': 1.3158371036129022, 'gamma': 0.13381299024664664}\n",
      "0.8755939653124258 {'C': 3.9865059261885762, 'gamma': 0.12281191012044822}\n",
      "0.8668745545260157 {'C': 3.4612725745037785, 'gamma': 0.18341827717537168}\n",
      "0.8690484675694939 {'C': 3.9488672126394646, 'gamma': 0.06825344571348756}\n",
      "0.8635899263483013 {'C': 0.7384501508531118, 'gamma': 0.07295322723026335}\n",
      "0.8668626752197671 {'C': 0.1084666194754169, 'gamma': 0.0538173918421168}\n",
      "0.8755939653124258 {'C': 2.34942159785875, 'gamma': 0.14746530902617203}\n",
      "0.873408172962699 {'C': 2.5994274058927562, 'gamma': 0.181049086935755}\n",
      "0.873408172962699 {'C': 2.814428396367456, 'gamma': 0.17629207112059508}\n",
      "0.8625089094796865 {'C': 0.0657290717369927, 'gamma': 0.0330755205483739}\n",
      "0.8679615110477548 {'C': 0.7643109863882704, 'gamma': 0.18607236805570576}\n",
      "0.8635899263483013 {'C': 1.1839338637281325, 'gamma': 0.053309256961943906}\n",
      "0.8679555713946305 {'C': 0.36446903965491084, 'gamma': 0.1071374210967043}\n",
      "0.8679615110477548 {'C': 0.5323964181426766, 'gamma': 0.1392779731354802}\n",
      "0.8679555713946305 {'C': 1.0937454086644538, 'gamma': 0.13603633393843353}\n",
      "0.8755939653124258 {'C': 3.261483635480232, 'gamma': 0.12615338273841875}\n",
      "0.6888631503920172 {'C': 0.034479799143218186, 'gamma': 0.05033937009354632}\n",
      "0.8690544072226182 {'C': 1.2125956288322952, 'gamma': 0.17636982396600087}\n",
      "0.8690544072226182 {'C': 0.8487968811794249, 'gamma': 0.20743227345693327}\n",
      "0.8745010691375624 {'C': 2.049798489221639, 'gamma': 0.17461299394292995}\n",
      "0.8723152767878357 {'C': 1.7723842892622004, 'gamma': 0.20594108768361807}\n",
      "0.8679555713946305 {'C': 2.280022216128043, 'gamma': 0.06885679905944359}\n",
      "0.8745010691375624 {'C': 3.4430878483875285, 'gamma': 0.15107019360222185}\n",
      "0.8679555713946305 {'C': 2.8648990585699505, 'gamma': 0.058282475053372224}\n",
      "0.8690484675694939 {'C': 0.8888023085762657, 'gamma': 0.07911988974753224}\n",
      "0.8635899263483011 {'C': 2.309198398879313, 'gamma': 0.035430806343112194}\n",
      "0.8701413637443574 {'C': 3.035026627724937, 'gamma': 0.09655872005178251}\n",
      "0.8755939653124258 {'C': 3.0158482189098974, 'gamma': 0.14507478471611643}\n",
      "0.8701413637443574 {'C': 4.005457856315746, 'gamma': 0.08518350154270983}\n",
      "0.8668686148728915 {'C': 0.4115877986442691, 'gamma': 0.18443485469525747}\n",
      "0.8679555713946305 {'C': 0.5381374818299343, 'gamma': 0.09889005509794443}\n",
      "0.865775718698028 {'C': 1.8668823289255772, 'gamma': 0.058426861393790296}\n",
      "0.8657875980042766 {'C': 4.007104945034941, 'gamma': 0.1926660415681446}\n",
      "0.8755939653124258 {'C': 2.640018303789286, 'gamma': 0.14195997815982062}\n",
      "0.8668686148728915 {'C': 2.1737166143160302, 'gamma': 0.0609821608842491}\n",
      "0.8679555713946305 {'C': 0.8859332864587446, 'gamma': 0.1505323646960973}\n",
      "0.8657697790449038 {'C': 0.253792569442959, 'gamma': 0.11212763338550401}\n",
      "0.871240199572345 {'C': 3.5715963093678154, 'gamma': 0.1698158536561484}\n",
      "0.8603052981705869 {'C': 0.079177643505411, 'gamma': 0.052477746074803884}\n",
      "0.8625029698265623 {'C': 1.377626204706272, 'gamma': 0.018178765671462475}\n",
      "0.8635899263483011 {'C': 2.2962226257975025, 'gamma': 0.02228777783216595}\n",
      "0.7227072938940367 {'C': 0.0679586420676339, 'gamma': 0.021333338387671902}\n",
      "0.8712342599192209 {'C': 2.03113920421183, 'gamma': 0.10289757543367854}\n",
      "0.8690484675694939 {'C': 1.2321718958565693, 'gamma': 0.1405772152479717}\n",
      "0.8635958660014256 {'C': 0.20235623989420204, 'gamma': 0.034456701696749095}\n",
      "0.8712342599192209 {'C': 3.735525062249949, 'gamma': 0.08149197692145388}\n",
      "0.8646828225231646 {'C': 0.9170133086958472, 'gamma': 0.053704168629572654}\n",
      "0.8734141126158234 {'C': 3.746563916254423, 'gamma': 0.10243713210942137}\n",
      "0.8646828225231648 {'C': 2.212951192943844, 'gamma': 0.04966919810987522}\n",
      "0.8679615110477548 {'C': 0.923743158392724, 'gamma': 0.1310842911559523}\n",
      "0.8745070087906865 {'C': 3.1830582448702454, 'gamma': 0.11603142403240749}\n",
      "0.6659360893323829 {'C': 0.023732091048595853, 'gamma': 0.10680242397205776}\n",
      "0.8712342599192207 {'C': 1.5993291282943842, 'gamma': 0.16090157811882516}\n",
      "0.8712342599192209 {'C': 3.2697777190232915, 'gamma': 0.10236113823244851}\n",
      "0.8712342599192209 {'C': 1.6513184038257525, 'gamma': 0.13943229244083497}\n",
      "0.8712342599192209 {'C': 3.747736012041753, 'gamma': 0.07558645828308527}\n",
      "0.873408172962699 {'C': 2.439427728951713, 'gamma': 0.16939053650776512}\n",
      "0.8690484675694939 {'C': 3.260664634728699, 'gamma': 0.06319610140760842}\n",
      "0.8679615110477549 {'C': 2.0463102669868065, 'gamma': 0.08145512255343071}\n",
      "0.8755939653124258 {'C': 3.074333895985188, 'gamma': 0.14552984654442017}\n",
      "0.8668745545260157 {'C': 3.650518053512895, 'gamma': 0.18272280700128732}\n",
      "0.8668686148728915 {'C': 0.9224528083515817, 'gamma': 0.12709816105319358}\n",
      "0.8668686148728915 {'C': 0.4163158988907043, 'gamma': 0.17636409349900586}\n",
      "0.8690544072226182 {'C': 1.2738279419612575, 'gamma': 0.17483003476110726}\n",
      "0.8712342599192209 {'C': 3.2752397093694863, 'gamma': 0.08478554161790855}\n",
      "0.8679615110477549 {'C': 2.658355357250347, 'gamma': 0.20939968332118727}\n",
      "0.8712342599192209 {'C': 2.171111675519006, 'gamma': 0.10288443354697127}\n",
      "0.8745010691375624 {'C': 2.9519762289596962, 'gamma': 0.1576843530973293}\n",
      "0.8701413637443574 {'C': 3.7266852095068055, 'gamma': 0.09144796353310522}\n",
      "0.8701413637443574 {'C': 2.663554872213383, 'gamma': 0.19357557633576336}\n",
      "0.8668686148728915 {'C': 2.313269744978213, 'gamma': 0.05844246437374751}\n",
      "0.8385008315514375 {'C': 0.03241635959679478, 'gamma': 0.15146096789985278}\n",
      "0.8755939653124258 {'C': 3.533295193195514, 'gamma': 0.13050036725331393}\n",
      "0.8679615110477549 {'C': 3.0302616457192735, 'gamma': 0.18897311111524537}\n",
      "0.8625089094796865 {'C': 1.2717177812923663, 'gamma': 0.01340345853935411}\n",
      "0.865775718698028 {'C': 0.8763891244037685, 'gamma': 0.11642278147581983}\n",
      "0.8679555713946305 {'C': 1.9599406951077685, 'gamma': 0.06790794522296396}\n",
      "0.8647006414825376 {'C': 3.8679179448163454, 'gamma': 0.19988653812369087}\n",
      "0.8668626752197671 {'C': 0.43333005653308576, 'gamma': 0.04828858151564785}\n",
      "0.8635899263483013 {'C': 2.9203611872998834, 'gamma': 0.03956086895215508}\n",
      "0.8647006414825376 {'C': 3.4851620205767104, 'gamma': 0.20857599210424127}\n",
      "0.8635899263483013 {'C': 1.4755431304203135, 'gamma': 0.05227055089236001}\n",
      "0.873408172962699 {'C': 2.022610017058372, 'gamma': 0.19827550476644046}\n",
      "0.8635899263483013 {'C': 2.831697969523251, 'gamma': 0.04547374458598085}\n",
      "0.8668686148728915 {'C': 3.743289958452464, 'gamma': 0.04389651413026238}\n",
      "0.8679555713946305 {'C': 0.5527341009539442, 'gamma': 0.12887942071430109}\n",
      "0.8635899263483011 {'C': 2.5464285102287683, 'gamma': 0.02462655366232053}\n",
      "0.8668626752197671 {'C': 0.4468549494839775, 'gamma': 0.052016878525089114}\n",
      "0.8712342599192209 {'C': 1.7125460233395058, 'gamma': 0.10703993875127309}\n",
      "0.8690484675694939 {'C': 3.0036519554349277, 'gamma': 0.1876206702454003}\n",
      "0.8668686148728915 {'C': 1.1273439301670114, 'gamma': 0.10662873602424477}\n",
      "0.861416013304823 {'C': 1.8803076098821248, 'gamma': 0.014553390617599228}\n",
      "0.862502969826562 {'C': 1.1264511917283897, 'gamma': 0.02215171321806652}\n",
      "0.8679615110477549 {'C': 2.142848852863157, 'gamma': 0.08453770799548369}\n",
      "0.8745010691375624 {'C': 3.283180622042618, 'gamma': 0.1651575073098032}\n",
      "0.873408172962699 {'C': 2.2019296899439516, 'gamma': 0.17611052690618295}\n",
      "0.8625089094796865 {'C': 1.3811322834148625, 'gamma': 0.011761498446275512}\n",
      "0.8712342599192209 {'C': 1.4033408686653115, 'gamma': 0.14170492391729314}\n",
      "0.8712342599192207 {'C': 1.3176750101905916, 'gamma': 0.19176305078844988}\n",
      "0.8712342599192207 {'C': 1.5887708420497029, 'gamma': 0.1648613666482941}\n",
      "0.8646828225231646 {'C': 0.7460404389057163, 'gamma': 0.057650546100786744}\n",
      "0.8668686148728915 {'C': 0.5950465806238869, 'gamma': 0.14715744806907158}\n",
      "0.8745010691375624 {'C': 2.99292490655597, 'gamma': 0.16789306399586543}\n",
      "0.8755939653124258 {'C': 4.006461406036764, 'gamma': 0.10847761217979458}\n",
      "0.8712342599192209 {'C': 2.7262401854900977, 'gamma': 0.09660180338289032}\n",
      "0.8679555713946305 {'C': 0.9906634670693848, 'gamma': 0.14192821651495946}\n",
      "0.8690484675694939 {'C': 1.1161629258327694, 'gamma': 0.14658179487848658}\n",
      "0.8745010691375624 {'C': 3.6972315745302344, 'gamma': 0.14561421570220592}\n",
      "0.8646828225231646 {'C': 0.5450613992445243, 'gamma': 0.06532498234270635}\n",
      "0.8745010691375624 {'C': 3.6354027859279916, 'gamma': 0.15530958025625638}\n",
      "0.8745010691375624 {'C': 3.827931745124856, 'gamma': 0.1458556575039763}\n",
      "0.8646828225231648 {'C': 1.8951050056561944, 'gamma': 0.05231930783727727}\n",
      "0.8624970301734379 {'C': 2.00979440620145, 'gamma': 0.03543825644425024}\n",
      "0.8624970301734379 {'C': 3.7227510774285033, 'gamma': 0.03425742523003338}\n",
      "0.8646828225231648 {'C': 1.2867200708509061, 'gamma': 0.06436275714183098}\n",
      "0.8646828225231646 {'C': 1.3526754892203712, 'gamma': 0.04806558651916164}\n",
      "0.8635899263483011 {'C': 0.9929850866071213, 'gamma': 0.031691981802925734}\n",
      "0.8646828225231648 {'C': 3.6113764023024295, 'gamma': 0.039755927962547406}\n",
      "0.8668686148728915 {'C': 0.6901218988313895, 'gamma': 0.13446010273695969}\n",
      "0.8712342599192207 {'C': 1.6044847378206752, 'gamma': 0.16250226330953393}\n",
      "0.8635899263483011 {'C': 2.1757660454998753, 'gamma': 0.03105513552412051}\n",
      "0.8646828225231646 {'C': 0.8116432234951236, 'gamma': 0.055477930711850094}\n",
      "0.8679555713946305 {'C': 0.8372555026829975, 'gamma': 0.10941227539743427}\n",
      "0.8690484675694939 {'C': 1.1893178754812819, 'gamma': 0.13081519055104124}\n",
      "0.8690484675694939 {'C': 2.956895217608179, 'gamma': 0.06080939004872969}\n",
      "0.873408172962699 {'C': 2.257705578786531, 'gamma': 0.18989022694408497}\n",
      "0.8625089094796865 {'C': 0.2534147012252401, 'gamma': 0.01606048881561494}\n",
      "0.8668686148728915 {'C': 1.683533898345021, 'gamma': 0.06512398357460855}\n",
      "0.8635899263483013 {'C': 0.980271982241306, 'gamma': 0.06088435039107833}\n",
      "0.8635899263483011 {'C': 2.577806709452667, 'gamma': 0.021808486225946836}\n",
      "0.8723152767878357 {'C': 2.104153991134796, 'gamma': 0.1998427688073171}\n",
      "0.8624970301734379 {'C': 1.781413967374337, 'gamma': 0.03565708865342855}\n",
      "0.8755939653124258 {'C': 3.7843381902347657, 'gamma': 0.11706224271386406}\n",
      "0.8646828225231646 {'C': 1.0367589562631967, 'gamma': 0.05068350796264682}\n",
      "0.8679555713946305 {'C': 1.0727624755264598, 'gamma': 0.08010613407502226}\n",
      "0.8668626752197671 {'C': 0.3381789973568725, 'gamma': 0.13308460377930223}\n",
      "0.8745010691375624 {'C': 3.058898734709821, 'gamma': 0.16796031677292433}\n",
      "0.8635899263483011 {'C': 2.947527749603138, 'gamma': 0.022448259892724913}\n",
      "0.8624970301734379 {'C': 2.1959680146546465, 'gamma': 0.01754041054600416}\n",
      "0.8745070087906865 {'C': 3.5630595185757423, 'gamma': 0.10723744999511288}\n",
      "0.8690484675694939 {'C': 3.2512872000290116, 'gamma': 0.0708485485437461}\n",
      "0.8690484675694939 {'C': 2.76462706199677, 'gamma': 0.19374035923962232}\n",
      "0.8679555713946305 {'C': 1.3631565580584668, 'gamma': 0.0726864681711589}\n",
      "0.8603231171299596 {'C': 2.383081932087043, 'gamma': 0.012160749302824328}\n",
      "0.8712342599192209 {'C': 2.522365988663646, 'gamma': 0.0887134843384305}\n",
      "0.8635899263483011 {'C': 3.987846484571352, 'gamma': 0.018023969641588002}\n",
      "0.8657697790449038 {'C': 0.13741544105418702, 'gamma': 0.14143191071168956}\n",
      "0.8668686148728915 {'C': 0.6025098949945569, 'gamma': 0.1474525882460787}\n",
      "0.8679555713946305 {'C': 1.9523180259714434, 'gamma': 0.07892861515428483}\n",
      "0.8635899263483011 {'C': 1.9026603028683187, 'gamma': 0.024516518300890647}\n",
      "0.865775718698028 {'C': 0.9888711826317802, 'gamma': 0.11361935804143129}\n",
      "0.8690484675694939 {'C': 3.004357207654322, 'gamma': 0.05987111318600051}\n",
      "0.8745010691375624 {'C': 1.9117007319171109, 'gamma': 0.17151649325972998}\n",
      "0.8755939653124258 {'C': 3.8737580271668794, 'gamma': 0.13781105547975056}\n",
      "0.8712342599192209 {'C': 2.365072096608864, 'gamma': 0.11184466825546623}\n",
      "0.8701413637443574 {'C': 1.7027738068580363, 'gamma': 0.15208527434212657}\n",
      "0.8679615110477548 {'C': 0.6306129762459729, 'gamma': 0.18892244471662312}\n",
      "0.8701413637443574 {'C': 3.360096843262322, 'gamma': 0.09330159159363831}\n",
      "0.8624970301734379 {'C': 3.384438797910419, 'gamma': 0.026580099835311122}\n",
      "0.8755939653124258 {'C': 3.239439295793776, 'gamma': 0.14799083580724376}\n",
      "0.8690484675694939 {'C': 0.8649044362652607, 'gamma': 0.1587653747415849}\n",
      "0.8679555713946305 {'C': 1.3763186999938786, 'gamma': 0.08318313196793675}\n",
      "0.8690484675694939 {'C': 0.5728909594680853, 'gamma': 0.181646817721107}\n",
      "0.8635899263483013 {'C': 2.963190015087788, 'gamma': 0.03919789592024511}\n",
      "0.8701413637443574 {'C': 2.651901426762358, 'gamma': 0.1021372468466595}\n",
      "0.865775718698028 {'C': 1.8516482539505377, 'gamma': 0.056918470623073175}\n",
      "0.8723271560940841 {'C': 2.541273078192219, 'gamma': 0.12492928782087069}\n",
      "0.8624970301734379 {'C': 2.525486371436436, 'gamma': 0.03549043654450443}\n",
      "0.8701413637443574 {'C': 1.373272024427311, 'gamma': 0.12177692157208679}\n",
      "0.873408172962699 {'C': 2.3817618618820964, 'gamma': 0.19193285761382162}\n",
      "0.8712342599192209 {'C': 3.410285709376901, 'gamma': 0.08179421592488764}\n",
      "0.8679555713946305 {'C': 0.2794944013688603, 'gamma': 0.1211579495136229}\n",
      "0.8701413637443574 {'C': 1.5372555386973714, 'gamma': 0.16220483548163656}\n",
      "0.8712342599192209 {'C': 1.724759901359825, 'gamma': 0.11780473966061224}\n",
      "0.8734141126158231 {'C': 1.5304228345155588, 'gamma': 0.1854402996352332}\n",
      "0.8679615110477549 {'C': 3.0724626854320127, 'gamma': 0.19093807923791947}\n",
      "0.8701413637443574 {'C': 1.2108843699839265, 'gamma': 0.16075876493761565}\n",
      "0.8668626752197671 {'C': 0.3100873548050307, 'gamma': 0.06295829697040843}\n",
      "0.8712283202660964 {'C': 2.0709497457021575, 'gamma': 0.2037353062824797}\n",
      "0.871240199572345 {'C': 3.499399794923419, 'gamma': 0.16719828828862682}\n",
      "0.8635899263483011 {'C': 3.076766627618476, 'gamma': 0.021578876920514828}\n",
      "0.8668686148728915 {'C': 1.8895641945764348, 'gamma': 0.060220750305862665}\n",
      "0.8734141126158234 {'C': 3.7285905791540706, 'gamma': 0.1571687156900445}\n",
      "0.8712342599192209 {'C': 2.1211876145518307, 'gamma': 0.12660606789076548}\n",
      "0.8723271560940841 {'C': 1.6615203082529593, 'gamma': 0.16903131019871587}\n",
      "0.8745070087906865 {'C': 2.650110696934643, 'gamma': 0.12490984549865895}\n",
      "0.8668626752197671 {'C': 0.5490906411890208, 'gamma': 0.059708852842553}\n",
      "0.8679555713946305 {'C': 1.4895006631228884, 'gamma': 0.0797327747838089}\n",
      "0.8679615110477548 {'C': 0.4251035692465248, 'gamma': 0.20096320086355274}\n",
      "0.8712342599192209 {'C': 1.6450853249418775, 'gamma': 0.13204270668973456}\n",
      "0.8745070087906865 {'C': 3.693806983137176, 'gamma': 0.1047850711606645}\n",
      "0.8723271560940841 {'C': 1.2714613973159004, 'gamma': 0.20349813905090608}\n",
      "0.871240199572345 {'C': 3.5687774838548973, 'gamma': 0.1666497035840921}\n",
      "0.8745070087906865 {'C': 3.5249379833236354, 'gamma': 0.10769804636102133}\n",
      "0.8668745545260157 {'C': 3.4923275290353724, 'gamma': 0.1913670354432347}\n",
      "0.8635899263483013 {'C': 1.7287379708970547, 'gamma': 0.05040527517406134}\n",
      "0.865775718698028 {'C': 1.14733370065898, 'gamma': 0.1097795035229931}\n",
      "0.8668686148728915 {'C': 3.8335942020700453, 'gamma': 0.04620555953961955}\n",
      "0.8635899263483011 {'C': 3.832314640490514, 'gamma': 0.024552794707871632}\n",
      "0.8668686148728915 {'C': 3.8073917161354793, 'gamma': 0.04716644862067844}\n",
      "0.8635899263483011 {'C': 1.6293431585695843, 'gamma': 0.023648575293828637}\n",
      "0.8712342599192207 {'C': 1.6504502019025298, 'gamma': 0.1569897605312098}\n",
      "0.8690544072226182 {'C': 1.4104401135881328, 'gamma': 0.16404712071642638}\n",
      "0.8712342599192207 {'C': 1.809737655870989, 'gamma': 0.1555661561806618}\n",
      "0.8712342599192209 {'C': 2.1653670785171237, 'gamma': 0.11283491931935516}\n",
      "0.8624970301734379 {'C': 3.6881605057626508, 'gamma': 0.03379332974344284}\n",
      "0.8755939653124258 {'C': 2.738417093817584, 'gamma': 0.1349588517065014}\n",
      "0.8625029698265623 {'C': 0.14441953721551193, 'gamma': 0.0282664046726476}\n",
      "0.865775718698028 {'C': 2.72316811368762, 'gamma': 0.0497103134325922}\n",
      "0.8745010691375624 {'C': 1.6702591310225727, 'gamma': 0.19407848192944854}\n",
      "0.8723152767878357 {'C': 1.6095087090974103, 'gamma': 0.20868118620561218}\n",
      "0.8679615110477548 {'C': 0.5995312852785231, 'gamma': 0.1302483458861139}\n",
      "0.8690484675694939 {'C': 0.7722522019173363, 'gamma': 0.08737605284145859}\n",
      "0.8679555713946305 {'C': 2.4515195130922, 'gamma': 0.06576914928143701}\n",
      "0.8635899263483011 {'C': 2.65332997259285, 'gamma': 0.03357043117826918}\n",
      "0.8745070087906865 {'C': 2.3228715129147095, 'gamma': 0.13633741797920723}\n",
      "0.8635899263483011 {'C': 1.3526819825859466, 'gamma': 0.02658070322032066}\n",
      "0.8624970301734379 {'C': 2.052732357555099, 'gamma': 0.01975620526199654}\n",
      "0.8625089094796865 {'C': 0.824125539731454, 'gamma': 0.013692559599519307}\n",
      "0.8723271560940841 {'C': 2.342798080528631, 'gamma': 0.1275101086058842}\n",
      "0.8679555713946305 {'C': 0.8976140342001087, 'gamma': 0.08938651139154483}\n",
      "0.8679733903540032 {'C': 3.976006430176625, 'gamma': 0.17162746979928092}\n",
      "0.8701413637443574 {'C': 1.6393500716400442, 'gamma': 0.11869329012269329}\n",
      "0.8712342599192209 {'C': 1.5215583551285092, 'gamma': 0.11636096462655264}\n",
      "0.8679615110477549 {'C': 2.8991980245690536, 'gamma': 0.1931330656891911}\n",
      "0.8690484675694939 {'C': 0.6966129757061899, 'gamma': 0.0851817271074271}\n",
      "0.8712342599192207 {'C': 3.1282350523924136, 'gamma': 0.1778330100484512}\n",
      "0.8712342599192209 {'C': 2.499560573634711, 'gamma': 0.11161786059454543}\n",
      "0.8657697790449038 {'C': 0.32137256930087754, 'gamma': 0.07273683350359285}\n",
      "0.8701413637443574 {'C': 2.1069334348346476, 'gamma': 0.11226018338687775}\n",
      "0.8635899263483011 {'C': 1.5430450336903008, 'gamma': 0.022307203033989535}\n",
      "0.8624970301734379 {'C': 3.1226672278166587, 'gamma': 0.035623082584460244}\n",
      "0.8701413637443574 {'C': 1.0672857979899322, 'gamma': 0.1674698258359838}\n",
      "0.8657697790449038 {'C': 0.4456598111070533, 'gamma': 0.09245267687776645}\n",
      "0.8657816583511524 {'C': 3.2260466035193076, 'gamma': 0.20410922742116547}\n",
      "0.8603231171299596 {'C': 2.8141284467547965, 'gamma': 0.012690144087794356}\n",
      "0.8690484675694939 {'C': 0.6297053376730866, 'gamma': 0.1784673598451889}\n",
      "0.8690544072226182 {'C': 1.1871197255902868, 'gamma': 0.1950892601072078}\n",
      "0.8668745545260157 {'C': 3.686770794255237, 'gamma': 0.17798011167120634}\n",
      "0.865775718698028 {'C': 0.9950422065356157, 'gamma': 0.1156070242837756}\n",
      "0.8701413637443574 {'C': 4.008737154581089, 'gamma': 0.07056878845383316}\n",
      "0.8603171774768354 {'C': 3.9754935898076167, 'gamma': 0.015101860876966758}\n",
      "0.8635899263483011 {'C': 1.0386594424478182, 'gamma': 0.03665816649843918}\n",
      "0.8679555713946305 {'C': 0.5381873347432691, 'gamma': 0.12458921646145497}\n",
      "0.8690484675694939 {'C': 3.3082142204261373, 'gamma': 0.07628545464649264}\n",
      "0.8679615110477548 {'C': 0.6120674989808672, 'gamma': 0.15979519964208458}\n",
      "0.8603052981705869 {'C': 0.06140370333549438, 'gamma': 0.10749636281258632}\n",
      "0.861416013304823 {'C': 0.3178420751542823, 'gamma': 0.028223010092055717}\n",
      "0.8690484675694939 {'C': 0.5731574188366577, 'gamma': 0.1745741825760227}\n",
      "0.8657875980042766 {'C': 3.5939534860733082, 'gamma': 0.20184188223924532}\n",
      "0.8625089094796865 {'C': 0.6572271975851278, 'gamma': 0.013968390362683328}\n",
      "0.8635899263483013 {'C': 3.8147261024295944, 'gamma': 0.03958700569382369}\n",
      "0.8635899263483011 {'C': 2.223626231637044, 'gamma': 0.03042218120822028}\n",
      "0.8679555713946305 {'C': 2.4147151253679366, 'gamma': 0.06407034539597804}\n",
      "0.8668626752197671 {'C': 0.36050449027239595, 'gamma': 0.04719095767425762}\n",
      "0.8755939653124258 {'C': 2.868826765159234, 'gamma': 0.15770803881833267}\n",
      "0.8635899263483013 {'C': 1.8978137395387973, 'gamma': 0.04771054586408976}\n",
      "0.873408172962699 {'C': 2.4580494351151936, 'gamma': 0.18850229714740174}\n",
      "0.8679615110477549 {'C': 2.898858872764871, 'gamma': 0.1956851364960284}\n",
      "0.8646828225231648 {'C': 3.961740798388181, 'gamma': 0.037187977599981506}\n",
      "0.873408172962699 {'C': 1.758706232675782, 'gamma': 0.19311872731045135}\n",
      "0.8668686148728915 {'C': 2.2158153118401294, 'gamma': 0.0593522454842944}\n",
      "0.8723271560940841 {'C': 2.178954393289774, 'gamma': 0.13439110373646737}\n",
      "0.8668745545260157 {'C': 3.350183363561687, 'gamma': 0.19283795292185746}\n",
      "0.8723271560940841 {'C': 2.6326705550084397, 'gamma': 0.12032389667098892}\n",
      "0.8635899263483013 {'C': 0.8889067684216674, 'gamma': 0.06777579096030859}\n",
      "0.8690484675694939 {'C': 3.489880216073112, 'gamma': 0.05763155275945515}\n",
      "0.8745070087906865 {'C': 2.3309533384378023, 'gamma': 0.1358479631600565}\n",
      "0.8723271560940841 {'C': 3.132326292637681, 'gamma': 0.1103511633495727}\n",
      "0.861416013304823 {'C': 0.20703548643998881, 'gamma': 0.027025131988248623}\n",
      "0.8701473033974816 {'C': 3.32312033079159, 'gamma': 0.17599067561961138}\n",
      "0.8657697790449038 {'C': 0.3514982321955362, 'gamma': 0.10024958807151972}\n",
      "0.8657697790449038 {'C': 0.41711683886202455, 'gamma': 0.09656114711084106}\n",
      "0.8679555713946305 {'C': 1.787336952603228, 'gamma': 0.08067810641509604}\n",
      "0.8745010691375624 {'C': 1.8276053722458163, 'gamma': 0.1699482148642527}\n",
      "0.8614100736516986 {'C': 0.09256817498417978, 'gamma': 0.17920368194273503}\n",
      "0.8646828225231648 {'C': 2.1917681394813817, 'gamma': 0.0484727120359921}\n",
      "0.8712342599192209 {'C': 2.0007608169572806, 'gamma': 0.1325956415662778}\n",
      "0.8712342599192209 {'C': 2.0971688593783413, 'gamma': 0.1277047244207366}\n",
      "0.8679555713946305 {'C': 2.1533532975512366, 'gamma': 0.0749185795485639}\n",
      "0.8723271560940841 {'C': 2.1492658421372433, 'gamma': 0.13619338364011496}\n",
      "0.8646828225231648 {'C': 2.573791135970049, 'gamma': 0.046132153491904464}\n",
      "0.8635958660014256 {'C': 0.7573629934469441, 'gamma': 0.02504121668611087}\n",
      "0.8712342599192209 {'C': 1.500943852010071, 'gamma': 0.13456540594070276}\n"
     ]
    },
    {
     "name": "stderr",
     "output_type": "stream",
     "text": [
      "D:\\anaconda3\\Lib\\site-packages\\sklearn\\utils\\validation.py:1143: DataConversionWarning: A column-vector y was passed when a 1d array was expected. Please change the shape of y to (n_samples, ), for example using ravel().\n",
      "  y = column_or_1d(y, warn=True)\n"
     ]
    }
   ],
   "source": [
    "# Can reduce overfitting by lowering the C range and running again\n",
    "param_grid = param_distributions = [\n",
    "            {'C': uniform(0.01, 4.0),\n",
    "             'gamma': uniform(0.01, 0.2)\n",
    "            }\n",
    "            ]\n",
    "\n",
    "svc = SVC(kernel='rbf')\n",
    "\n",
    "# Defines limit of 5 models (n_inter), each ran 5 times (CV) for 25 total\n",
    "svc_search = RandomizedSearchCV(svc, param_distributions=param_grid,\n",
    "                                n_iter=500, cv=5, scoring='accuracy', random_state=13,n_jobs=-1)\n",
    "\n",
    "svc_search.fit(train_x, train_y)\n",
    "\n",
    "# Show results from random grid search above\n",
    "cvres = svc_search.cv_results_\n",
    "\n",
    "for mean_score, params in zip(cvres[\"mean_test_score\"], cvres[\"params\"]):\n",
    "    print(mean_score, params)"
   ]
  },
  {
   "cell_type": "code",
   "execution_count": 102,
   "id": "ba778e05-ee8c-4141-a4e2-596edce7765b",
   "metadata": {},
   "outputs": [
    {
     "data": {
      "text/plain": [
       "{'C': 2.5764533790362765, 'gamma': 0.15440364590338945}"
      ]
     },
     "execution_count": 102,
     "metadata": {},
     "output_type": "execute_result"
    }
   ],
   "source": [
    "svc_search.best_params_"
   ]
  },
  {
   "cell_type": "code",
   "execution_count": 103,
   "id": "741fc9cb-5688-4b6d-9a59-d6544b5a854e",
   "metadata": {},
   "outputs": [
    {
     "data": {
      "text/html": [
       "<style>#sk-container-id-15 {color: black;background-color: white;}#sk-container-id-15 pre{padding: 0;}#sk-container-id-15 div.sk-toggleable {background-color: white;}#sk-container-id-15 label.sk-toggleable__label {cursor: pointer;display: block;width: 100%;margin-bottom: 0;padding: 0.3em;box-sizing: border-box;text-align: center;}#sk-container-id-15 label.sk-toggleable__label-arrow:before {content: \"▸\";float: left;margin-right: 0.25em;color: #696969;}#sk-container-id-15 label.sk-toggleable__label-arrow:hover:before {color: black;}#sk-container-id-15 div.sk-estimator:hover label.sk-toggleable__label-arrow:before {color: black;}#sk-container-id-15 div.sk-toggleable__content {max-height: 0;max-width: 0;overflow: hidden;text-align: left;background-color: #f0f8ff;}#sk-container-id-15 div.sk-toggleable__content pre {margin: 0.2em;color: black;border-radius: 0.25em;background-color: #f0f8ff;}#sk-container-id-15 input.sk-toggleable__control:checked~div.sk-toggleable__content {max-height: 200px;max-width: 100%;overflow: auto;}#sk-container-id-15 input.sk-toggleable__control:checked~label.sk-toggleable__label-arrow:before {content: \"▾\";}#sk-container-id-15 div.sk-estimator input.sk-toggleable__control:checked~label.sk-toggleable__label {background-color: #d4ebff;}#sk-container-id-15 div.sk-label input.sk-toggleable__control:checked~label.sk-toggleable__label {background-color: #d4ebff;}#sk-container-id-15 input.sk-hidden--visually {border: 0;clip: rect(1px 1px 1px 1px);clip: rect(1px, 1px, 1px, 1px);height: 1px;margin: -1px;overflow: hidden;padding: 0;position: absolute;width: 1px;}#sk-container-id-15 div.sk-estimator {font-family: monospace;background-color: #f0f8ff;border: 1px dotted black;border-radius: 0.25em;box-sizing: border-box;margin-bottom: 0.5em;}#sk-container-id-15 div.sk-estimator:hover {background-color: #d4ebff;}#sk-container-id-15 div.sk-parallel-item::after {content: \"\";width: 100%;border-bottom: 1px solid gray;flex-grow: 1;}#sk-container-id-15 div.sk-label:hover label.sk-toggleable__label {background-color: #d4ebff;}#sk-container-id-15 div.sk-serial::before {content: \"\";position: absolute;border-left: 1px solid gray;box-sizing: border-box;top: 0;bottom: 0;left: 50%;z-index: 0;}#sk-container-id-15 div.sk-serial {display: flex;flex-direction: column;align-items: center;background-color: white;padding-right: 0.2em;padding-left: 0.2em;position: relative;}#sk-container-id-15 div.sk-item {position: relative;z-index: 1;}#sk-container-id-15 div.sk-parallel {display: flex;align-items: stretch;justify-content: center;background-color: white;position: relative;}#sk-container-id-15 div.sk-item::before, #sk-container-id-15 div.sk-parallel-item::before {content: \"\";position: absolute;border-left: 1px solid gray;box-sizing: border-box;top: 0;bottom: 0;left: 50%;z-index: -1;}#sk-container-id-15 div.sk-parallel-item {display: flex;flex-direction: column;z-index: 1;position: relative;background-color: white;}#sk-container-id-15 div.sk-parallel-item:first-child::after {align-self: flex-end;width: 50%;}#sk-container-id-15 div.sk-parallel-item:last-child::after {align-self: flex-start;width: 50%;}#sk-container-id-15 div.sk-parallel-item:only-child::after {width: 0;}#sk-container-id-15 div.sk-dashed-wrapped {border: 1px dashed gray;margin: 0 0.4em 0.5em 0.4em;box-sizing: border-box;padding-bottom: 0.4em;background-color: white;}#sk-container-id-15 div.sk-label label {font-family: monospace;font-weight: bold;display: inline-block;line-height: 1.2em;}#sk-container-id-15 div.sk-label-container {text-align: center;}#sk-container-id-15 div.sk-container {/* jupyter's `normalize.less` sets `[hidden] { display: none; }` but bootstrap.min.css set `[hidden] { display: none !important; }` so we also need the `!important` here to be able to override the default hidden behavior on the sphinx rendered scikit-learn.org. See: https://github.com/scikit-learn/scikit-learn/issues/21755 */display: inline-block !important;position: relative;}#sk-container-id-15 div.sk-text-repr-fallback {display: none;}</style><div id=\"sk-container-id-15\" class=\"sk-top-container\"><div class=\"sk-text-repr-fallback\"><pre>SVC(C=2.5764533790362765, gamma=0.15440364590338945)</pre><b>In a Jupyter environment, please rerun this cell to show the HTML representation or trust the notebook. <br />On GitHub, the HTML representation is unable to render, please try loading this page with nbviewer.org.</b></div><div class=\"sk-container\" hidden><div class=\"sk-item\"><div class=\"sk-estimator sk-toggleable\"><input class=\"sk-toggleable__control sk-hidden--visually\" id=\"sk-estimator-id-15\" type=\"checkbox\" checked><label for=\"sk-estimator-id-15\" class=\"sk-toggleable__label sk-toggleable__label-arrow\">SVC</label><div class=\"sk-toggleable__content\"><pre>SVC(C=2.5764533790362765, gamma=0.15440364590338945)</pre></div></div></div></div></div>"
      ],
      "text/plain": [
       "SVC(C=2.5764533790362765, gamma=0.15440364590338945)"
      ]
     },
     "execution_count": 103,
     "metadata": {},
     "output_type": "execute_result"
    }
   ],
   "source": [
    "svc_search.best_estimator_"
   ]
  },
  {
   "cell_type": "code",
   "execution_count": 104,
   "id": "bc247bbe-e9d9-4a2b-851d-a078a51fb66d",
   "metadata": {},
   "outputs": [
    {
     "data": {
      "text/plain": [
       "0.8549618320610687"
      ]
     },
     "execution_count": 104,
     "metadata": {},
     "output_type": "execute_result"
    }
   ],
   "source": [
    "final_model = svc_search.best_estimator_\n",
    "test_predictions = final_model.predict(test_x)\n",
    "#Test accuracy\n",
    "accuracy_score(test_y, test_predictions)"
   ]
  },
  {
   "cell_type": "code",
   "execution_count": null,
   "id": "0672e376-a0d7-479b-93aa-3eaba7e6594c",
   "metadata": {},
   "outputs": [],
   "source": []
  }
 ],
 "metadata": {
  "kernelspec": {
   "display_name": "Python 3 (ipykernel)",
   "language": "python",
   "name": "python3"
  },
  "language_info": {
   "codemirror_mode": {
    "name": "ipython",
    "version": 3
   },
   "file_extension": ".py",
   "mimetype": "text/x-python",
   "name": "python",
   "nbconvert_exporter": "python",
   "pygments_lexer": "ipython3",
   "version": "3.11.7"
  }
 },
 "nbformat": 4,
 "nbformat_minor": 5
}
